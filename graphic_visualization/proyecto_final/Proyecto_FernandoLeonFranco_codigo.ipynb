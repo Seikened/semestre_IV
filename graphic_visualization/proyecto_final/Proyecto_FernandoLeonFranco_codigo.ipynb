{
 "cells": [
  {
   "cell_type": "code",
   "execution_count": 2,
   "id": "6eb3a590",
   "metadata": {},
   "outputs": [],
   "source": [
    "import pandas as pd\n",
    "import matplotlib.pyplot as plt\n",
    "import numpy as np\n",
    "import plotly.express as px\n",
    "from matplotlib.colors import LinearSegmentedColormap\n",
    "from matplotlib.patches import Patch"
   ]
  },
  {
   "cell_type": "markdown",
   "id": "0eeade46",
   "metadata": {},
   "source": [
    "# Data frames"
   ]
  },
  {
   "cell_type": "code",
   "execution_count": null,
   "id": "d941fa4d",
   "metadata": {},
   "outputs": [],
   "source": [
    "listaLugares = (\n",
    "    'Alhóndiga',\n",
    "    'Basílica\\n Colegiata',\n",
    "    'Callejón\\n del Beso',\n",
    "    'Casa de\\n Diego Rivera',\n",
    "    'Jardín de\\n la Unión',\n",
    "    'Mercado\\n Hidalgo',\n",
    "    'Monumento\\n Pípila',\n",
    "    'Museo de \\n las Momias',\n",
    "    'Teatro \\n Juárez',\n",
    "    'Universidad de\\n Guanajuato'\n",
    ")\n",
    "\n",
    "Alhondiga = pd.read_csv('Alhóndiga 930.csv')\n",
    "Basilica = pd.read_csv('Basilica Colegiata 560.csv')\n",
    "Callejon = pd.read_csv('Callejón del Beso 1,360.csv')\n",
    "CasaDiego = pd.read_csv('Casa de Diego Rivera 698.csv')\n",
    "Jardin = pd.read_csv('Jardín de la Unión 1,134.csv')\n",
    "Mercado = pd.read_csv('Mercado Hidalgo 600.csv')\n",
    "Monumento = pd.read_csv('Monumento Pípila 1,620.csv')\n",
    "Museo = pd.read_csv('Museo de las Momias 1,650.csv')\n",
    "Teatro = pd.read_csv('Teatro Juárez 1,010.csv')\n",
    "Universidad = pd.read_csv('Universidad de Guanajuato 900.csv')"
   ]
  }
 ],
 "metadata": {
  "kernelspec": {
   "display_name": "semestre_IV",
   "language": "python",
   "name": "python3"
  },
  "language_info": {
   "codemirror_mode": {
    "name": "ipython",
    "version": 3
   },
   "file_extension": ".py",
   "mimetype": "text/x-python",
   "name": "python",
   "nbconvert_exporter": "python",
   "pygments_lexer": "ipython3",
   "version": "3.11.11"
  }
 },
 "nbformat": 4,
 "nbformat_minor": 5
}
