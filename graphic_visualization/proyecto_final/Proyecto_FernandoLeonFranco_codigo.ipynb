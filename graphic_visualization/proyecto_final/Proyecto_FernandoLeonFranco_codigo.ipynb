{
 "cells": [
  {
   "cell_type": "code",
   "execution_count": 106,
   "id": "6eb3a590",
   "metadata": {},
   "outputs": [],
   "source": [
    "import pandas as pd\n",
    "import matplotlib.pyplot as plt\n",
    "import numpy as np\n",
    "import plotly.express as px\n",
    "from matplotlib.colors import LinearSegmentedColormap\n",
    "from matplotlib.patches import Patch"
   ]
  },
  {
   "cell_type": "markdown",
   "id": "0eeade46",
   "metadata": {},
   "source": [
    "# Data frames"
   ]
  },
  {
   "cell_type": "code",
   "execution_count": 107,
   "id": "d941fa4d",
   "metadata": {},
   "outputs": [],
   "source": [
    "url_base = 'https://raw.githubusercontent.com/Seikened/semestre_IV/refs/heads/main/graphic_visualization/proyecto_final/data/'\n",
    "ds_alohondiga =url_base + 'alhondiga_930.csv'\n",
    "ds_basilica =url_base + 'basilica_colegiata_560.csv'\n",
    "ds_callejon =url_base + 'callejon_del_beso_1360.csv'\n",
    "ds_casadiego =url_base + 'casa_de_diego_rivera_698.csv'\n",
    "ds_jardin =url_base + 'jardin_de_la_union_1134.csv'\n",
    "ds_mercado =url_base + 'mercado_hidalgo_600.csv'\n",
    "ds_monumento =url_base + 'monumento_pipila_1620.csv'\n",
    "ds_museo =url_base + 'museo_de_las_momias_1650.csv'\n",
    "ds_teatro =url_base + 'teatro_juarez_1010.csv'\n",
    "ds_universidad =url_base + 'universidad_de_guanajuato_900.csv'\n",
    "\n",
    "\n",
    "\n",
    "# Dataframe de cada lugar\n",
    "df_alhondiga = pd.read_csv(ds_alohondiga)\n",
    "df_basilica = pd.read_csv(ds_basilica)\n",
    "df_callejon = pd.read_csv(ds_callejon)\n",
    "df_casadiego = pd.read_csv(ds_casadiego)\n",
    "df_jardin = pd.read_csv(ds_jardin)\n",
    "df_mercado = pd.read_csv(ds_mercado)\n",
    "df_monumento = pd.read_csv(ds_monumento)\n",
    "df_museo = pd.read_csv(ds_museo)\n",
    "df_teatro = pd.read_csv(ds_teatro)\n",
    "df_universidad = pd.read_csv(ds_universidad)"
   ]
  },
  {
   "cell_type": "code",
   "execution_count": 108,
   "id": "d1f57484",
   "metadata": {},
   "outputs": [],
   "source": [
    "lista_lugares = (\n",
    "    'Alhóndiga',\n",
    "    'Basílica\\n Colegiata',\n",
    "    'Callejón\\n del Beso',\n",
    "    'Casa de\\n Diego Rivera',\n",
    "    'Jardín de\\n la Unión',\n",
    "    'Mercado\\n Hidalgo',\n",
    "    'Monumento\\n Pípila',\n",
    "    'Museo de \\n las Momias',\n",
    "    'Teatro \\n Juárez',\n",
    "    'Universidad de\\n Guanajuato'\n",
    ")\n",
    "\n",
    "lugares_data = {\n",
    "    'Alhóndiga': df_alhondiga,\n",
    "    'Basílica \\nColegiata': df_basilica,\n",
    "    'Callejón del\\nBeso': df_callejon,\n",
    "    'Casa de\\nDiego Rivera': df_casadiego,\n",
    "    'Jardín de\\nla Unión': df_jardin,\n",
    "    'Mercado\\nHidalgo': df_mercado,\n",
    "    'Monumento\\nPípila': df_monumento,\n",
    "    'Museo de\\nlas Momias': df_museo,\n",
    "    'Teatro\\nJuárez': df_teatro,\n",
    "    'Universidad de\\nGuanajuato': df_universidad\n",
    "}"
   ]
  },
  {
   "cell_type": "code",
   "execution_count": 109,
   "id": "c5947b67",
   "metadata": {},
   "outputs": [
    {
     "name": "stdout",
     "output_type": "stream",
     "text": [
      "<class 'pandas.core.frame.DataFrame'>\n",
      "RangeIndex: 10462 entries, 0 to 10461\n",
      "Data columns (total 13 columns):\n",
      " #   Column                    Non-Null Count  Dtype  \n",
      "---  ------                    --------------  -----  \n",
      " 0   Género                    10462 non-null  object \n",
      " 1   Edad                      9747 non-null   float64\n",
      " 2   Nacional ó Internacional  10462 non-null  object \n",
      " 3   Calificación              10462 non-null  object \n",
      " 4   Escala                    10462 non-null  int64  \n",
      " 5   Número de aportaciones    10461 non-null  float64\n",
      " 6   Título de la opinión      10462 non-null  object \n",
      " 7   Opinión                   10462 non-null  object \n",
      " 8   País                      10462 non-null  object \n",
      " 9   Idioma                    10462 non-null  object \n",
      " 10  Dispositivo               10462 non-null  object \n",
      " 11  Fecha                     10462 non-null  object \n",
      " 12  sitio                     10462 non-null  object \n",
      "dtypes: float64(2), int64(1), object(10)\n",
      "memory usage: 1.0+ MB\n"
     ]
    }
   ],
   "source": [
    "for site_name, df in lugares_data.items():\n",
    "    df['sitio'] = site_name\n",
    "\n",
    "all_sites = pd.concat(lugares_data.values(), ignore_index=True)\n",
    "all_sites.info()"
   ]
  },
  {
   "cell_type": "code",
   "execution_count": 110,
   "id": "a17daf9f",
   "metadata": {},
   "outputs": [
    {
     "data": {
      "text/plain": [
       "np.float64(40.706593406593406)"
      ]
     },
     "execution_count": 110,
     "metadata": {},
     "output_type": "execute_result"
    }
   ],
   "source": [
    "df_alhondiga['Edad'].mean()"
   ]
  },
  {
   "cell_type": "code",
   "execution_count": 111,
   "id": "d07fa8b1",
   "metadata": {},
   "outputs": [
    {
     "name": "stdout",
     "output_type": "stream",
     "text": [
      "[41, 42, 39, 44, 41, 41, 38, 39, 42, 39]\n"
     ]
    }
   ],
   "source": [
    "lista_edades = []\n",
    "for lugar in lugares_data:\n",
    "    promedio_edad = lugares_data[lugar]['Edad'].mean()\n",
    "    lista_edades.append(round(promedio_edad))\n",
    "print(lista_edades)"
   ]
  },
  {
   "cell_type": "code",
   "execution_count": 112,
   "id": "367a13b9",
   "metadata": {},
   "outputs": [
    {
     "data": {
      "image/png": "[encoded data removed]",
      "text/plain": [
       "<Figure size 1500x800 with 1 Axes>"
      ]
     },
     "metadata": {},
     "output_type": "display_data"
    }
   ],
   "source": [
    "plt.figure(figsize=(15, 8))\n",
    "\n",
    "# Paleta de colores vibrantes inspirada en turismo\n",
    "turismo_colors = [\n",
    "    \"#FFB300\", # Amarillo sol\n",
    "    \"#FF7043\", # Naranja cálido\n",
    "    \"#29B6F6\", # Azul cielo\n",
    "    \"#66BB6A\", # Verde naturaleza\n",
    "    \"#AB47BC\", # Morado fiesta\n",
    "    \"#EC407A\", # Rosa mexicano\n",
    "    \"#FFA726\", # Naranja atardecer\n",
    "    \"#26C6DA\", # Turquesa\n",
    "    \"#8D6E63\", # Café tierra\n",
    "    \"#FFD600\"  # Amarillo brillante\n",
    "]\n",
    "\n",
    "barras = plt.bar(lista_lugares, lista_edades, \n",
    "                 color=turismo_colors, \n",
    "                 edgecolor='#333', linewidth=2, alpha=0.95)\n",
    "\n",
    "plt.title('Promedio de Edad por Lugar Turístico de Guanajuato', fontsize=22, fontweight='bold', pad=30, color='#283747')\n",
    "plt.ylabel('Promedio de Edad', fontsize=16, fontweight='bold', labelpad=15, color='#1b2631')\n",
    "plt.grid(axis='y', linestyle=':', alpha=0.25)\n",
    "\n",
    "plt.gca().set_facecolor('#f8fafc')\n",
    "plt.gcf().patch.set_facecolor('#e3f2fd')\n",
    "\n",
    "plt.xticks(rotation=30, ha='right', fontsize=14, fontweight='bold', color='#34495e')\n",
    "\n",
    "for barra, edad in zip(barras, lista_edades):\n",
    "    plt.text(barra.get_x() + barra.get_width() / 2, \n",
    "             barra.get_height() + 0.7,  \n",
    "             f'{int(edad)}',  \n",
    "             ha='center', va='bottom', \n",
    "             fontsize=13, fontweight='bold', \n",
    "             color='#283747')\n",
    "\n",
    "promedio = np.mean(lista_edades)\n",
    "plt.axhline(y=promedio, color='#00b894', linestyle='--', linewidth=2.5, \n",
    "            label=f'Promedio General: {promedio:.0f} años')\n",
    "\n",
    "legend_elements = [\n",
    "    Patch(facecolor='#00b894', edgecolor='none', label='Promedio General')\n",
    "]\n",
    "plt.legend(handles=legend_elements, loc='upper right', framealpha=1, fontsize=14)\n",
    "\n",
    "plt.tight_layout()\n",
    "plt.show()"
   ]
  },
  {
   "cell_type": "code",
   "execution_count": 113,
   "id": "d1da7cfd",
   "metadata": {},
   "outputs": [
    {
     "data": {
      "text/plain": [
       "array(['Excelente', 'Muy bueno', 'Pésimo', 'Regular', 'Malo'],\n",
       "      dtype=object)"
      ]
     },
     "execution_count": 113,
     "metadata": {},
     "output_type": "execute_result"
    }
   ],
   "source": [
    "df_alhondiga.Calificación.unique()"
   ]
  },
  {
   "cell_type": "code",
   "execution_count": 114,
   "id": "d4cfc5e4",
   "metadata": {},
   "outputs": [
    {
     "name": "stdout",
     "output_type": "stream",
     "text": [
      "                        sitio  promedioCalificacion  desviacionCalificacion\n",
      "8              Teatro\\nJuárez              4.702970                0.518146\n",
      "9  Universidad de\\nGuanajuato              4.603333                0.612613\n",
      "4         Jardín de\\nla Unión              4.591711                0.607370\n",
      "1        Basílica \\nColegiata              4.500000                0.668750\n",
      "0                   Alhóndiga              4.454839                0.745711\n",
      "6           Monumento\\nPípila              4.377778                0.767950\n",
      "3       Casa de\\nDiego Rivera              4.243553                0.804039\n",
      "2          Callejón del\\nBeso              3.995588                0.971247\n",
      "5            Mercado\\nHidalgo              3.948333                0.950703\n",
      "7        Museo de\\nlas Momias              3.675152                1.136495\n"
     ]
    }
   ],
   "source": [
    "promedioYDesviacion = all_sites.groupby('sitio').agg(\n",
    "    promedioCalificacion=('Escala', 'mean'),\n",
    "    desviacionCalificacion=('Escala', 'std')\n",
    ").reset_index()\n",
    "promedioYDesviacion = promedioYDesviacion.sort_values(by='promedioCalificacion', ascending=False)\n",
    "top_10 = promedioYDesviacion.head(10)\n",
    "print(top_10)"
   ]
  },
  {
   "cell_type": "code",
   "execution_count": 115,
   "id": "e7609b38",
   "metadata": {},
   "outputs": [
    {
     "data": {
      "image/png": "[encoded data removed]",
      "text/plain": [
       "<Figure size 1500x800 with 1 Axes>"
      ]
     },
     "metadata": {},
     "output_type": "display_data"
    }
   ],
   "source": [
    "sitios = promedioYDesviacion['sitio']\n",
    "promedios = promedioYDesviacion['promedioCalificacion']\n",
    "desviaciones = promedioYDesviacion['desviacionCalificacion']\n",
    "\n",
    "plt.figure(figsize=(15, 8))\n",
    "\n",
    "turismo_colors = ['#FFB300', '#FF7043', '#29B6F6', '#66BB6A', '#AB47BC', '#EC407A', '#FFA726', '#26C6DA', '#8D6E63', '#FFD600']\n",
    "\n",
    "barras = plt.bar(sitios, promedios, \n",
    "                 yerr=desviaciones, capsize=8,\n",
    "                 color=turismo_colors, \n",
    "                 edgecolor='#333', linewidth=2, alpha=0.95,\n",
    "                 error_kw={'elinewidth': 2, 'ecolor': '#34495e'})\n",
    "\n",
    "plt.title('Calificación por sitio turístico en la ciudad Guanajuato\\nPromedio con Desviación Estándar',\n",
    "          fontsize=22, fontweight='bold', pad=30, color='#283747')\n",
    "plt.ylabel('Promedio de Calificación', fontsize=16, fontweight='bold', labelpad=15, color='#1b2631')\n",
    "plt.grid(axis='y', linestyle=':', alpha=0.25)\n",
    "\n",
    "plt.gca().set_facecolor('#f8fafc')\n",
    "plt.gcf().patch.set_facecolor('#e3f2fd')\n",
    "\n",
    "plt.xticks(rotation=30, ha='right', fontsize=14, fontweight='bold', color='#34495e')\n",
    "\n",
    "for barra, promedio in zip(barras, promedios):\n",
    "    plt.text(barra.get_x() + barra.get_width() / 2, \n",
    "             barra.get_height() + 0.05,  \n",
    "             f'{promedio:.2f}',  \n",
    "             ha='center', va='bottom', \n",
    "             fontsize=13, fontweight='bold', \n",
    "             color='#283747')\n",
    "\n",
    "promedio_global = np.mean(promedios)\n",
    "plt.axhline(y=promedio_global, color='#00b894', linestyle='--', linewidth=2.5, \n",
    "            label=f'Promedio General: {promedio_global:.2f}')\n",
    "\n",
    "legend_elements = [\n",
    "    Patch(facecolor='#00b894', edgecolor='none', label='Promedio General')\n",
    "]\n",
    "plt.legend(handles=legend_elements, loc='upper right', framealpha=1, fontsize=14)\n",
    "\n",
    "plt.tight_layout()\n",
    "plt.show()"
   ]
  },
  {
   "cell_type": "code",
   "execution_count": 116,
   "id": "4e5a0ff3",
   "metadata": {},
   "outputs": [
    {
     "name": "stdout",
     "output_type": "stream",
     "text": [
      "Nacional ó Internacional\n",
      "Nacional         5639\n",
      "Internacional    4823\n",
      "Name: count, dtype: int64\n",
      "Nacional 53.89982794876696, Internacional 46.10017205123304\n"
     ]
    }
   ],
   "source": [
    "conteo = all_sites['Nacional ó Internacional'].value_counts()\n",
    "print(conteo)\n",
    "\n",
    "total_personas = (5639 + 4823) \n",
    "nacional = (5639 / total_personas) * 100\n",
    "internacional = ( 4823 / total_personas) * 100\n",
    "print(f'Nacional {nacional}, Internacional {internacional}')\n"
   ]
  },
  {
   "cell_type": "code",
   "execution_count": 117,
   "id": "4d9c766f",
   "metadata": {},
   "outputs": [
    {
     "data": {
      "image/png": "[encoded data removed]",
      "text/plain": [
       "<Figure size 700x700 with 1 Axes>"
      ]
     },
     "metadata": {},
     "output_type": "display_data"
    }
   ],
   "source": [
    "plt.style.use('seaborn-v0_8-pastel')\n",
    "plt.rcParams['font.family'] = 'DejaVu Sans'\n",
    "\n",
    "conteo = pd.Series([nacional, internacional], index=['Nacionales', 'Internacionales'])\n",
    "\n",
    "fig, ax = plt.subplots(figsize=(7, 7), facecolor='#f8fafc')\n",
    "colors = ['#29B6F6', '#AB47BC']\n",
    "explode = (0.07, 0)\n",
    "\n",
    "wedges, texts, autotexts = ax.pie(\n",
    "    conteo,\n",
    "    labels=conteo.index,\n",
    "    colors=colors,\n",
    "    autopct=lambda p: f'{p:.1f}%\\n({int(round(p*sum(conteo)/100))})',\n",
    "    startangle=120,\n",
    "    explode=explode,\n",
    "    shadow=False,\n",
    "    wedgeprops={'linewidth': 2, 'edgecolor': '#f8fafc'},\n",
    "    textprops={'fontsize': 14, 'fontweight': 'bold'}\n",
    ")\n",
    "\n",
    "for autotext in autotexts:\n",
    "    autotext.set_color('white')\n",
    "    autotext.set_fontsize(13)\n",
    "    autotext.set_fontweight('bold')\n",
    "    autotext.set_bbox(dict(facecolor='#222', alpha=0.15, edgecolor='none', boxstyle='round,pad=0.3'))\n",
    "\n",
    "ax.set_title(\n",
    "    'Proporción de visitantes nacionales e internacionales\\nTurismo en Guanajuato capital',\n",
    "    fontsize=20, fontweight='bold', pad=28, color='#283747'\n",
    ")\n",
    "\n",
    "ax.legend(\n",
    "    wedges, conteo.index,\n",
    "    title=\"Categoría\",\n",
    "    loc=\"center left\",\n",
    "    bbox_to_anchor=(1, 0.5),\n",
    "    frameon=False,\n",
    "    fontsize=13,\n",
    "    title_fontsize=14\n",
    ")\n",
    "\n",
    "plt.figtext(\n",
    "    0.5, 0.02,\n",
    "    f'Total de personas: {total_personas}',\n",
    "    ha='center', fontsize=12, style='italic', color='#34495e', alpha=0.8\n",
    ")\n",
    "\n",
    "centre_circle = plt.Circle((0, 0), 0.60, fc='#f8fafc')\n",
    "fig.gca().add_artist(centre_circle)\n",
    "\n",
    "ax.axis('equal')\n",
    "plt.tight_layout()\n",
    "plt.show()"
   ]
  },
  {
   "cell_type": "code",
   "execution_count": 118,
   "id": "0edfaa91",
   "metadata": {},
   "outputs": [
    {
     "name": "stdout",
     "output_type": "stream",
     "text": [
      "['Masculino' 'Femenino' ' Masculino' 'masculino']\n",
      "Todos los datos de hombres:\n",
      "                   sitio  promedio_calificacion  desviacion_calificacion\n",
      "0              Alhóndiga               4.463938                 0.733654\n",
      "1   Basílica \\nColegiata               4.438486                 0.684481\n",
      "2     Callejón del\\nBeso               3.952802                 0.989225\n",
      "3  Casa de\\nDiego Rivera               4.240688                 0.791082\n",
      "4    Jardín de\\nla Unión               4.568910                 0.606329\n",
      "\n",
      "Todos los datos de mujeres:\n",
      "                   sitio  promedio_calificacion  desviacion_calificacion\n",
      "0              Alhóndiga               4.443645                 0.761018\n",
      "1   Basílica \\nColegiata               4.580247                 0.640200\n",
      "2     Callejón del\\nBeso               4.038123                 0.951858\n",
      "3  Casa de\\nDiego Rivera               4.246418                 0.817917\n",
      "4    Jardín de\\nla Unión               4.619608                 0.608073\n"
     ]
    }
   ],
   "source": [
    "print(all_sites['Género'].unique())\n",
    "all_sites['Género'] = all_sites['Género'].str.strip().str.capitalize()\n",
    "hombres_df = all_sites[all_sites['Género'] == 'Masculino']\n",
    "mujeres_df = all_sites[all_sites['Género'] == 'Femenino']\n",
    "\n",
    "calificaciones_hombres = hombres_df.groupby('sitio').agg(\n",
    "    promedio_calificacion=('Escala', 'mean'),\n",
    "    desviacion_calificacion=('Escala', 'std')\n",
    ").reset_index()\n",
    "\n",
    "calificaciones_mujeres = mujeres_df.groupby('sitio').agg(\n",
    "    promedio_calificacion=('Escala', 'mean'),\n",
    "    desviacion_calificacion=('Escala', 'std')\n",
    ").reset_index()\n",
    "\n",
    "print(\"Todos los datos de hombres:\")\n",
    "print(calificaciones_hombres.head())\n",
    "\n",
    "print(\"\\nTodos los datos de mujeres:\")\n",
    "print(calificaciones_mujeres.head())\n",
    "\n",
    "sitios = calificaciones_hombres['sitio']\n",
    "promedio_h = calificaciones_hombres['promedio_calificacion']\n",
    "promedio_m = calificaciones_mujeres['promedio_calificacion']\n",
    "error_h = calificaciones_hombres['desviacion_calificacion']\n",
    "error_m = calificaciones_mujeres['desviacion_calificacion']\n"
   ]
  },
  {
   "cell_type": "code",
   "execution_count": 119,
   "id": "1859d3d9",
   "metadata": {},
   "outputs": [
    {
     "data": {
      "image/png": "[encoded data removed]",
      "text/plain": [
       "<Figure size 1500x800 with 1 Axes>"
      ]
     },
     "metadata": {},
     "output_type": "display_data"
    }
   ],
   "source": [
    "# Paleta de colores alusiva al turismo y diversidad\n",
    "color_hombres = \"#29B6F6\"   # Azul vibrante\n",
    "color_mujeres = \"#EC407A\"   # Rosa mexicano\n",
    "color_media = \"#00b894\"     # Verde para la media\n",
    "\n",
    "cmap_hombres = LinearSegmentedColormap.from_list('hombres', [color_hombres, \"#81d4fa\"])\n",
    "cmap_mujeres = LinearSegmentedColormap.from_list('mujeres', [color_mujeres, \"#f8bbd0\"])\n",
    "x = np.arange(len(sitios))\n",
    "width = 0.30\n",
    "\n",
    "fig, ax = plt.subplots(figsize=(15, 8))\n",
    "fig.patch.set_facecolor('#e3f2fd')\n",
    "ax.set_facecolor('#f8fafc')\n",
    "\n",
    "for i in x:\n",
    "       ax.bar(i - width/2, promedio_h[i], width, \n",
    "                 color=cmap_hombres(0.7), \n",
    "                 edgecolor='#1565c0', linewidth=2,\n",
    "                 yerr=error_h[i], capsize=8, ecolor='#34495e',\n",
    "                 error_kw={'linewidth': 2})\n",
    "       ax.bar(i + width/2, promedio_m[i], width,\n",
    "                 color=cmap_mujeres(0.7),\n",
    "                 edgecolor='#ad1457', linewidth=2,\n",
    "                 yerr=error_m[i], capsize=8, ecolor='#78281f',\n",
    "                 error_kw={'linewidth': 2})\n",
    "\n",
    "mean_total = np.concatenate([promedio_h, promedio_m]).mean()\n",
    "ax.axhline(mean_total, color=color_media, linestyle='--', linewidth=2.5, label=f'Media Global: {mean_total:.2f}')\n",
    "\n",
    "\n",
    "for i in x:\n",
    "       ax.text(i - width/2, promedio_h[i] + 0.08, f'{promedio_h[i]:.2f}',\n",
    "                 ha='center', va='bottom', fontsize=12, fontweight='bold', color='#1565c0')\n",
    "       ax.text(i + width/2, promedio_m[i] + 0.08, f'{promedio_m[i]:.2f}',\n",
    "                 ha='center', va='bottom', fontsize=12, fontweight='bold', color='#ad1457')\n",
    "\n",
    "ax.set_ylabel('Promedio de Calificación', fontsize=16, fontweight='bold', labelpad=15, color='#1b2631')\n",
    "ax.set_title('Comparativa de Calificaciones por Género y Sitio Turístico en Guanajuato', \n",
    "                      fontsize=22, fontweight='bold', pad=30, color='#283747')\n",
    "ax.set_xticks(x)\n",
    "ax.set_xticklabels(sitios, rotation=30, ha='right', fontsize=14, fontweight='bold', color='#34495e')\n",
    "\n",
    "legend_elements = [\n",
    "       Patch(facecolor=cmap_hombres(0.7), edgecolor='#1565c0', label='Hombres'),\n",
    "       Patch(facecolor=cmap_mujeres(0.7), edgecolor='#ad1457', label='Mujeres'),\n",
    "       plt.Line2D([0], [0], color=color_media, linestyle='--', linewidth=2.5, label=f'Media Global: {mean_total:.2f}')\n",
    "]\n",
    "\n",
    "ax.legend(handles=legend_elements,\n",
    "                bbox_to_anchor=(1, 1),  \n",
    "                loc='upper left',            \n",
    "                frameon=True,\n",
    "                shadow=True,\n",
    "                title='Leyenda:',\n",
    "                title_fontsize=14,\n",
    "                fontsize=13,\n",
    "                borderaxespad=0.5)\n",
    "\n",
    "plt.tight_layout()\n",
    "plt.show()"
   ]
  },
  {
   "cell_type": "code",
   "execution_count": 120,
   "id": "2220186a",
   "metadata": {},
   "outputs": [
    {
     "data": {
      "text/html": [
       "<div>\n",
       "<style scoped>\n",
       "    .dataframe tbody tr th:only-of-type {\n",
       "        vertical-align: middle;\n",
       "    }\n",
       "\n",
       "    .dataframe tbody tr th {\n",
       "        vertical-align: top;\n",
       "    }\n",
       "\n",
       "    .dataframe thead th {\n",
       "        text-align: right;\n",
       "    }\n",
       "</style>\n",
       "<table border=\"1\" class=\"dataframe\">\n",
       "  <thead>\n",
       "    <tr style=\"text-align: right;\">\n",
       "      <th></th>\n",
       "      <th>Año</th>\n",
       "      <th>sitio</th>\n",
       "      <th>promedioCalificacion</th>\n",
       "    </tr>\n",
       "  </thead>\n",
       "  <tbody>\n",
       "    <tr>\n",
       "      <th>106</th>\n",
       "      <td>2018</td>\n",
       "      <td>Universidad de&lt;br&gt;Guanajuato</td>\n",
       "      <td>4.553571</td>\n",
       "    </tr>\n",
       "    <tr>\n",
       "      <th>105</th>\n",
       "      <td>2018</td>\n",
       "      <td>Teatro&lt;br&gt;Juárez</td>\n",
       "      <td>4.727273</td>\n",
       "    </tr>\n",
       "    <tr>\n",
       "      <th>104</th>\n",
       "      <td>2018</td>\n",
       "      <td>Museo de&lt;br&gt;las Momias</td>\n",
       "      <td>3.655172</td>\n",
       "    </tr>\n",
       "    <tr>\n",
       "      <th>103</th>\n",
       "      <td>2018</td>\n",
       "      <td>Monumento&lt;br&gt;Pípila</td>\n",
       "      <td>4.504425</td>\n",
       "    </tr>\n",
       "    <tr>\n",
       "      <th>102</th>\n",
       "      <td>2018</td>\n",
       "      <td>Mercado&lt;br&gt;Hidalgo</td>\n",
       "      <td>3.896552</td>\n",
       "    </tr>\n",
       "  </tbody>\n",
       "</table>\n",
       "</div>"
      ],
      "text/plain": [
       "      Año                         sitio  promedioCalificacion\n",
       "106  2018  Universidad de<br>Guanajuato              4.553571\n",
       "105  2018              Teatro<br>Juárez              4.727273\n",
       "104  2018        Museo de<br>las Momias              3.655172\n",
       "103  2018           Monumento<br>Pípila              4.504425\n",
       "102  2018            Mercado<br>Hidalgo              3.896552"
      ]
     },
     "execution_count": 120,
     "metadata": {},
     "output_type": "execute_result"
    }
   ],
   "source": [
    "all_sites['sitio'] = all_sites['sitio'].str.replace('\\n', '<br>')\n",
    "all_sites.sitio\n",
    "all_sites['Fecha'].max()\n",
    "all_sites['Fecha'].min()\n",
    "all_sites['Año'] = pd.to_datetime(all_sites['Fecha']).dt.year\n",
    "\n",
    "\n",
    "# Agrupamos por año y sitio\n",
    "evolucion_calificaciones = all_sites.groupby(['Año', 'sitio']).agg(\n",
    "    promedioCalificacion=('Escala', 'mean')\n",
    ").reset_index()\n",
    "evolucion_calificaciones = evolucion_calificaciones.sort_values(by='Año', ascending=False)\n",
    "evolucion_calificaciones.head()"
   ]
  },
  {
   "cell_type": "code",
   "execution_count": 121,
   "id": "ed7f1f06",
   "metadata": {},
   "outputs": [
    {
     "data": {
      "application/vnd.plotly.v1+json": {
       "config": {
        "plotlyServerURL": "https://plot.ly"
       },
       "data": [
        {
         "hovertemplate": "Sitio Turístico=%{x}<br>Año=2018<br>Promedio de Calificación=%{text}<extra></extra>",
         "legendgroup": "Universidad de<br>Guanajuato",
         "marker": {
          "color": "#FFB300",
          "line": {
           "color": "#333",
           "width": 2
          },
          "pattern": {
           "shape": ""
          }
         },
         "name": "Universidad de<br>Guanajuato",
         "opacity": 0.95,
         "orientation": "v",
         "showlegend": true,
         "text": {
          "bdata": "btu2bds2EkA=",
          "dtype": "f8"
         },
         "textposition": "outside",
         "texttemplate": "%{text:.2f}",
         "type": "bar",
         "x": [
          "Universidad de<br>Guanajuato"
         ],
         "xaxis": "x",
         "y": {
          "bdata": "btu2bds2EkA=",
          "dtype": "f8"
         },
         "yaxis": "y"
        },
        {
         "hovertemplate": "Sitio Turístico=%{x}<br>Año=2018<br>Promedio de Calificación=%{text}<extra></extra>",
         "legendgroup": "Teatro<br>Juárez",
         "marker": {
          "color": "#FF7043",
          "line": {
           "color": "#333",
           "width": 2
          },
          "pattern": {
           "shape": ""
          }
         },
         "name": "Teatro<br>Juárez",
         "opacity": 0.95,
         "orientation": "v",
         "showlegend": true,
         "text": {
          "bdata": "6aKLLrroEkA=",
          "dtype": "f8"
         },
         "textposition": "outside",
         "texttemplate": "%{text:.2f}",
         "type": "bar",
         "x": [
          "Teatro<br>Juárez"
         ],
         "xaxis": "x",
         "y": {
          "bdata": "6aKLLrroEkA=",
          "dtype": "f8"
         },
         "yaxis": "y"
        },
        {
         "hovertemplate": "Sitio Turístico=%{x}<br>Año=2018<br>Promedio de Calificación=%{text}<extra></extra>",
         "legendgroup": "Museo de<br>las Momias",
         "marker": {
          "color": "#29B6F6",
          "line": {
           "color": "#333",
           "width": 2
          },
          "pattern": {
           "shape": ""
          }
         },
         "name": "Museo de<br>las Momias",
         "opacity": 0.95,
         "orientation": "v",
         "showlegend": true,
         "text": {
          "bdata": "sdzTCMs9DUA=",
          "dtype": "f8"
         },
         "textposition": "outside",
         "texttemplate": "%{text:.2f}",
         "type": "bar",
         "x": [
          "Museo de<br>las Momias"
         ],
         "xaxis": "x",
         "y": {
          "bdata": "sdzTCMs9DUA=",
          "dtype": "f8"
         },
         "yaxis": "y"
        },
        {
         "hovertemplate": "Sitio Turístico=%{x}<br>Año=2018<br>Promedio de Calificación=%{text}<extra></extra>",
         "legendgroup": "Monumento<br>Pípila",
         "marker": {
          "color": "#66BB6A",
          "line": {
           "color": "#333",
           "width": 2
          },
          "pattern": {
           "shape": ""
          }
         },
         "name": "Monumento<br>Pípila",
         "opacity": 0.95,
         "orientation": "v",
         "showlegend": true,
         "text": {
          "bdata": "f0jg7YcEEkA=",
          "dtype": "f8"
         },
         "textposition": "outside",
         "texttemplate": "%{text:.2f}",
         "type": "bar",
         "x": [
          "Monumento<br>Pípila"
         ],
         "xaxis": "x",
         "y": {
          "bdata": "f0jg7YcEEkA=",
          "dtype": "f8"
         },
         "yaxis": "y"
        },
        {
         "hovertemplate": "Sitio Turístico=%{x}<br>Año=2018<br>Promedio de Calificación=%{text}<extra></extra>",
         "legendgroup": "Mercado<br>Hidalgo",
         "marker": {
          "color": "#AB47BC",
          "line": {
           "color": "#333",
           "width": 2
          },
          "pattern": {
           "shape": ""
          }
         },
         "name": "Mercado<br>Hidalgo",
         "opacity": 0.95,
         "orientation": "v",
         "showlegend": true,
         "text": {
          "bdata": "NcJyTyMsD0A=",
          "dtype": "f8"
         },
         "textposition": "outside",
         "texttemplate": "%{text:.2f}",
         "type": "bar",
         "x": [
          "Mercado<br>Hidalgo"
         ],
         "xaxis": "x",
         "y": {
          "bdata": "NcJyTyMsD0A=",
          "dtype": "f8"
         },
         "yaxis": "y"
        },
        {
         "hovertemplate": "Sitio Turístico=%{x}<br>Año=2018<br>Promedio de Calificación=%{text}<extra></extra>",
         "legendgroup": "Jardín de<br>la Unión",
         "marker": {
          "color": "#EC407A",
          "line": {
           "color": "#333",
           "width": 2
          },
          "pattern": {
           "shape": ""
          }
         },
         "name": "Jardín de<br>la Unión",
         "opacity": 0.95,
         "orientation": "v",
         "showlegend": true,
         "text": {
          "bdata": "MsYYY4wxEkA=",
          "dtype": "f8"
         },
         "textposition": "outside",
         "texttemplate": "%{text:.2f}",
         "type": "bar",
         "x": [
          "Jardín de<br>la Unión"
         ],
         "xaxis": "x",
         "y": {
          "bdata": "MsYYY4wxEkA=",
          "dtype": "f8"
         },
         "yaxis": "y"
        },
        {
         "hovertemplate": "Sitio Turístico=%{x}<br>Año=2018<br>Promedio de Calificación=%{text}<extra></extra>",
         "legendgroup": "Callejón del<br>Beso",
         "marker": {
          "color": "#FFA726",
          "line": {
           "color": "#333",
           "width": 2
          },
          "pattern": {
           "shape": ""
          }
         },
         "name": "Callejón del<br>Beso",
         "opacity": 0.95,
         "orientation": "v",
         "showlegend": true,
         "text": {
          "bdata": "VXJeFvEJEEA=",
          "dtype": "f8"
         },
         "textposition": "outside",
         "texttemplate": "%{text:.2f}",
         "type": "bar",
         "x": [
          "Callejón del<br>Beso"
         ],
         "xaxis": "x",
         "y": {
          "bdata": "VXJeFvEJEEA=",
          "dtype": "f8"
         },
         "yaxis": "y"
        },
        {
         "hovertemplate": "Sitio Turístico=%{x}<br>Año=2018<br>Promedio de Calificación=%{text}<extra></extra>",
         "legendgroup": "Basílica <br>Colegiata",
         "marker": {
          "color": "#26C6DA",
          "line": {
           "color": "#333",
           "width": 2
          },
          "pattern": {
           "shape": ""
          }
         },
         "name": "Basílica <br>Colegiata",
         "opacity": 0.95,
         "orientation": "v",
         "showlegend": true,
         "text": {
          "bdata": "WchCFrKQEUA=",
          "dtype": "f8"
         },
         "textposition": "outside",
         "texttemplate": "%{text:.2f}",
         "type": "bar",
         "x": [
          "Basílica <br>Colegiata"
         ],
         "xaxis": "x",
         "y": {
          "bdata": "WchCFrKQEUA=",
          "dtype": "f8"
         },
         "yaxis": "y"
        },
        {
         "hovertemplate": "Sitio Turístico=%{x}<br>Año=2018<br>Promedio de Calificación=%{text}<extra></extra>",
         "legendgroup": "Alhóndiga",
         "marker": {
          "color": "#8D6E63",
          "line": {
           "color": "#333",
           "width": 2
          },
          "pattern": {
           "shape": ""
          }
         },
         "name": "Alhóndiga",
         "opacity": 0.95,
         "orientation": "v",
         "showlegend": true,
         "text": {
          "bdata": "uy+PrQgaEkA=",
          "dtype": "f8"
         },
         "textposition": "outside",
         "texttemplate": "%{text:.2f}",
         "type": "bar",
         "x": [
          "Alhóndiga"
         ],
         "xaxis": "x",
         "y": {
          "bdata": "uy+PrQgaEkA=",
          "dtype": "f8"
         },
         "yaxis": "y"
        }
       ],
       "frames": [
        {
         "data": [
          {
           "hovertemplate": "Sitio Turístico=%{x}<br>Año=2018<br>Promedio de Calificación=%{text}<extra></extra>",
           "legendgroup": "Universidad de<br>Guanajuato",
           "marker": {
            "color": "#FFB300",
            "pattern": {
             "shape": ""
            }
           },
           "name": "Universidad de<br>Guanajuato",
           "orientation": "v",
           "showlegend": true,
           "text": {
            "bdata": "btu2bds2EkA=",
            "dtype": "f8"
           },
           "textposition": "auto",
           "type": "bar",
           "x": [
            "Universidad de<br>Guanajuato"
           ],
           "xaxis": "x",
           "y": {
            "bdata": "btu2bds2EkA=",
            "dtype": "f8"
           },
           "yaxis": "y"
          },
          {
           "hovertemplate": "Sitio Turístico=%{x}<br>Año=2018<br>Promedio de Calificación=%{text}<extra></extra>",
           "legendgroup": "Teatro<br>Juárez",
           "marker": {
            "color": "#FF7043",
            "pattern": {
             "shape": ""
            }
           },
           "name": "Teatro<br>Juárez",
           "orientation": "v",
           "showlegend": true,
           "text": {
            "bdata": "6aKLLrroEkA=",
            "dtype": "f8"
           },
           "textposition": "auto",
           "type": "bar",
           "x": [
            "Teatro<br>Juárez"
           ],
           "xaxis": "x",
           "y": {
            "bdata": "6aKLLrroEkA=",
            "dtype": "f8"
           },
           "yaxis": "y"
          },
          {
           "hovertemplate": "Sitio Turístico=%{x}<br>Año=2018<br>Promedio de Calificación=%{text}<extra></extra>",
           "legendgroup": "Museo de<br>las Momias",
           "marker": {
            "color": "#29B6F6",
            "pattern": {
             "shape": ""
            }
           },
           "name": "Museo de<br>las Momias",
           "orientation": "v",
           "showlegend": true,
           "text": {
            "bdata": "sdzTCMs9DUA=",
            "dtype": "f8"
           },
           "textposition": "auto",
           "type": "bar",
           "x": [
            "Museo de<br>las Momias"
           ],
           "xaxis": "x",
           "y": {
            "bdata": "sdzTCMs9DUA=",
            "dtype": "f8"
           },
           "yaxis": "y"
          },
          {
           "hovertemplate": "Sitio Turístico=%{x}<br>Año=2018<br>Promedio de Calificación=%{text}<extra></extra>",
           "legendgroup": "Monumento<br>Pípila",
           "marker": {
            "color": "#66BB6A",
            "pattern": {
             "shape": ""
            }
           },
           "name": "Monumento<br>Pípila",
           "orientation": "v",
           "showlegend": true,
           "text": {
            "bdata": "f0jg7YcEEkA=",
            "dtype": "f8"
           },
           "textposition": "auto",
           "type": "bar",
           "x": [
            "Monumento<br>Pípila"
           ],
           "xaxis": "x",
           "y": {
            "bdata": "f0jg7YcEEkA=",
            "dtype": "f8"
           },
           "yaxis": "y"
          },
          {
           "hovertemplate": "Sitio Turístico=%{x}<br>Año=2018<br>Promedio de Calificación=%{text}<extra></extra>",
           "legendgroup": "Mercado<br>Hidalgo",
           "marker": {
            "color": "#AB47BC",
            "pattern": {
             "shape": ""
            }
           },
           "name": "Mercado<br>Hidalgo",
           "orientation": "v",
           "showlegend": true,
           "text": {
            "bdata": "NcJyTyMsD0A=",
            "dtype": "f8"
           },
           "textposition": "auto",
           "type": "bar",
           "x": [
            "Mercado<br>Hidalgo"
           ],
           "xaxis": "x",
           "y": {
            "bdata": "NcJyTyMsD0A=",
            "dtype": "f8"
           },
           "yaxis": "y"
          },
          {
           "hovertemplate": "Sitio Turístico=%{x}<br>Año=2018<br>Promedio de Calificación=%{text}<extra></extra>",
           "legendgroup": "Jardín de<br>la Unión",
           "marker": {
            "color": "#EC407A",
            "pattern": {
             "shape": ""
            }
           },
           "name": "Jardín de<br>la Unión",
           "orientation": "v",
           "showlegend": true,
           "text": {
            "bdata": "MsYYY4wxEkA=",
            "dtype": "f8"
           },
           "textposition": "auto",
           "type": "bar",
           "x": [
            "Jardín de<br>la Unión"
           ],
           "xaxis": "x",
           "y": {
            "bdata": "MsYYY4wxEkA=",
            "dtype": "f8"
           },
           "yaxis": "y"
          },
          {
           "hovertemplate": "Sitio Turístico=%{x}<br>Año=2018<br>Promedio de Calificación=%{text}<extra></extra>",
           "legendgroup": "Callejón del<br>Beso",
           "marker": {
            "color": "#FFA726",
            "pattern": {
             "shape": ""
            }
           },
           "name": "Callejón del<br>Beso",
           "orientation": "v",
           "showlegend": true,
           "text": {
            "bdata": "VXJeFvEJEEA=",
            "dtype": "f8"
           },
           "textposition": "auto",
           "type": "bar",
           "x": [
            "Callejón del<br>Beso"
           ],
           "xaxis": "x",
           "y": {
            "bdata": "VXJeFvEJEEA=",
            "dtype": "f8"
           },
           "yaxis": "y"
          },
          {
           "hovertemplate": "Sitio Turístico=%{x}<br>Año=2018<br>Promedio de Calificación=%{text}<extra></extra>",
           "legendgroup": "Basílica <br>Colegiata",
           "marker": {
            "color": "#26C6DA",
            "pattern": {
             "shape": ""
            }
           },
           "name": "Basílica <br>Colegiata",
           "orientation": "v",
           "showlegend": true,
           "text": {
            "bdata": "WchCFrKQEUA=",
            "dtype": "f8"
           },
           "textposition": "auto",
           "type": "bar",
           "x": [
            "Basílica <br>Colegiata"
           ],
           "xaxis": "x",
           "y": {
            "bdata": "WchCFrKQEUA=",
            "dtype": "f8"
           },
           "yaxis": "y"
          },
          {
           "hovertemplate": "Sitio Turístico=%{x}<br>Año=2018<br>Promedio de Calificación=%{text}<extra></extra>",
           "legendgroup": "Alhóndiga",
           "marker": {
            "color": "#8D6E63",
            "pattern": {
             "shape": ""
            }
           },
           "name": "Alhóndiga",
           "orientation": "v",
           "showlegend": true,
           "text": {
            "bdata": "uy+PrQgaEkA=",
            "dtype": "f8"
           },
           "textposition": "auto",
           "type": "bar",
           "x": [
            "Alhóndiga"
           ],
           "xaxis": "x",
           "y": {
            "bdata": "uy+PrQgaEkA=",
            "dtype": "f8"
           },
           "yaxis": "y"
          }
         ],
         "name": "2018"
        },
        {
         "data": [
          {
           "hovertemplate": "Sitio Turístico=%{x}<br>Año=2017<br>Promedio de Calificación=%{text}<extra></extra>",
           "legendgroup": "Universidad de<br>Guanajuato",
           "marker": {
            "color": "#FFB300",
            "pattern": {
             "shape": ""
            }
           },
           "name": "Universidad de<br>Guanajuato",
           "orientation": "v",
           "showlegend": true,
           "text": {
            "bdata": "Yid2Yid2EkA=",
            "dtype": "f8"
           },
           "textposition": "auto",
           "type": "bar",
           "x": [
            "Universidad de<br>Guanajuato"
           ],
           "xaxis": "x",
           "y": {
            "bdata": "Yid2Yid2EkA=",
            "dtype": "f8"
           },
           "yaxis": "y"
          },
          {
           "hovertemplate": "Sitio Turístico=%{x}<br>Año=2017<br>Promedio de Calificación=%{text}<extra></extra>",
           "legendgroup": "Teatro<br>Juárez",
           "marker": {
            "color": "#FF7043",
            "pattern": {
             "shape": ""
            }
           },
           "name": "Teatro<br>Juárez",
           "orientation": "v",
           "showlegend": true,
           "text": {
            "bdata": "qhBt+PwxE0A=",
            "dtype": "f8"
           },
           "textposition": "auto",
           "type": "bar",
           "x": [
            "Teatro<br>Juárez"
           ],
           "xaxis": "x",
           "y": {
            "bdata": "qhBt+PwxE0A=",
            "dtype": "f8"
           },
           "yaxis": "y"
          },
          {
           "hovertemplate": "Sitio Turístico=%{x}<br>Año=2017<br>Promedio de Calificación=%{text}<extra></extra>",
           "legendgroup": "Museo de<br>las Momias",
           "marker": {
            "color": "#29B6F6",
            "pattern": {
             "shape": ""
            }
           },
           "name": "Museo de<br>las Momias",
           "orientation": "v",
           "showlegend": true,
           "text": {
            "bdata": "kRbLI0JTDUA=",
            "dtype": "f8"
           },
           "textposition": "auto",
           "type": "bar",
           "x": [
            "Museo de<br>las Momias"
           ],
           "xaxis": "x",
           "y": {
            "bdata": "kRbLI0JTDUA=",
            "dtype": "f8"
           },
           "yaxis": "y"
          },
          {
           "hovertemplate": "Sitio Turístico=%{x}<br>Año=2017<br>Promedio de Calificación=%{text}<extra></extra>",
           "legendgroup": "Monumento<br>Pípila",
           "marker": {
            "color": "#66BB6A",
            "pattern": {
             "shape": ""
            }
           },
           "name": "Monumento<br>Pípila",
           "orientation": "v",
           "showlegend": true,
           "text": {
            "bdata": "4Zn+Bt2uEUA=",
            "dtype": "f8"
           },
           "textposition": "auto",
           "type": "bar",
           "x": [
            "Monumento<br>Pípila"
           ],
           "xaxis": "x",
           "y": {
            "bdata": "4Zn+Bt2uEUA=",
            "dtype": "f8"
           },
           "yaxis": "y"
          },
          {
           "hovertemplate": "Sitio Turístico=%{x}<br>Año=2017<br>Promedio de Calificación=%{text}<extra></extra>",
           "legendgroup": "Mercado<br>Hidalgo",
           "marker": {
            "color": "#AB47BC",
            "pattern": {
             "shape": ""
            }
           },
           "name": "Mercado<br>Hidalgo",
           "orientation": "v",
           "showlegend": true,
           "text": {
            "bdata": "rRtMkc+6D0A=",
            "dtype": "f8"
           },
           "textposition": "auto",
           "type": "bar",
           "x": [
            "Mercado<br>Hidalgo"
           ],
           "xaxis": "x",
           "y": {
            "bdata": "rRtMkc+6D0A=",
            "dtype": "f8"
           },
           "yaxis": "y"
          },
          {
           "hovertemplate": "Sitio Turístico=%{x}<br>Año=2017<br>Promedio de Calificación=%{text}<extra></extra>",
           "legendgroup": "Jardín de<br>la Unión",
           "marker": {
            "color": "#EC407A",
            "pattern": {
             "shape": ""
            }
           },
           "name": "Jardín de<br>la Unión",
           "orientation": "v",
           "showlegend": true,
           "text": {
            "bdata": "pkMNdmcyEkA=",
            "dtype": "f8"
           },
           "textposition": "auto",
           "type": "bar",
           "x": [
            "Jardín de<br>la Unión"
           ],
           "xaxis": "x",
           "y": {
            "bdata": "pkMNdmcyEkA=",
            "dtype": "f8"
           },
           "yaxis": "y"
          },
          {
           "hovertemplate": "Sitio Turístico=%{x}<br>Año=2017<br>Promedio de Calificación=%{text}<extra></extra>",
           "legendgroup": "Callejón del<br>Beso",
           "marker": {
            "color": "#FFA726",
            "pattern": {
             "shape": ""
            }
           },
           "name": "Callejón del<br>Beso",
           "orientation": "v",
           "showlegend": true,
           "text": {
            "bdata": "HKAuObUmEEA=",
            "dtype": "f8"
           },
           "textposition": "auto",
           "type": "bar",
           "x": [
            "Callejón del<br>Beso"
           ],
           "xaxis": "x",
           "y": {
            "bdata": "HKAuObUmEEA=",
            "dtype": "f8"
           },
           "yaxis": "y"
          },
          {
           "hovertemplate": "Sitio Turístico=%{x}<br>Año=2017<br>Promedio de Calificación=%{text}<extra></extra>",
           "legendgroup": "Basílica <br>Colegiata",
           "marker": {
            "color": "#26C6DA",
            "pattern": {
             "shape": ""
            }
           },
           "name": "Basílica <br>Colegiata",
           "orientation": "v",
           "showlegend": true,
           "text": {
            "bdata": "1mZt1mZtEkA=",
            "dtype": "f8"
           },
           "textposition": "auto",
           "type": "bar",
           "x": [
            "Basílica <br>Colegiata"
           ],
           "xaxis": "x",
           "y": {
            "bdata": "1mZt1mZtEkA=",
            "dtype": "f8"
           },
           "yaxis": "y"
          },
          {
           "hovertemplate": "Sitio Turístico=%{x}<br>Año=2017<br>Promedio de Calificación=%{text}<extra></extra>",
           "legendgroup": "Alhóndiga",
           "marker": {
            "color": "#8D6E63",
            "pattern": {
             "shape": ""
            }
           },
           "name": "Alhóndiga",
           "orientation": "v",
           "showlegend": true,
           "text": {
            "bdata": "GIZhGIbhEUA=",
            "dtype": "f8"
           },
           "textposition": "auto",
           "type": "bar",
           "x": [
            "Alhóndiga"
           ],
           "xaxis": "x",
           "y": {
            "bdata": "GIZhGIbhEUA=",
            "dtype": "f8"
           },
           "yaxis": "y"
          }
         ],
         "name": "2017"
        },
        {
         "data": [
          {
           "hovertemplate": "Sitio Turístico=%{x}<br>Año=2016<br>Promedio de Calificación=%{text}<extra></extra>",
           "legendgroup": "Universidad de<br>Guanajuato",
           "marker": {
            "color": "#FFB300",
            "pattern": {
             "shape": ""
            }
           },
           "name": "Universidad de<br>Guanajuato",
           "orientation": "v",
           "showlegend": true,
           "text": {
            "bdata": "t23btm1bEkA=",
            "dtype": "f8"
           },
           "textposition": "auto",
           "type": "bar",
           "x": [
            "Universidad de<br>Guanajuato"
           ],
           "xaxis": "x",
           "y": {
            "bdata": "t23btm1bEkA=",
            "dtype": "f8"
           },
           "yaxis": "y"
          },
          {
           "hovertemplate": "Sitio Turístico=%{x}<br>Año=2016<br>Promedio de Calificación=%{text}<extra></extra>",
           "legendgroup": "Teatro<br>Juárez",
           "marker": {
            "color": "#FF7043",
            "pattern": {
             "shape": ""
            }
           },
           "name": "Teatro<br>Juárez",
           "orientation": "v",
           "showlegend": true,
           "text": {
            "bdata": "ZmZmZmbmEkA=",
            "dtype": "f8"
           },
           "textposition": "auto",
           "type": "bar",
           "x": [
            "Teatro<br>Juárez"
           ],
           "xaxis": "x",
           "y": {
            "bdata": "ZmZmZmbmEkA=",
            "dtype": "f8"
           },
           "yaxis": "y"
          },
          {
           "hovertemplate": "Sitio Turístico=%{x}<br>Año=2016<br>Promedio de Calificación=%{text}<extra></extra>",
           "legendgroup": "Museo de<br>las Momias",
           "marker": {
            "color": "#29B6F6",
            "pattern": {
             "shape": ""
            }
           },
           "name": "Museo de<br>las Momias",
           "orientation": "v",
           "showlegend": true,
           "text": {
            "bdata": "gB930Gw+DUA=",
            "dtype": "f8"
           },
           "textposition": "auto",
           "type": "bar",
           "x": [
            "Museo de<br>las Momias"
           ],
           "xaxis": "x",
           "y": {
            "bdata": "gB930Gw+DUA=",
            "dtype": "f8"
           },
           "yaxis": "y"
          },
          {
           "hovertemplate": "Sitio Turístico=%{x}<br>Año=2016<br>Promedio de Calificación=%{text}<extra></extra>",
           "legendgroup": "Monumento<br>Pípila",
           "marker": {
            "color": "#66BB6A",
            "pattern": {
             "shape": ""
            }
           },
           "name": "Monumento<br>Pípila",
           "orientation": "v",
           "showlegend": true,
           "text": {
            "bdata": "WchCFrKQEUA=",
            "dtype": "f8"
           },
           "textposition": "auto",
           "type": "bar",
           "x": [
            "Monumento<br>Pípila"
           ],
           "xaxis": "x",
           "y": {
            "bdata": "WchCFrKQEUA=",
            "dtype": "f8"
           },
           "yaxis": "y"
          },
          {
           "hovertemplate": "Sitio Turístico=%{x}<br>Año=2016<br>Promedio de Calificación=%{text}<extra></extra>",
           "legendgroup": "Mercado<br>Hidalgo",
           "marker": {
            "color": "#AB47BC",
            "pattern": {
             "shape": ""
            }
           },
           "name": "Mercado<br>Hidalgo",
           "orientation": "v",
           "showlegend": true,
           "text": {
            "bdata": "PDw8PDw8EEA=",
            "dtype": "f8"
           },
           "textposition": "auto",
           "type": "bar",
           "x": [
            "Mercado<br>Hidalgo"
           ],
           "xaxis": "x",
           "y": {
            "bdata": "PDw8PDw8EEA=",
            "dtype": "f8"
           },
           "yaxis": "y"
          },
          {
           "hovertemplate": "Sitio Turístico=%{x}<br>Año=2016<br>Promedio de Calificación=%{text}<extra></extra>",
           "legendgroup": "Jardín de<br>la Unión",
           "marker": {
            "color": "#EC407A",
            "pattern": {
             "shape": ""
            }
           },
           "name": "Jardín de<br>la Unión",
           "orientation": "v",
           "showlegend": true,
           "text": {
            "bdata": "DeU1lNdQEkA=",
            "dtype": "f8"
           },
           "textposition": "auto",
           "type": "bar",
           "x": [
            "Jardín de<br>la Unión"
           ],
           "xaxis": "x",
           "y": {
            "bdata": "DeU1lNdQEkA=",
            "dtype": "f8"
           },
           "yaxis": "y"
          },
          {
           "hovertemplate": "Sitio Turístico=%{x}<br>Año=2016<br>Promedio de Calificación=%{text}<extra></extra>",
           "legendgroup": "Callejón del<br>Beso",
           "marker": {
            "color": "#FFA726",
            "pattern": {
             "shape": ""
            }
           },
           "name": "Callejón del<br>Beso",
           "orientation": "v",
           "showlegend": true,
           "text": {
            "bdata": "iqIoiqIoEEA=",
            "dtype": "f8"
           },
           "textposition": "auto",
           "type": "bar",
           "x": [
            "Callejón del<br>Beso"
           ],
           "xaxis": "x",
           "y": {
            "bdata": "iqIoiqIoEEA=",
            "dtype": "f8"
           },
           "yaxis": "y"
          },
          {
           "hovertemplate": "Sitio Turístico=%{x}<br>Año=2016<br>Promedio de Calificación=%{text}<extra></extra>",
           "legendgroup": "Basílica <br>Colegiata",
           "marker": {
            "color": "#26C6DA",
            "pattern": {
             "shape": ""
            }
           },
           "name": "Basílica <br>Colegiata",
           "orientation": "v",
           "showlegend": true,
           "text": {
            "bdata": "pSN7BqLSEUA=",
            "dtype": "f8"
           },
           "textposition": "auto",
           "type": "bar",
           "x": [
            "Basílica <br>Colegiata"
           ],
           "xaxis": "x",
           "y": {
            "bdata": "pSN7BqLSEUA=",
            "dtype": "f8"
           },
           "yaxis": "y"
          },
          {
           "hovertemplate": "Sitio Turístico=%{x}<br>Año=2016<br>Promedio de Calificación=%{text}<extra></extra>",
           "legendgroup": "Alhóndiga",
           "marker": {
            "color": "#8D6E63",
            "pattern": {
             "shape": ""
            }
           },
           "name": "Alhóndiga",
           "orientation": "v",
           "showlegend": true,
           "text": {
            "bdata": "EVIt60DbEUA=",
            "dtype": "f8"
           },
           "textposition": "auto",
           "type": "bar",
           "x": [
            "Alhóndiga"
           ],
           "xaxis": "x",
           "y": {
            "bdata": "EVIt60DbEUA=",
            "dtype": "f8"
           },
           "yaxis": "y"
          },
          {
           "hovertemplate": "Sitio Turístico=%{x}<br>Año=2016<br>Promedio de Calificación=%{text}<extra></extra>",
           "legendgroup": "Casa de<br>Diego Rivera",
           "marker": {
            "color": "#FFD600",
            "pattern": {
             "shape": ""
            }
           },
           "name": "Casa de<br>Diego Rivera",
           "orientation": "v",
           "showlegend": true,
           "text": {
            "bdata": "ca+CWVIOEEA=",
            "dtype": "f8"
           },
           "textposition": "auto",
           "type": "bar",
           "x": [
            "Casa de<br>Diego Rivera"
           ],
           "xaxis": "x",
           "y": {
            "bdata": "ca+CWVIOEEA=",
            "dtype": "f8"
           },
           "yaxis": "y"
          }
         ],
         "name": "2016"
        },
        {
         "data": [
          {
           "hovertemplate": "Sitio Turístico=%{x}<br>Año=2015<br>Promedio de Calificación=%{text}<extra></extra>",
           "legendgroup": "Universidad de<br>Guanajuato",
           "marker": {
            "color": "#FFB300",
            "pattern": {
             "shape": ""
            }
           },
           "name": "Universidad de<br>Guanajuato",
           "orientation": "v",
           "showlegend": true,
           "text": {
            "bdata": "q6qqqqpKEkA=",
            "dtype": "f8"
           },
           "textposition": "auto",
           "type": "bar",
           "x": [
            "Universidad de<br>Guanajuato"
           ],
           "xaxis": "x",
           "y": {
            "bdata": "q6qqqqpKEkA=",
            "dtype": "f8"
           },
           "yaxis": "y"
          },
          {
           "hovertemplate": "Sitio Turístico=%{x}<br>Año=2015<br>Promedio de Calificación=%{text}<extra></extra>",
           "legendgroup": "Teatro<br>Juárez",
           "marker": {
            "color": "#FF7043",
            "pattern": {
             "shape": ""
            }
           },
           "name": "Teatro<br>Juárez",
           "orientation": "v",
           "showlegend": true,
           "text": {
            "bdata": "uClGDX+bEkA=",
            "dtype": "f8"
           },
           "textposition": "auto",
           "type": "bar",
           "x": [
            "Teatro<br>Juárez"
           ],
           "xaxis": "x",
           "y": {
            "bdata": "uClGDX+bEkA=",
            "dtype": "f8"
           },
           "yaxis": "y"
          },
          {
           "hovertemplate": "Sitio Turístico=%{x}<br>Año=2015<br>Promedio de Calificación=%{text}<extra></extra>",
           "legendgroup": "Museo de<br>las Momias",
           "marker": {
            "color": "#29B6F6",
            "pattern": {
             "shape": ""
            }
           },
           "name": "Museo de<br>las Momias",
           "orientation": "v",
           "showlegend": true,
           "text": {
            "bdata": "0UQTTTTRDEA=",
            "dtype": "f8"
           },
           "textposition": "auto",
           "type": "bar",
           "x": [
            "Museo de<br>las Momias"
           ],
           "xaxis": "x",
           "y": {
            "bdata": "0UQTTTTRDEA=",
            "dtype": "f8"
           },
           "yaxis": "y"
          },
          {
           "hovertemplate": "Sitio Turístico=%{x}<br>Año=2015<br>Promedio de Calificación=%{text}<extra></extra>",
           "legendgroup": "Monumento<br>Pípila",
           "marker": {
            "color": "#66BB6A",
            "pattern": {
             "shape": ""
            }
           },
           "name": "Monumento<br>Pípila",
           "orientation": "v",
           "showlegend": true,
           "text": {
            "bdata": "nc/ct4V4EUA=",
            "dtype": "f8"
           },
           "textposition": "auto",
           "type": "bar",
           "x": [
            "Monumento<br>Pípila"
           ],
           "xaxis": "x",
           "y": {
            "bdata": "nc/ct4V4EUA=",
            "dtype": "f8"
           },
           "yaxis": "y"
          },
          {
           "hovertemplate": "Sitio Turístico=%{x}<br>Año=2015<br>Promedio de Calificación=%{text}<extra></extra>",
           "legendgroup": "Mercado<br>Hidalgo",
           "marker": {
            "color": "#AB47BC",
            "pattern": {
             "shape": ""
            }
           },
           "name": "Mercado<br>Hidalgo",
           "orientation": "v",
           "showlegend": true,
           "text": {
            "bdata": "zsfgfAzOD0A=",
            "dtype": "f8"
           },
           "textposition": "auto",
           "type": "bar",
           "x": [
            "Mercado<br>Hidalgo"
           ],
           "xaxis": "x",
           "y": {
            "bdata": "zsfgfAzOD0A=",
            "dtype": "f8"
           },
           "yaxis": "y"
          },
          {
           "hovertemplate": "Sitio Turístico=%{x}<br>Año=2015<br>Promedio de Calificación=%{text}<extra></extra>",
           "legendgroup": "Jardín de<br>la Unión",
           "marker": {
            "color": "#EC407A",
            "pattern": {
             "shape": ""
            }
           },
           "name": "Jardín de<br>la Unión",
           "orientation": "v",
           "showlegend": true,
           "text": {
            "bdata": "9o6pgb1jEkA=",
            "dtype": "f8"
           },
           "textposition": "auto",
           "type": "bar",
           "x": [
            "Jardín de<br>la Unión"
           ],
           "xaxis": "x",
           "y": {
            "bdata": "9o6pgb1jEkA=",
            "dtype": "f8"
           },
           "yaxis": "y"
          },
          {
           "hovertemplate": "Sitio Turístico=%{x}<br>Año=2015<br>Promedio de Calificación=%{text}<extra></extra>",
           "legendgroup": "Callejón del<br>Beso",
           "marker": {
            "color": "#FFA726",
            "pattern": {
             "shape": ""
            }
           },
           "name": "Callejón del<br>Beso",
           "orientation": "v",
           "showlegend": true,
           "text": {
            "bdata": "e8DsAbMHEEA=",
            "dtype": "f8"
           },
           "textposition": "auto",
           "type": "bar",
           "x": [
            "Callejón del<br>Beso"
           ],
           "xaxis": "x",
           "y": {
            "bdata": "e8DsAbMHEEA=",
            "dtype": "f8"
           },
           "yaxis": "y"
          },
          {
           "hovertemplate": "Sitio Turístico=%{x}<br>Año=2015<br>Promedio de Calificación=%{text}<extra></extra>",
           "legendgroup": "Basílica <br>Colegiata",
           "marker": {
            "color": "#26C6DA",
            "pattern": {
             "shape": ""
            }
           },
           "name": "Basílica <br>Colegiata",
           "orientation": "v",
           "showlegend": true,
           "text": {
            "bdata": "tWMFwkg7EkA=",
            "dtype": "f8"
           },
           "textposition": "auto",
           "type": "bar",
           "x": [
            "Basílica <br>Colegiata"
           ],
           "xaxis": "x",
           "y": {
            "bdata": "tWMFwkg7EkA=",
            "dtype": "f8"
           },
           "yaxis": "y"
          },
          {
           "hovertemplate": "Sitio Turístico=%{x}<br>Año=2015<br>Promedio de Calificación=%{text}<extra></extra>",
           "legendgroup": "Alhóndiga",
           "marker": {
            "color": "#8D6E63",
            "pattern": {
             "shape": ""
            }
           },
           "name": "Alhóndiga",
           "orientation": "v",
           "showlegend": true,
           "text": {
            "bdata": "8s3Q2n24EUA=",
            "dtype": "f8"
           },
           "textposition": "auto",
           "type": "bar",
           "x": [
            "Alhóndiga"
           ],
           "xaxis": "x",
           "y": {
            "bdata": "8s3Q2n24EUA=",
            "dtype": "f8"
           },
           "yaxis": "y"
          },
          {
           "hovertemplate": "Sitio Turístico=%{x}<br>Año=2015<br>Promedio de Calificación=%{text}<extra></extra>",
           "legendgroup": "Casa de<br>Diego Rivera",
           "marker": {
            "color": "#FFD600",
            "pattern": {
             "shape": ""
            }
           },
           "name": "Casa de<br>Diego Rivera",
           "orientation": "v",
           "showlegend": true,
           "text": {
            "bdata": "AhJPDRkgEUA=",
            "dtype": "f8"
           },
           "textposition": "auto",
           "type": "bar",
           "x": [
            "Casa de<br>Diego Rivera"
           ],
           "xaxis": "x",
           "y": {
            "bdata": "AhJPDRkgEUA=",
            "dtype": "f8"
           },
           "yaxis": "y"
          }
         ],
         "name": "2015"
        },
        {
         "data": [
          {
           "hovertemplate": "Sitio Turístico=%{x}<br>Año=2014<br>Promedio de Calificación=%{text}<extra></extra>",
           "legendgroup": "Universidad de<br>Guanajuato",
           "marker": {
            "color": "#FFB300",
            "pattern": {
             "shape": ""
            }
           },
           "name": "Universidad de<br>Guanajuato",
           "orientation": "v",
           "showlegend": true,
           "text": {
            "bdata": "ruZqruZqEkA=",
            "dtype": "f8"
           },
           "textposition": "auto",
           "type": "bar",
           "x": [
            "Universidad de<br>Guanajuato"
           ],
           "xaxis": "x",
           "y": {
            "bdata": "ruZqruZqEkA=",
            "dtype": "f8"
           },
           "yaxis": "y"
          },
          {
           "hovertemplate": "Sitio Turístico=%{x}<br>Año=2014<br>Promedio de Calificación=%{text}<extra></extra>",
           "legendgroup": "Teatro<br>Juárez",
           "marker": {
            "color": "#FF7043",
            "pattern": {
             "shape": ""
            }
           },
           "name": "Teatro<br>Juárez",
           "orientation": "v",
           "showlegend": true,
           "text": {
            "bdata": "YCz5xZJfEkA=",
            "dtype": "f8"
           },
           "textposition": "auto",
           "type": "bar",
           "x": [
            "Teatro<br>Juárez"
           ],
           "xaxis": "x",
           "y": {
            "bdata": "YCz5xZJfEkA=",
            "dtype": "f8"
           },
           "yaxis": "y"
          },
          {
           "hovertemplate": "Sitio Turístico=%{x}<br>Año=2014<br>Promedio de Calificación=%{text}<extra></extra>",
           "legendgroup": "Museo de<br>las Momias",
           "marker": {
            "color": "#29B6F6",
            "pattern": {
             "shape": ""
            }
           },
           "name": "Museo de<br>las Momias",
           "orientation": "v",
           "showlegend": true,
           "text": {
            "bdata": "WclKVrKSDUA=",
            "dtype": "f8"
           },
           "textposition": "auto",
           "type": "bar",
           "x": [
            "Museo de<br>las Momias"
           ],
           "xaxis": "x",
           "y": {
            "bdata": "WclKVrKSDUA=",
            "dtype": "f8"
           },
           "yaxis": "y"
          },
          {
           "hovertemplate": "Sitio Turístico=%{x}<br>Año=2014<br>Promedio de Calificación=%{text}<extra></extra>",
           "legendgroup": "Monumento<br>Pípila",
           "marker": {
            "color": "#66BB6A",
            "pattern": {
             "shape": ""
            }
           },
           "name": "Monumento<br>Pípila",
           "orientation": "v",
           "showlegend": true,
           "text": {
            "bdata": "dnusZeiAEUA=",
            "dtype": "f8"
           },
           "textposition": "auto",
           "type": "bar",
           "x": [
            "Monumento<br>Pípila"
           ],
           "xaxis": "x",
           "y": {
            "bdata": "dnusZeiAEUA=",
            "dtype": "f8"
           },
           "yaxis": "y"
          },
          {
           "hovertemplate": "Sitio Turístico=%{x}<br>Año=2014<br>Promedio de Calificación=%{text}<extra></extra>",
           "legendgroup": "Mercado<br>Hidalgo",
           "marker": {
            "color": "#AB47BC",
            "pattern": {
             "shape": ""
            }
           },
           "name": "Mercado<br>Hidalgo",
           "orientation": "v",
           "showlegend": true,
           "text": {
            "bdata": "PDw8PDw8EEA=",
            "dtype": "f8"
           },
           "textposition": "auto",
           "type": "bar",
           "x": [
            "Mercado<br>Hidalgo"
           ],
           "xaxis": "x",
           "y": {
            "bdata": "PDw8PDw8EEA=",
            "dtype": "f8"
           },
           "yaxis": "y"
          },
          {
           "hovertemplate": "Sitio Turístico=%{x}<br>Año=2014<br>Promedio de Calificación=%{text}<extra></extra>",
           "legendgroup": "Jardín de<br>la Unión",
           "marker": {
            "color": "#EC407A",
            "pattern": {
             "shape": ""
            }
           },
           "name": "Jardín de<br>la Unión",
           "orientation": "v",
           "showlegend": true,
           "text": {
            "bdata": "vHSTGARWEkA=",
            "dtype": "f8"
           },
           "textposition": "auto",
           "type": "bar",
           "x": [
            "Jardín de<br>la Unión"
           ],
           "xaxis": "x",
           "y": {
            "bdata": "vHSTGARWEkA=",
            "dtype": "f8"
           },
           "yaxis": "y"
          },
          {
           "hovertemplate": "Sitio Turístico=%{x}<br>Año=2014<br>Promedio de Calificación=%{text}<extra></extra>",
           "legendgroup": "Callejón del<br>Beso",
           "marker": {
            "color": "#FFA726",
            "pattern": {
             "shape": ""
            }
           },
           "name": "Callejón del<br>Beso",
           "orientation": "v",
           "showlegend": true,
           "text": {
            "bdata": "yH7sx37sD0A=",
            "dtype": "f8"
           },
           "textposition": "auto",
           "type": "bar",
           "x": [
            "Callejón del<br>Beso"
           ],
           "xaxis": "x",
           "y": {
            "bdata": "yH7sx37sD0A=",
            "dtype": "f8"
           },
           "yaxis": "y"
          },
          {
           "hovertemplate": "Sitio Turístico=%{x}<br>Año=2014<br>Promedio de Calificación=%{text}<extra></extra>",
           "legendgroup": "Basílica <br>Colegiata",
           "marker": {
            "color": "#26C6DA",
            "pattern": {
             "shape": ""
            }
           },
           "name": "Basílica <br>Colegiata",
           "orientation": "v",
           "showlegend": true,
           "text": {
            "bdata": "5QpicgUxEUA=",
            "dtype": "f8"
           },
           "textposition": "auto",
           "type": "bar",
           "x": [
            "Basílica <br>Colegiata"
           ],
           "xaxis": "x",
           "y": {
            "bdata": "5QpicgUxEUA=",
            "dtype": "f8"
           },
           "yaxis": "y"
          },
          {
           "hovertemplate": "Sitio Turístico=%{x}<br>Año=2014<br>Promedio de Calificación=%{text}<extra></extra>",
           "legendgroup": "Alhóndiga",
           "marker": {
            "color": "#8D6E63",
            "pattern": {
             "shape": ""
            }
           },
           "name": "Alhóndiga",
           "orientation": "v",
           "showlegend": true,
           "text": {
            "bdata": "nN70pje9EUA=",
            "dtype": "f8"
           },
           "textposition": "auto",
           "type": "bar",
           "x": [
            "Alhóndiga"
           ],
           "xaxis": "x",
           "y": {
            "bdata": "nN70pje9EUA=",
            "dtype": "f8"
           },
           "yaxis": "y"
          },
          {
           "hovertemplate": "Sitio Turístico=%{x}<br>Año=2014<br>Promedio de Calificación=%{text}<extra></extra>",
           "legendgroup": "Casa de<br>Diego Rivera",
           "marker": {
            "color": "#FFD600",
            "pattern": {
             "shape": ""
            }
           },
           "name": "Casa de<br>Diego Rivera",
           "orientation": "v",
           "showlegend": true,
           "text": {
            "bdata": "YhiGYRiGEUA=",
            "dtype": "f8"
           },
           "textposition": "auto",
           "type": "bar",
           "x": [
            "Casa de<br>Diego Rivera"
           ],
           "xaxis": "x",
           "y": {
            "bdata": "YhiGYRiGEUA=",
            "dtype": "f8"
           },
           "yaxis": "y"
          }
         ],
         "name": "2014"
        },
        {
         "data": [
          {
           "hovertemplate": "Sitio Turístico=%{x}<br>Año=2013<br>Promedio de Calificación=%{text}<extra></extra>",
           "legendgroup": "Universidad de<br>Guanajuato",
           "marker": {
            "color": "#FFB300",
            "pattern": {
             "shape": ""
            }
           },
           "name": "Universidad de<br>Guanajuato",
           "orientation": "v",
           "showlegend": true,
           "text": {
            "bdata": "LS0tLS0tEkA=",
            "dtype": "f8"
           },
           "textposition": "auto",
           "type": "bar",
           "x": [
            "Universidad de<br>Guanajuato"
           ],
           "xaxis": "x",
           "y": {
            "bdata": "LS0tLS0tEkA=",
            "dtype": "f8"
           },
           "yaxis": "y"
          },
          {
           "hovertemplate": "Sitio Turístico=%{x}<br>Año=2013<br>Promedio de Calificación=%{text}<extra></extra>",
           "legendgroup": "Teatro<br>Juárez",
           "marker": {
            "color": "#FF7043",
            "pattern": {
             "shape": ""
            }
           },
           "name": "Teatro<br>Juárez",
           "orientation": "v",
           "showlegend": true,
           "text": {
            "bdata": "axk6YLfHEkA=",
            "dtype": "f8"
           },
           "textposition": "auto",
           "type": "bar",
           "x": [
            "Teatro<br>Juárez"
           ],
           "xaxis": "x",
           "y": {
            "bdata": "axk6YLfHEkA=",
            "dtype": "f8"
           },
           "yaxis": "y"
          },
          {
           "hovertemplate": "Sitio Turístico=%{x}<br>Año=2013<br>Promedio de Calificación=%{text}<extra></extra>",
           "legendgroup": "Museo de<br>las Momias",
           "marker": {
            "color": "#29B6F6",
            "pattern": {
             "shape": ""
            }
           },
           "name": "Museo de<br>las Momias",
           "orientation": "v",
           "showlegend": true,
           "text": {
            "bdata": "2O2xlqEDDkA=",
            "dtype": "f8"
           },
           "textposition": "auto",
           "type": "bar",
           "x": [
            "Museo de<br>las Momias"
           ],
           "xaxis": "x",
           "y": {
            "bdata": "2O2xlqEDDkA=",
            "dtype": "f8"
           },
           "yaxis": "y"
          },
          {
           "hovertemplate": "Sitio Turístico=%{x}<br>Año=2013<br>Promedio de Calificación=%{text}<extra></extra>",
           "legendgroup": "Monumento<br>Pípila",
           "marker": {
            "color": "#66BB6A",
            "pattern": {
             "shape": ""
            }
           },
           "name": "Monumento<br>Pípila",
           "orientation": "v",
           "showlegend": true,
           "text": {
            "bdata": "Ak0h0BQCEUA=",
            "dtype": "f8"
           },
           "textposition": "auto",
           "type": "bar",
           "x": [
            "Monumento<br>Pípila"
           ],
           "xaxis": "x",
           "y": {
            "bdata": "Ak0h0BQCEUA=",
            "dtype": "f8"
           },
           "yaxis": "y"
          },
          {
           "hovertemplate": "Sitio Turístico=%{x}<br>Año=2013<br>Promedio de Calificación=%{text}<extra></extra>",
           "legendgroup": "Mercado<br>Hidalgo",
           "marker": {
            "color": "#AB47BC",
            "pattern": {
             "shape": ""
            }
           },
           "name": "Mercado<br>Hidalgo",
           "orientation": "v",
           "showlegend": true,
           "text": {
            "bdata": "mpmZmZmZCUA=",
            "dtype": "f8"
           },
           "textposition": "auto",
           "type": "bar",
           "x": [
            "Mercado<br>Hidalgo"
           ],
           "xaxis": "x",
           "y": {
            "bdata": "mpmZmZmZCUA=",
            "dtype": "f8"
           },
           "yaxis": "y"
          },
          {
           "hovertemplate": "Sitio Turístico=%{x}<br>Año=2013<br>Promedio de Calificación=%{text}<extra></extra>",
           "legendgroup": "Jardín de<br>la Unión",
           "marker": {
            "color": "#EC407A",
            "pattern": {
             "shape": ""
            }
           },
           "name": "Jardín de<br>la Unión",
           "orientation": "v",
           "showlegend": true,
           "text": {
            "bdata": "rA+N9aGxEkA=",
            "dtype": "f8"
           },
           "textposition": "auto",
           "type": "bar",
           "x": [
            "Jardín de<br>la Unión"
           ],
           "xaxis": "x",
           "y": {
            "bdata": "rA+N9aGxEkA=",
            "dtype": "f8"
           },
           "yaxis": "y"
          },
          {
           "hovertemplate": "Sitio Turístico=%{x}<br>Año=2013<br>Promedio de Calificación=%{text}<extra></extra>",
           "legendgroup": "Callejón del<br>Beso",
           "marker": {
            "color": "#FFA726",
            "pattern": {
             "shape": ""
            }
           },
           "name": "Callejón del<br>Beso",
           "orientation": "v",
           "showlegend": true,
           "text": {
            "bdata": "52qu5mquDkA=",
            "dtype": "f8"
           },
           "textposition": "auto",
           "type": "bar",
           "x": [
            "Callejón del<br>Beso"
           ],
           "xaxis": "x",
           "y": {
            "bdata": "52qu5mquDkA=",
            "dtype": "f8"
           },
           "yaxis": "y"
          },
          {
           "hovertemplate": "Sitio Turístico=%{x}<br>Año=2013<br>Promedio de Calificación=%{text}<extra></extra>",
           "legendgroup": "Basílica <br>Colegiata",
           "marker": {
            "color": "#26C6DA",
            "pattern": {
             "shape": ""
            }
           },
           "name": "Basílica <br>Colegiata",
           "orientation": "v",
           "showlegend": true,
           "text": {
            "bdata": "UV5DeQ3lEUA=",
            "dtype": "f8"
           },
           "textposition": "auto",
           "type": "bar",
           "x": [
            "Basílica <br>Colegiata"
           ],
           "xaxis": "x",
           "y": {
            "bdata": "UV5DeQ3lEUA=",
            "dtype": "f8"
           },
           "yaxis": "y"
          },
          {
           "hovertemplate": "Sitio Turístico=%{x}<br>Año=2013<br>Promedio de Calificación=%{text}<extra></extra>",
           "legendgroup": "Alhóndiga",
           "marker": {
            "color": "#8D6E63",
            "pattern": {
             "shape": ""
            }
           },
           "name": "Alhóndiga",
           "orientation": "v",
           "showlegend": true,
           "text": {
            "bdata": "DeU1lNdQEkA=",
            "dtype": "f8"
           },
           "textposition": "auto",
           "type": "bar",
           "x": [
            "Alhóndiga"
           ],
           "xaxis": "x",
           "y": {
            "bdata": "DeU1lNdQEkA=",
            "dtype": "f8"
           },
           "yaxis": "y"
          },
          {
           "hovertemplate": "Sitio Turístico=%{x}<br>Año=2013<br>Promedio de Calificación=%{text}<extra></extra>",
           "legendgroup": "Casa de<br>Diego Rivera",
           "marker": {
            "color": "#FFD600",
            "pattern": {
             "shape": ""
            }
           },
           "name": "Casa de<br>Diego Rivera",
           "orientation": "v",
           "showlegend": true,
           "text": {
            "bdata": "YyI9UDm7EUA=",
            "dtype": "f8"
           },
           "textposition": "auto",
           "type": "bar",
           "x": [
            "Casa de<br>Diego Rivera"
           ],
           "xaxis": "x",
           "y": {
            "bdata": "YyI9UDm7EUA=",
            "dtype": "f8"
           },
           "yaxis": "y"
          }
         ],
         "name": "2013"
        },
        {
         "data": [
          {
           "hovertemplate": "Sitio Turístico=%{x}<br>Año=2012<br>Promedio de Calificación=%{text}<extra></extra>",
           "legendgroup": "Universidad de<br>Guanajuato",
           "marker": {
            "color": "#FFB300",
            "pattern": {
             "shape": ""
            }
           },
           "name": "Universidad de<br>Guanajuato",
           "orientation": "v",
           "showlegend": true,
           "text": {
            "bdata": "3ZofFikDE0A=",
            "dtype": "f8"
           },
           "textposition": "auto",
           "type": "bar",
           "x": [
            "Universidad de<br>Guanajuato"
           ],
           "xaxis": "x",
           "y": {
            "bdata": "3ZofFikDE0A=",
            "dtype": "f8"
           },
           "yaxis": "y"
          },
          {
           "hovertemplate": "Sitio Turístico=%{x}<br>Año=2012<br>Promedio de Calificación=%{text}<extra></extra>",
           "legendgroup": "Teatro<br>Juárez",
           "marker": {
            "color": "#FF7043",
            "pattern": {
             "shape": ""
            }
           },
           "name": "Teatro<br>Juárez",
           "orientation": "v",
           "showlegend": true,
           "text": {
            "bdata": "t4xbxi3jEkA=",
            "dtype": "f8"
           },
           "textposition": "auto",
           "type": "bar",
           "x": [
            "Teatro<br>Juárez"
           ],
           "xaxis": "x",
           "y": {
            "bdata": "t4xbxi3jEkA=",
            "dtype": "f8"
           },
           "yaxis": "y"
          },
          {
           "hovertemplate": "Sitio Turístico=%{x}<br>Año=2012<br>Promedio de Calificación=%{text}<extra></extra>",
           "legendgroup": "Museo de<br>las Momias",
           "marker": {
            "color": "#29B6F6",
            "pattern": {
             "shape": ""
            }
           },
           "name": "Museo de<br>las Momias",
           "orientation": "v",
           "showlegend": true,
           "text": {
            "bdata": "3zOJ3jOJDkA=",
            "dtype": "f8"
           },
           "textposition": "auto",
           "type": "bar",
           "x": [
            "Museo de<br>las Momias"
           ],
           "xaxis": "x",
           "y": {
            "bdata": "3zOJ3jOJDkA=",
            "dtype": "f8"
           },
           "yaxis": "y"
          },
          {
           "hovertemplate": "Sitio Turístico=%{x}<br>Año=2012<br>Promedio de Calificación=%{text}<extra></extra>",
           "legendgroup": "Monumento<br>Pípila",
           "marker": {
            "color": "#66BB6A",
            "pattern": {
             "shape": ""
            }
           },
           "name": "Monumento<br>Pípila",
           "orientation": "v",
           "showlegend": true,
           "text": {
            "bdata": "qOvT9en6EEA=",
            "dtype": "f8"
           },
           "textposition": "auto",
           "type": "bar",
           "x": [
            "Monumento<br>Pípila"
           ],
           "xaxis": "x",
           "y": {
            "bdata": "qOvT9en6EEA=",
            "dtype": "f8"
           },
           "yaxis": "y"
          },
          {
           "hovertemplate": "Sitio Turístico=%{x}<br>Año=2012<br>Promedio de Calificación=%{text}<extra></extra>",
           "legendgroup": "Mercado<br>Hidalgo",
           "marker": {
            "color": "#AB47BC",
            "pattern": {
             "shape": ""
            }
           },
           "name": "Mercado<br>Hidalgo",
           "orientation": "v",
           "showlegend": true,
           "text": {
            "bdata": "juM4juM4DkA=",
            "dtype": "f8"
           },
           "textposition": "auto",
           "type": "bar",
           "x": [
            "Mercado<br>Hidalgo"
           ],
           "xaxis": "x",
           "y": {
            "bdata": "juM4juM4DkA=",
            "dtype": "f8"
           },
           "yaxis": "y"
          },
          {
           "hovertemplate": "Sitio Turístico=%{x}<br>Año=2012<br>Promedio de Calificación=%{text}<extra></extra>",
           "legendgroup": "Jardín de<br>la Unión",
           "marker": {
            "color": "#EC407A",
            "pattern": {
             "shape": ""
            }
           },
           "name": "Jardín de<br>la Unión",
           "orientation": "v",
           "showlegend": true,
           "text": {
            "bdata": "cD4G52NwEkA=",
            "dtype": "f8"
           },
           "textposition": "auto",
           "type": "bar",
           "x": [
            "Jardín de<br>la Unión"
           ],
           "xaxis": "x",
           "y": {
            "bdata": "cD4G52NwEkA=",
            "dtype": "f8"
           },
           "yaxis": "y"
          },
          {
           "hovertemplate": "Sitio Turístico=%{x}<br>Año=2012<br>Promedio de Calificación=%{text}<extra></extra>",
           "legendgroup": "Callejón del<br>Beso",
           "marker": {
            "color": "#FFA726",
            "pattern": {
             "shape": ""
            }
           },
           "name": "Callejón del<br>Beso",
           "orientation": "v",
           "showlegend": true,
           "text": {
            "bdata": "SHAfwX0ED0A=",
            "dtype": "f8"
           },
           "textposition": "auto",
           "type": "bar",
           "x": [
            "Callejón del<br>Beso"
           ],
           "xaxis": "x",
           "y": {
            "bdata": "SHAfwX0ED0A=",
            "dtype": "f8"
           },
           "yaxis": "y"
          },
          {
           "hovertemplate": "Sitio Turístico=%{x}<br>Año=2012<br>Promedio de Calificación=%{text}<extra></extra>",
           "legendgroup": "Basílica <br>Colegiata",
           "marker": {
            "color": "#26C6DA",
            "pattern": {
             "shape": ""
            }
           },
           "name": "Basílica <br>Colegiata",
           "orientation": "v",
           "showlegend": true,
           "text": {
            "bdata": "ruxzSE0wEkA=",
            "dtype": "f8"
           },
           "textposition": "auto",
           "type": "bar",
           "x": [
            "Basílica <br>Colegiata"
           ],
           "xaxis": "x",
           "y": {
            "bdata": "ruxzSE0wEkA=",
            "dtype": "f8"
           },
           "yaxis": "y"
          },
          {
           "hovertemplate": "Sitio Turístico=%{x}<br>Año=2012<br>Promedio de Calificación=%{text}<extra></extra>",
           "legendgroup": "Alhóndiga",
           "marker": {
            "color": "#8D6E63",
            "pattern": {
             "shape": ""
            }
           },
           "name": "Alhóndiga",
           "orientation": "v",
           "showlegend": true,
           "text": {
            "bdata": "d1rdaXWnEUA=",
            "dtype": "f8"
           },
           "textposition": "auto",
           "type": "bar",
           "x": [
            "Alhóndiga"
           ],
           "xaxis": "x",
           "y": {
            "bdata": "d1rdaXWnEUA=",
            "dtype": "f8"
           },
           "yaxis": "y"
          },
          {
           "hovertemplate": "Sitio Turístico=%{x}<br>Año=2012<br>Promedio de Calificación=%{text}<extra></extra>",
           "legendgroup": "Casa de<br>Diego Rivera",
           "marker": {
            "color": "#FFD600",
            "pattern": {
             "shape": ""
            }
           },
           "name": "Casa de<br>Diego Rivera",
           "orientation": "v",
           "showlegend": true,
           "text": {
            "bdata": "AAAAAADgEEA=",
            "dtype": "f8"
           },
           "textposition": "auto",
           "type": "bar",
           "x": [
            "Casa de<br>Diego Rivera"
           ],
           "xaxis": "x",
           "y": {
            "bdata": "AAAAAADgEEA=",
            "dtype": "f8"
           },
           "yaxis": "y"
          }
         ],
         "name": "2012"
        },
        {
         "data": [
          {
           "hovertemplate": "Sitio Turístico=%{x}<br>Año=2011<br>Promedio de Calificación=%{text}<extra></extra>",
           "legendgroup": "Universidad de<br>Guanajuato",
           "marker": {
            "color": "#FFB300",
            "pattern": {
             "shape": ""
            }
           },
           "name": "Universidad de<br>Guanajuato",
           "orientation": "v",
           "showlegend": true,
           "text": {
            "bdata": "AAAAAAAAFEA=",
            "dtype": "f8"
           },
           "textposition": "auto",
           "type": "bar",
           "x": [
            "Universidad de<br>Guanajuato"
           ],
           "xaxis": "x",
           "y": {
            "bdata": "AAAAAAAAFEA=",
            "dtype": "f8"
           },
           "yaxis": "y"
          },
          {
           "hovertemplate": "Sitio Turístico=%{x}<br>Año=2011<br>Promedio de Calificación=%{text}<extra></extra>",
           "legendgroup": "Teatro<br>Juárez",
           "marker": {
            "color": "#FF7043",
            "pattern": {
             "shape": ""
            }
           },
           "name": "Teatro<br>Juárez",
           "orientation": "v",
           "showlegend": true,
           "text": {
            "bdata": "AAAAAADAEkA=",
            "dtype": "f8"
           },
           "textposition": "auto",
           "type": "bar",
           "x": [
            "Teatro<br>Juárez"
           ],
           "xaxis": "x",
           "y": {
            "bdata": "AAAAAADAEkA=",
            "dtype": "f8"
           },
           "yaxis": "y"
          },
          {
           "hovertemplate": "Sitio Turístico=%{x}<br>Año=2011<br>Promedio de Calificación=%{text}<extra></extra>",
           "legendgroup": "Museo de<br>las Momias",
           "marker": {
            "color": "#29B6F6",
            "pattern": {
             "shape": ""
            }
           },
           "name": "Museo de<br>las Momias",
           "orientation": "v",
           "showlegend": true,
           "text": {
            "bdata": "AAAAAACADEA=",
            "dtype": "f8"
           },
           "textposition": "auto",
           "type": "bar",
           "x": [
            "Museo de<br>las Momias"
           ],
           "xaxis": "x",
           "y": {
            "bdata": "AAAAAACADEA=",
            "dtype": "f8"
           },
           "yaxis": "y"
          },
          {
           "hovertemplate": "Sitio Turístico=%{x}<br>Año=2011<br>Promedio de Calificación=%{text}<extra></extra>",
           "legendgroup": "Monumento<br>Pípila",
           "marker": {
            "color": "#66BB6A",
            "pattern": {
             "shape": ""
            }
           },
           "name": "Monumento<br>Pípila",
           "orientation": "v",
           "showlegend": true,
           "text": {
            "bdata": "mpmZmZmZEUA=",
            "dtype": "f8"
           },
           "textposition": "auto",
           "type": "bar",
           "x": [
            "Monumento<br>Pípila"
           ],
           "xaxis": "x",
           "y": {
            "bdata": "mpmZmZmZEUA=",
            "dtype": "f8"
           },
           "yaxis": "y"
          },
          {
           "hovertemplate": "Sitio Turístico=%{x}<br>Año=2011<br>Promedio de Calificación=%{text}<extra></extra>",
           "legendgroup": "Mercado<br>Hidalgo",
           "marker": {
            "color": "#AB47BC",
            "pattern": {
             "shape": ""
            }
           },
           "name": "Mercado<br>Hidalgo",
           "orientation": "v",
           "showlegend": true,
           "text": {
            "bdata": "AAAAAACADkA=",
            "dtype": "f8"
           },
           "textposition": "auto",
           "type": "bar",
           "x": [
            "Mercado<br>Hidalgo"
           ],
           "xaxis": "x",
           "y": {
            "bdata": "AAAAAACADkA=",
            "dtype": "f8"
           },
           "yaxis": "y"
          },
          {
           "hovertemplate": "Sitio Turístico=%{x}<br>Año=2011<br>Promedio de Calificación=%{text}<extra></extra>",
           "legendgroup": "Jardín de<br>la Unión",
           "marker": {
            "color": "#EC407A",
            "pattern": {
             "shape": ""
            }
           },
           "name": "Jardín de<br>la Unión",
           "orientation": "v",
           "showlegend": true,
           "text": {
            "bdata": "btu2bdu2E0A=",
            "dtype": "f8"
           },
           "textposition": "auto",
           "type": "bar",
           "x": [
            "Jardín de<br>la Unión"
           ],
           "xaxis": "x",
           "y": {
            "bdata": "btu2bdu2E0A=",
            "dtype": "f8"
           },
           "yaxis": "y"
          },
          {
           "hovertemplate": "Sitio Turístico=%{x}<br>Año=2011<br>Promedio de Calificación=%{text}<extra></extra>",
           "legendgroup": "Callejón del<br>Beso",
           "marker": {
            "color": "#FFA726",
            "pattern": {
             "shape": ""
            }
           },
           "name": "Callejón del<br>Beso",
           "orientation": "v",
           "showlegend": true,
           "text": {
            "bdata": "AAAAAAAACUA=",
            "dtype": "f8"
           },
           "textposition": "auto",
           "type": "bar",
           "x": [
            "Callejón del<br>Beso"
           ],
           "xaxis": "x",
           "y": {
            "bdata": "AAAAAAAACUA=",
            "dtype": "f8"
           },
           "yaxis": "y"
          },
          {
           "hovertemplate": "Sitio Turístico=%{x}<br>Año=2011<br>Promedio de Calificación=%{text}<extra></extra>",
           "legendgroup": "Basílica <br>Colegiata",
           "marker": {
            "color": "#26C6DA",
            "pattern": {
             "shape": ""
            }
           },
           "name": "Basílica <br>Colegiata",
           "orientation": "v",
           "showlegend": true,
           "text": {
            "bdata": "VVVVVVVVE0A=",
            "dtype": "f8"
           },
           "textposition": "auto",
           "type": "bar",
           "x": [
            "Basílica <br>Colegiata"
           ],
           "xaxis": "x",
           "y": {
            "bdata": "VVVVVVVVE0A=",
            "dtype": "f8"
           },
           "yaxis": "y"
          },
          {
           "hovertemplate": "Sitio Turístico=%{x}<br>Año=2011<br>Promedio de Calificación=%{text}<extra></extra>",
           "legendgroup": "Alhóndiga",
           "marker": {
            "color": "#8D6E63",
            "pattern": {
             "shape": ""
            }
           },
           "name": "Alhóndiga",
           "orientation": "v",
           "showlegend": true,
           "text": {
            "bdata": "XXTRRRddEEA=",
            "dtype": "f8"
           },
           "textposition": "auto",
           "type": "bar",
           "x": [
            "Alhóndiga"
           ],
           "xaxis": "x",
           "y": {
            "bdata": "XXTRRRddEEA=",
            "dtype": "f8"
           },
           "yaxis": "y"
          },
          {
           "hovertemplate": "Sitio Turístico=%{x}<br>Año=2011<br>Promedio de Calificación=%{text}<extra></extra>",
           "legendgroup": "Casa de<br>Diego Rivera",
           "marker": {
            "color": "#FFD600",
            "pattern": {
             "shape": ""
            }
           },
           "name": "Casa de<br>Diego Rivera",
           "orientation": "v",
           "showlegend": true,
           "text": {
            "bdata": "AAAAAACAEEA=",
            "dtype": "f8"
           },
           "textposition": "auto",
           "type": "bar",
           "x": [
            "Casa de<br>Diego Rivera"
           ],
           "xaxis": "x",
           "y": {
            "bdata": "AAAAAACAEEA=",
            "dtype": "f8"
           },
           "yaxis": "y"
          }
         ],
         "name": "2011"
        },
        {
         "data": [
          {
           "hovertemplate": "Sitio Turístico=%{x}<br>Año=2010<br>Promedio de Calificación=%{text}<extra></extra>",
           "legendgroup": "Universidad de<br>Guanajuato",
           "marker": {
            "color": "#FFB300",
            "pattern": {
             "shape": ""
            }
           },
           "name": "Universidad de<br>Guanajuato",
           "orientation": "v",
           "showlegend": true,
           "text": {
            "bdata": "AAAAAAAAE0A=",
            "dtype": "f8"
           },
           "textposition": "auto",
           "type": "bar",
           "x": [
            "Universidad de<br>Guanajuato"
           ],
           "xaxis": "x",
           "y": {
            "bdata": "AAAAAAAAE0A=",
            "dtype": "f8"
           },
           "yaxis": "y"
          },
          {
           "hovertemplate": "Sitio Turístico=%{x}<br>Año=2010<br>Promedio de Calificación=%{text}<extra></extra>",
           "legendgroup": "Teatro<br>Juárez",
           "marker": {
            "color": "#FF7043",
            "pattern": {
             "shape": ""
            }
           },
           "name": "Teatro<br>Juárez",
           "orientation": "v",
           "showlegend": true,
           "text": {
            "bdata": "AAAAAAAAFEA=",
            "dtype": "f8"
           },
           "textposition": "auto",
           "type": "bar",
           "x": [
            "Teatro<br>Juárez"
           ],
           "xaxis": "x",
           "y": {
            "bdata": "AAAAAAAAFEA=",
            "dtype": "f8"
           },
           "yaxis": "y"
          },
          {
           "hovertemplate": "Sitio Turístico=%{x}<br>Año=2010<br>Promedio de Calificación=%{text}<extra></extra>",
           "legendgroup": "Museo de<br>las Momias",
           "marker": {
            "color": "#29B6F6",
            "pattern": {
             "shape": ""
            }
           },
           "name": "Museo de<br>las Momias",
           "orientation": "v",
           "showlegend": true,
           "text": {
            "bdata": "MzMzMzMzC0A=",
            "dtype": "f8"
           },
           "textposition": "auto",
           "type": "bar",
           "x": [
            "Museo de<br>las Momias"
           ],
           "xaxis": "x",
           "y": {
            "bdata": "MzMzMzMzC0A=",
            "dtype": "f8"
           },
           "yaxis": "y"
          },
          {
           "hovertemplate": "Sitio Turístico=%{x}<br>Año=2010<br>Promedio de Calificación=%{text}<extra></extra>",
           "legendgroup": "Monumento<br>Pípila",
           "marker": {
            "color": "#66BB6A",
            "pattern": {
             "shape": ""
            }
           },
           "name": "Monumento<br>Pípila",
           "orientation": "v",
           "showlegend": true,
           "text": {
            "bdata": "AAAAAAAAFEA=",
            "dtype": "f8"
           },
           "textposition": "auto",
           "type": "bar",
           "x": [
            "Monumento<br>Pípila"
           ],
           "xaxis": "x",
           "y": {
            "bdata": "AAAAAAAAFEA=",
            "dtype": "f8"
           },
           "yaxis": "y"
          },
          {
           "hovertemplate": "Sitio Turístico=%{x}<br>Año=2010<br>Promedio de Calificación=%{text}<extra></extra>",
           "legendgroup": "Mercado<br>Hidalgo",
           "marker": {
            "color": "#AB47BC",
            "pattern": {
             "shape": ""
            }
           },
           "name": "Mercado<br>Hidalgo",
           "orientation": "v",
           "showlegend": true,
           "text": {
            "bdata": "AAAAAAAAEEA=",
            "dtype": "f8"
           },
           "textposition": "auto",
           "type": "bar",
           "x": [
            "Mercado<br>Hidalgo"
           ],
           "xaxis": "x",
           "y": {
            "bdata": "AAAAAAAAEEA=",
            "dtype": "f8"
           },
           "yaxis": "y"
          },
          {
           "hovertemplate": "Sitio Turístico=%{x}<br>Año=2010<br>Promedio de Calificación=%{text}<extra></extra>",
           "legendgroup": "Jardín de<br>la Unión",
           "marker": {
            "color": "#EC407A",
            "pattern": {
             "shape": ""
            }
           },
           "name": "Jardín de<br>la Unión",
           "orientation": "v",
           "showlegend": true,
           "text": {
            "bdata": "AAAAAAAAEEA=",
            "dtype": "f8"
           },
           "textposition": "auto",
           "type": "bar",
           "x": [
            "Jardín de<br>la Unión"
           ],
           "xaxis": "x",
           "y": {
            "bdata": "AAAAAAAAEEA=",
            "dtype": "f8"
           },
           "yaxis": "y"
          },
          {
           "hovertemplate": "Sitio Turístico=%{x}<br>Año=2010<br>Promedio de Calificación=%{text}<extra></extra>",
           "legendgroup": "Callejón del<br>Beso",
           "marker": {
            "color": "#FFA726",
            "pattern": {
             "shape": ""
            }
           },
           "name": "Callejón del<br>Beso",
           "orientation": "v",
           "showlegend": true,
           "text": {
            "bdata": "AAAAAAAAEEA=",
            "dtype": "f8"
           },
           "textposition": "auto",
           "type": "bar",
           "x": [
            "Callejón del<br>Beso"
           ],
           "xaxis": "x",
           "y": {
            "bdata": "AAAAAAAAEEA=",
            "dtype": "f8"
           },
           "yaxis": "y"
          },
          {
           "hovertemplate": "Sitio Turístico=%{x}<br>Año=2010<br>Promedio de Calificación=%{text}<extra></extra>",
           "legendgroup": "Casa de<br>Diego Rivera",
           "marker": {
            "color": "#FFD600",
            "pattern": {
             "shape": ""
            }
           },
           "name": "Casa de<br>Diego Rivera",
           "orientation": "v",
           "showlegend": true,
           "text": {
            "bdata": "AAAAAAAAEEA=",
            "dtype": "f8"
           },
           "textposition": "auto",
           "type": "bar",
           "x": [
            "Casa de<br>Diego Rivera"
           ],
           "xaxis": "x",
           "y": {
            "bdata": "AAAAAAAAEEA=",
            "dtype": "f8"
           },
           "yaxis": "y"
          }
         ],
         "name": "2010"
        },
        {
         "data": [
          {
           "hovertemplate": "Sitio Turístico=%{x}<br>Año=2009<br>Promedio de Calificación=%{text}<extra></extra>",
           "legendgroup": "Teatro<br>Juárez",
           "marker": {
            "color": "#FF7043",
            "pattern": {
             "shape": ""
            }
           },
           "name": "Teatro<br>Juárez",
           "orientation": "v",
           "showlegend": true,
           "text": {
            "bdata": "AAAAAAAAEEA=",
            "dtype": "f8"
           },
           "textposition": "auto",
           "type": "bar",
           "x": [
            "Teatro<br>Juárez"
           ],
           "xaxis": "x",
           "y": {
            "bdata": "AAAAAAAAEEA=",
            "dtype": "f8"
           },
           "yaxis": "y"
          },
          {
           "hovertemplate": "Sitio Turístico=%{x}<br>Año=2009<br>Promedio de Calificación=%{text}<extra></extra>",
           "legendgroup": "Museo de<br>las Momias",
           "marker": {
            "color": "#29B6F6",
            "pattern": {
             "shape": ""
            }
           },
           "name": "Museo de<br>las Momias",
           "orientation": "v",
           "showlegend": true,
           "text": {
            "bdata": "AAAAAAAAEEA=",
            "dtype": "f8"
           },
           "textposition": "auto",
           "type": "bar",
           "x": [
            "Museo de<br>las Momias"
           ],
           "xaxis": "x",
           "y": {
            "bdata": "AAAAAAAAEEA=",
            "dtype": "f8"
           },
           "yaxis": "y"
          },
          {
           "hovertemplate": "Sitio Turístico=%{x}<br>Año=2009<br>Promedio de Calificación=%{text}<extra></extra>",
           "legendgroup": "Monumento<br>Pípila",
           "marker": {
            "color": "#66BB6A",
            "pattern": {
             "shape": ""
            }
           },
           "name": "Monumento<br>Pípila",
           "orientation": "v",
           "showlegend": true,
           "text": {
            "bdata": "AAAAAAAAFEA=",
            "dtype": "f8"
           },
           "textposition": "auto",
           "type": "bar",
           "x": [
            "Monumento<br>Pípila"
           ],
           "xaxis": "x",
           "y": {
            "bdata": "AAAAAAAAFEA=",
            "dtype": "f8"
           },
           "yaxis": "y"
          },
          {
           "hovertemplate": "Sitio Turístico=%{x}<br>Año=2009<br>Promedio de Calificación=%{text}<extra></extra>",
           "legendgroup": "Mercado<br>Hidalgo",
           "marker": {
            "color": "#AB47BC",
            "pattern": {
             "shape": ""
            }
           },
           "name": "Mercado<br>Hidalgo",
           "orientation": "v",
           "showlegend": true,
           "text": {
            "bdata": "AAAAAAAAEEA=",
            "dtype": "f8"
           },
           "textposition": "auto",
           "type": "bar",
           "x": [
            "Mercado<br>Hidalgo"
           ],
           "xaxis": "x",
           "y": {
            "bdata": "AAAAAAAAEEA=",
            "dtype": "f8"
           },
           "yaxis": "y"
          },
          {
           "hovertemplate": "Sitio Turístico=%{x}<br>Año=2009<br>Promedio de Calificación=%{text}<extra></extra>",
           "legendgroup": "Alhóndiga",
           "marker": {
            "color": "#8D6E63",
            "pattern": {
             "shape": ""
            }
           },
           "name": "Alhóndiga",
           "orientation": "v",
           "showlegend": true,
           "text": {
            "bdata": "AAAAAAAACEA=",
            "dtype": "f8"
           },
           "textposition": "auto",
           "type": "bar",
           "x": [
            "Alhóndiga"
           ],
           "xaxis": "x",
           "y": {
            "bdata": "AAAAAAAACEA=",
            "dtype": "f8"
           },
           "yaxis": "y"
          },
          {
           "hovertemplate": "Sitio Turístico=%{x}<br>Año=2009<br>Promedio de Calificación=%{text}<extra></extra>",
           "legendgroup": "Casa de<br>Diego Rivera",
           "marker": {
            "color": "#FFD600",
            "pattern": {
             "shape": ""
            }
           },
           "name": "Casa de<br>Diego Rivera",
           "orientation": "v",
           "showlegend": true,
           "text": {
            "bdata": "AAAAAAAAEEA=",
            "dtype": "f8"
           },
           "textposition": "auto",
           "type": "bar",
           "x": [
            "Casa de<br>Diego Rivera"
           ],
           "xaxis": "x",
           "y": {
            "bdata": "AAAAAAAAEEA=",
            "dtype": "f8"
           },
           "yaxis": "y"
          }
         ],
         "name": "2009"
        },
        {
         "data": [
          {
           "hovertemplate": "Sitio Turístico=%{x}<br>Año=2008<br>Promedio de Calificación=%{text}<extra></extra>",
           "legendgroup": "Museo de<br>las Momias",
           "marker": {
            "color": "#29B6F6",
            "pattern": {
             "shape": ""
            }
           },
           "name": "Museo de<br>las Momias",
           "orientation": "v",
           "showlegend": true,
           "text": {
            "bdata": "mpmZmZmZCUA=",
            "dtype": "f8"
           },
           "textposition": "auto",
           "type": "bar",
           "x": [
            "Museo de<br>las Momias"
           ],
           "xaxis": "x",
           "y": {
            "bdata": "mpmZmZmZCUA=",
            "dtype": "f8"
           },
           "yaxis": "y"
          },
          {
           "hovertemplate": "Sitio Turístico=%{x}<br>Año=2008<br>Promedio de Calificación=%{text}<extra></extra>",
           "legendgroup": "Callejón del<br>Beso",
           "marker": {
            "color": "#FFA726",
            "pattern": {
             "shape": ""
            }
           },
           "name": "Callejón del<br>Beso",
           "orientation": "v",
           "showlegend": true,
           "text": {
            "bdata": "AAAAAAAAEEA=",
            "dtype": "f8"
           },
           "textposition": "auto",
           "type": "bar",
           "x": [
            "Callejón del<br>Beso"
           ],
           "xaxis": "x",
           "y": {
            "bdata": "AAAAAAAAEEA=",
            "dtype": "f8"
           },
           "yaxis": "y"
          },
          {
           "hovertemplate": "Sitio Turístico=%{x}<br>Año=2008<br>Promedio de Calificación=%{text}<extra></extra>",
           "legendgroup": "Alhóndiga",
           "marker": {
            "color": "#8D6E63",
            "pattern": {
             "shape": ""
            }
           },
           "name": "Alhóndiga",
           "orientation": "v",
           "showlegend": true,
           "text": {
            "bdata": "AAAAAAAAFEA=",
            "dtype": "f8"
           },
           "textposition": "auto",
           "type": "bar",
           "x": [
            "Alhóndiga"
           ],
           "xaxis": "x",
           "y": {
            "bdata": "AAAAAAAAFEA=",
            "dtype": "f8"
           },
           "yaxis": "y"
          }
         ],
         "name": "2008"
        },
        {
         "data": [
          {
           "hovertemplate": "Sitio Turístico=%{x}<br>Año=2007<br>Promedio de Calificación=%{text}<extra></extra>",
           "legendgroup": "Teatro<br>Juárez",
           "marker": {
            "color": "#FF7043",
            "pattern": {
             "shape": ""
            }
           },
           "name": "Teatro<br>Juárez",
           "orientation": "v",
           "showlegend": true,
           "text": {
            "bdata": "AAAAAAAAFEA=",
            "dtype": "f8"
           },
           "textposition": "auto",
           "type": "bar",
           "x": [
            "Teatro<br>Juárez"
           ],
           "xaxis": "x",
           "y": {
            "bdata": "AAAAAAAAFEA=",
            "dtype": "f8"
           },
           "yaxis": "y"
          },
          {
           "hovertemplate": "Sitio Turístico=%{x}<br>Año=2007<br>Promedio de Calificación=%{text}<extra></extra>",
           "legendgroup": "Museo de<br>las Momias",
           "marker": {
            "color": "#29B6F6",
            "pattern": {
             "shape": ""
            }
           },
           "name": "Museo de<br>las Momias",
           "orientation": "v",
           "showlegend": true,
           "text": {
            "bdata": "AAAAAAAACEA=",
            "dtype": "f8"
           },
           "textposition": "auto",
           "type": "bar",
           "x": [
            "Museo de<br>las Momias"
           ],
           "xaxis": "x",
           "y": {
            "bdata": "AAAAAAAACEA=",
            "dtype": "f8"
           },
           "yaxis": "y"
          },
          {
           "hovertemplate": "Sitio Turístico=%{x}<br>Año=2007<br>Promedio de Calificación=%{text}<extra></extra>",
           "legendgroup": "Mercado<br>Hidalgo",
           "marker": {
            "color": "#AB47BC",
            "pattern": {
             "shape": ""
            }
           },
           "name": "Mercado<br>Hidalgo",
           "orientation": "v",
           "showlegend": true,
           "text": {
            "bdata": "AAAAAAAAFEA=",
            "dtype": "f8"
           },
           "textposition": "auto",
           "type": "bar",
           "x": [
            "Mercado<br>Hidalgo"
           ],
           "xaxis": "x",
           "y": {
            "bdata": "AAAAAAAAFEA=",
            "dtype": "f8"
           },
           "yaxis": "y"
          }
         ],
         "name": "2007"
        },
        {
         "data": [
          {
           "hovertemplate": "Sitio Turístico=%{x}<br>Año=2006<br>Promedio de Calificación=%{text}<extra></extra>",
           "legendgroup": "Museo de<br>las Momias",
           "marker": {
            "color": "#29B6F6",
            "pattern": {
             "shape": ""
            }
           },
           "name": "Museo de<br>las Momias",
           "orientation": "v",
           "showlegend": true,
           "text": {
            "bdata": "AAAAAAAAEEA=",
            "dtype": "f8"
           },
           "textposition": "auto",
           "type": "bar",
           "x": [
            "Museo de<br>las Momias"
           ],
           "xaxis": "x",
           "y": {
            "bdata": "AAAAAAAAEEA=",
            "dtype": "f8"
           },
           "yaxis": "y"
          }
         ],
         "name": "2006"
        },
        {
         "data": [
          {
           "hovertemplate": "Sitio Turístico=%{x}<br>Año=2005<br>Promedio de Calificación=%{text}<extra></extra>",
           "legendgroup": "Museo de<br>las Momias",
           "marker": {
            "color": "#29B6F6",
            "pattern": {
             "shape": ""
            }
           },
           "name": "Museo de<br>las Momias",
           "orientation": "v",
           "showlegend": true,
           "text": {
            "bdata": "AAAAAAAACEA=",
            "dtype": "f8"
           },
           "textposition": "auto",
           "type": "bar",
           "x": [
            "Museo de<br>las Momias"
           ],
           "xaxis": "x",
           "y": {
            "bdata": "AAAAAAAACEA=",
            "dtype": "f8"
           },
           "yaxis": "y"
          }
         ],
         "name": "2005"
        },
        {
         "data": [
          {
           "hovertemplate": "Sitio Turístico=%{x}<br>Año=2004<br>Promedio de Calificación=%{text}<extra></extra>",
           "legendgroup": "Museo de<br>las Momias",
           "marker": {
            "color": "#29B6F6",
            "pattern": {
             "shape": ""
            }
           },
           "name": "Museo de<br>las Momias",
           "orientation": "v",
           "showlegend": true,
           "text": {
            "bdata": "AAAAAAAAEkA=",
            "dtype": "f8"
           },
           "textposition": "auto",
           "type": "bar",
           "x": [
            "Museo de<br>las Momias"
           ],
           "xaxis": "x",
           "y": {
            "bdata": "AAAAAAAAEkA=",
            "dtype": "f8"
           },
           "yaxis": "y"
          },
          {
           "hovertemplate": "Sitio Turístico=%{x}<br>Año=2004<br>Promedio de Calificación=%{text}<extra></extra>",
           "legendgroup": "Monumento<br>Pípila",
           "marker": {
            "color": "#66BB6A",
            "pattern": {
             "shape": ""
            }
           },
           "name": "Monumento<br>Pípila",
           "orientation": "v",
           "showlegend": true,
           "text": {
            "bdata": "AAAAAAAAEEA=",
            "dtype": "f8"
           },
           "textposition": "auto",
           "type": "bar",
           "x": [
            "Monumento<br>Pípila"
           ],
           "xaxis": "x",
           "y": {
            "bdata": "AAAAAAAAEEA=",
            "dtype": "f8"
           },
           "yaxis": "y"
          },
          {
           "hovertemplate": "Sitio Turístico=%{x}<br>Año=2004<br>Promedio de Calificación=%{text}<extra></extra>",
           "legendgroup": "Jardín de<br>la Unión",
           "marker": {
            "color": "#EC407A",
            "pattern": {
             "shape": ""
            }
           },
           "name": "Jardín de<br>la Unión",
           "orientation": "v",
           "showlegend": true,
           "text": {
            "bdata": "AAAAAAAAFEA=",
            "dtype": "f8"
           },
           "textposition": "auto",
           "type": "bar",
           "x": [
            "Jardín de<br>la Unión"
           ],
           "xaxis": "x",
           "y": {
            "bdata": "AAAAAAAAFEA=",
            "dtype": "f8"
           },
           "yaxis": "y"
          },
          {
           "hovertemplate": "Sitio Turístico=%{x}<br>Año=2004<br>Promedio de Calificación=%{text}<extra></extra>",
           "legendgroup": "Callejón del<br>Beso",
           "marker": {
            "color": "#FFA726",
            "pattern": {
             "shape": ""
            }
           },
           "name": "Callejón del<br>Beso",
           "orientation": "v",
           "showlegend": true,
           "text": {
            "bdata": "AAAAAAAAFEA=",
            "dtype": "f8"
           },
           "textposition": "auto",
           "type": "bar",
           "x": [
            "Callejón del<br>Beso"
           ],
           "xaxis": "x",
           "y": {
            "bdata": "AAAAAAAAFEA=",
            "dtype": "f8"
           },
           "yaxis": "y"
          }
         ],
         "name": "2004"
        },
        {
         "data": [
          {
           "hovertemplate": "Sitio Turístico=%{x}<br>Año=2003<br>Promedio de Calificación=%{text}<extra></extra>",
           "legendgroup": "Museo de<br>las Momias",
           "marker": {
            "color": "#29B6F6",
            "pattern": {
             "shape": ""
            }
           },
           "name": "Museo de<br>las Momias",
           "orientation": "v",
           "showlegend": true,
           "text": {
            "bdata": "AAAAAAAAFEA=",
            "dtype": "f8"
           },
           "textposition": "auto",
           "type": "bar",
           "x": [
            "Museo de<br>las Momias"
           ],
           "xaxis": "x",
           "y": {
            "bdata": "AAAAAAAAFEA=",
            "dtype": "f8"
           },
           "yaxis": "y"
          },
          {
           "hovertemplate": "Sitio Turístico=%{x}<br>Año=2003<br>Promedio de Calificación=%{text}<extra></extra>",
           "legendgroup": "Casa de<br>Diego Rivera",
           "marker": {
            "color": "#FFD600",
            "pattern": {
             "shape": ""
            }
           },
           "name": "Casa de<br>Diego Rivera",
           "orientation": "v",
           "showlegend": true,
           "text": {
            "bdata": "AAAAAAAAEEA=",
            "dtype": "f8"
           },
           "textposition": "auto",
           "type": "bar",
           "x": [
            "Casa de<br>Diego Rivera"
           ],
           "xaxis": "x",
           "y": {
            "bdata": "AAAAAAAAEEA=",
            "dtype": "f8"
           },
           "yaxis": "y"
          }
         ],
         "name": "2003"
        },
        {
         "data": [
          {
           "hovertemplate": "Sitio Turístico=%{x}<br>Año=2002<br>Promedio de Calificación=%{text}<extra></extra>",
           "legendgroup": "Callejón del<br>Beso",
           "marker": {
            "color": "#FFA726",
            "pattern": {
             "shape": ""
            }
           },
           "name": "Callejón del<br>Beso",
           "orientation": "v",
           "showlegend": true,
           "text": {
            "bdata": "AAAAAAAAFEA=",
            "dtype": "f8"
           },
           "textposition": "auto",
           "type": "bar",
           "x": [
            "Callejón del<br>Beso"
           ],
           "xaxis": "x",
           "y": {
            "bdata": "AAAAAAAAFEA=",
            "dtype": "f8"
           },
           "yaxis": "y"
          }
         ],
         "name": "2002"
        }
       ],
       "layout": {
        "barmode": "relative",
        "font": {
         "color": "#34495e",
         "family": "DejaVu Sans",
         "size": 15
        },
        "legend": {
         "title": {
          "text": "Sitio Turístico"
         },
         "tracegroupgap": 0
        },
        "margin": {
         "b": 40,
         "l": 40,
         "r": 40,
         "t": 80
        },
        "paper_bgcolor": "#e3f2fd",
        "plot_bgcolor": "#f8fafc",
        "showlegend": false,
        "sliders": [
         {
          "active": 0,
          "currentvalue": {
           "prefix": "Año="
          },
          "len": 0.9,
          "pad": {
           "b": 10,
           "t": 60
          },
          "steps": [
           {
            "args": [
             [
              "2018"
             ],
             {
              "frame": {
               "duration": 0,
               "redraw": true
              },
              "fromcurrent": true,
              "mode": "immediate",
              "transition": {
               "duration": 0,
               "easing": "linear"
              }
             }
            ],
            "label": "2018",
            "method": "animate"
           },
           {
            "args": [
             [
              "2017"
             ],
             {
              "frame": {
               "duration": 0,
               "redraw": true
              },
              "fromcurrent": true,
              "mode": "immediate",
              "transition": {
               "duration": 0,
               "easing": "linear"
              }
             }
            ],
            "label": "2017",
            "method": "animate"
           },
           {
            "args": [
             [
              "2016"
             ],
             {
              "frame": {
               "duration": 0,
               "redraw": true
              },
              "fromcurrent": true,
              "mode": "immediate",
              "transition": {
               "duration": 0,
               "easing": "linear"
              }
             }
            ],
            "label": "2016",
            "method": "animate"
           },
           {
            "args": [
             [
              "2015"
             ],
             {
              "frame": {
               "duration": 0,
               "redraw": true
              },
              "fromcurrent": true,
              "mode": "immediate",
              "transition": {
               "duration": 0,
               "easing": "linear"
              }
             }
            ],
            "label": "2015",
            "method": "animate"
           },
           {
            "args": [
             [
              "2014"
             ],
             {
              "frame": {
               "duration": 0,
               "redraw": true
              },
              "fromcurrent": true,
              "mode": "immediate",
              "transition": {
               "duration": 0,
               "easing": "linear"
              }
             }
            ],
            "label": "2014",
            "method": "animate"
           },
           {
            "args": [
             [
              "2013"
             ],
             {
              "frame": {
               "duration": 0,
               "redraw": true
              },
              "fromcurrent": true,
              "mode": "immediate",
              "transition": {
               "duration": 0,
               "easing": "linear"
              }
             }
            ],
            "label": "2013",
            "method": "animate"
           },
           {
            "args": [
             [
              "2012"
             ],
             {
              "frame": {
               "duration": 0,
               "redraw": true
              },
              "fromcurrent": true,
              "mode": "immediate",
              "transition": {
               "duration": 0,
               "easing": "linear"
              }
             }
            ],
            "label": "2012",
            "method": "animate"
           },
           {
            "args": [
             [
              "2011"
             ],
             {
              "frame": {
               "duration": 0,
               "redraw": true
              },
              "fromcurrent": true,
              "mode": "immediate",
              "transition": {
               "duration": 0,
               "easing": "linear"
              }
             }
            ],
            "label": "2011",
            "method": "animate"
           },
           {
            "args": [
             [
              "2010"
             ],
             {
              "frame": {
               "duration": 0,
               "redraw": true
              },
              "fromcurrent": true,
              "mode": "immediate",
              "transition": {
               "duration": 0,
               "easing": "linear"
              }
             }
            ],
            "label": "2010",
            "method": "animate"
           },
           {
            "args": [
             [
              "2009"
             ],
             {
              "frame": {
               "duration": 0,
               "redraw": true
              },
              "fromcurrent": true,
              "mode": "immediate",
              "transition": {
               "duration": 0,
               "easing": "linear"
              }
             }
            ],
            "label": "2009",
            "method": "animate"
           },
           {
            "args": [
             [
              "2008"
             ],
             {
              "frame": {
               "duration": 0,
               "redraw": true
              },
              "fromcurrent": true,
              "mode": "immediate",
              "transition": {
               "duration": 0,
               "easing": "linear"
              }
             }
            ],
            "label": "2008",
            "method": "animate"
           },
           {
            "args": [
             [
              "2007"
             ],
             {
              "frame": {
               "duration": 0,
               "redraw": true
              },
              "fromcurrent": true,
              "mode": "immediate",
              "transition": {
               "duration": 0,
               "easing": "linear"
              }
             }
            ],
            "label": "2007",
            "method": "animate"
           },
           {
            "args": [
             [
              "2006"
             ],
             {
              "frame": {
               "duration": 0,
               "redraw": true
              },
              "fromcurrent": true,
              "mode": "immediate",
              "transition": {
               "duration": 0,
               "easing": "linear"
              }
             }
            ],
            "label": "2006",
            "method": "animate"
           },
           {
            "args": [
             [
              "2005"
             ],
             {
              "frame": {
               "duration": 0,
               "redraw": true
              },
              "fromcurrent": true,
              "mode": "immediate",
              "transition": {
               "duration": 0,
               "easing": "linear"
              }
             }
            ],
            "label": "2005",
            "method": "animate"
           },
           {
            "args": [
             [
              "2004"
             ],
             {
              "frame": {
               "duration": 0,
               "redraw": true
              },
              "fromcurrent": true,
              "mode": "immediate",
              "transition": {
               "duration": 0,
               "easing": "linear"
              }
             }
            ],
            "label": "2004",
            "method": "animate"
           },
           {
            "args": [
             [
              "2003"
             ],
             {
              "frame": {
               "duration": 0,
               "redraw": true
              },
              "fromcurrent": true,
              "mode": "immediate",
              "transition": {
               "duration": 0,
               "easing": "linear"
              }
             }
            ],
            "label": "2003",
            "method": "animate"
           },
           {
            "args": [
             [
              "2002"
             ],
             {
              "frame": {
               "duration": 0,
               "redraw": true
              },
              "fromcurrent": true,
              "mode": "immediate",
              "transition": {
               "duration": 0,
               "easing": "linear"
              }
             }
            ],
            "label": "2002",
            "method": "animate"
           }
          ],
          "x": 0.1,
          "xanchor": "left",
          "y": 0,
          "yanchor": "top"
         }
        ],
        "template": {
         "data": {
          "bar": [
           {
            "error_x": {
             "color": "#2a3f5f"
            },
            "error_y": {
             "color": "#2a3f5f"
            },
            "marker": {
             "line": {
              "color": "#E5ECF6",
              "width": 0.5
             },
             "pattern": {
              "fillmode": "overlay",
              "size": 10,
              "solidity": 0.2
             }
            },
            "type": "bar"
           }
          ],
          "barpolar": [
           {
            "marker": {
             "line": {
              "color": "#E5ECF6",
              "width": 0.5
             },
             "pattern": {
              "fillmode": "overlay",
              "size": 10,
              "solidity": 0.2
             }
            },
            "type": "barpolar"
           }
          ],
          "carpet": [
           {
            "aaxis": {
             "endlinecolor": "#2a3f5f",
             "gridcolor": "white",
             "linecolor": "white",
             "minorgridcolor": "white",
             "startlinecolor": "#2a3f5f"
            },
            "baxis": {
             "endlinecolor": "#2a3f5f",
             "gridcolor": "white",
             "linecolor": "white",
             "minorgridcolor": "white",
             "startlinecolor": "#2a3f5f"
            },
            "type": "carpet"
           }
          ],
          "choropleth": [
           {
            "colorbar": {
             "outlinewidth": 0,
             "ticks": ""
            },
            "type": "choropleth"
           }
          ],
          "contour": [
           {
            "colorbar": {
             "outlinewidth": 0,
             "ticks": ""
            },
            "colorscale": [
             [
              0,
              "#0d0887"
             ],
             [
              0.1111111111111111,
              "#46039f"
             ],
             [
              0.2222222222222222,
              "#7201a8"
             ],
             [
              0.3333333333333333,
              "#9c179e"
             ],
             [
              0.4444444444444444,
              "#bd3786"
             ],
             [
              0.5555555555555556,
              "#d8576b"
             ],
             [
              0.6666666666666666,
              "#ed7953"
             ],
             [
              0.7777777777777778,
              "#fb9f3a"
             ],
             [
              0.8888888888888888,
              "#fdca26"
             ],
             [
              1,
              "#f0f921"
             ]
            ],
            "type": "contour"
           }
          ],
          "contourcarpet": [
           {
            "colorbar": {
             "outlinewidth": 0,
             "ticks": ""
            },
            "type": "contourcarpet"
           }
          ],
          "heatmap": [
           {
            "colorbar": {
             "outlinewidth": 0,
             "ticks": ""
            },
            "colorscale": [
             [
              0,
              "#0d0887"
             ],
             [
              0.1111111111111111,
              "#46039f"
             ],
             [
              0.2222222222222222,
              "#7201a8"
             ],
             [
              0.3333333333333333,
              "#9c179e"
             ],
             [
              0.4444444444444444,
              "#bd3786"
             ],
             [
              0.5555555555555556,
              "#d8576b"
             ],
             [
              0.6666666666666666,
              "#ed7953"
             ],
             [
              0.7777777777777778,
              "#fb9f3a"
             ],
             [
              0.8888888888888888,
              "#fdca26"
             ],
             [
              1,
              "#f0f921"
             ]
            ],
            "type": "heatmap"
           }
          ],
          "histogram": [
           {
            "marker": {
             "pattern": {
              "fillmode": "overlay",
              "size": 10,
              "solidity": 0.2
             }
            },
            "type": "histogram"
           }
          ],
          "histogram2d": [
           {
            "colorbar": {
             "outlinewidth": 0,
             "ticks": ""
            },
            "colorscale": [
             [
              0,
              "#0d0887"
             ],
             [
              0.1111111111111111,
              "#46039f"
             ],
             [
              0.2222222222222222,
              "#7201a8"
             ],
             [
              0.3333333333333333,
              "#9c179e"
             ],
             [
              0.4444444444444444,
              "#bd3786"
             ],
             [
              0.5555555555555556,
              "#d8576b"
             ],
             [
              0.6666666666666666,
              "#ed7953"
             ],
             [
              0.7777777777777778,
              "#fb9f3a"
             ],
             [
              0.8888888888888888,
              "#fdca26"
             ],
             [
              1,
              "#f0f921"
             ]
            ],
            "type": "histogram2d"
           }
          ],
          "histogram2dcontour": [
           {
            "colorbar": {
             "outlinewidth": 0,
             "ticks": ""
            },
            "colorscale": [
             [
              0,
              "#0d0887"
             ],
             [
              0.1111111111111111,
              "#46039f"
             ],
             [
              0.2222222222222222,
              "#7201a8"
             ],
             [
              0.3333333333333333,
              "#9c179e"
             ],
             [
              0.4444444444444444,
              "#bd3786"
             ],
             [
              0.5555555555555556,
              "#d8576b"
             ],
             [
              0.6666666666666666,
              "#ed7953"
             ],
             [
              0.7777777777777778,
              "#fb9f3a"
             ],
             [
              0.8888888888888888,
              "#fdca26"
             ],
             [
              1,
              "#f0f921"
             ]
            ],
            "type": "histogram2dcontour"
           }
          ],
          "mesh3d": [
           {
            "colorbar": {
             "outlinewidth": 0,
             "ticks": ""
            },
            "type": "mesh3d"
           }
          ],
          "parcoords": [
           {
            "line": {
             "colorbar": {
              "outlinewidth": 0,
              "ticks": ""
             }
            },
            "type": "parcoords"
           }
          ],
          "pie": [
           {
            "automargin": true,
            "type": "pie"
           }
          ],
          "scatter": [
           {
            "fillpattern": {
             "fillmode": "overlay",
             "size": 10,
             "solidity": 0.2
            },
            "type": "scatter"
           }
          ],
          "scatter3d": [
           {
            "line": {
             "colorbar": {
              "outlinewidth": 0,
              "ticks": ""
             }
            },
            "marker": {
             "colorbar": {
              "outlinewidth": 0,
              "ticks": ""
             }
            },
            "type": "scatter3d"
           }
          ],
          "scattercarpet": [
           {
            "marker": {
             "colorbar": {
              "outlinewidth": 0,
              "ticks": ""
             }
            },
            "type": "scattercarpet"
           }
          ],
          "scattergeo": [
           {
            "marker": {
             "colorbar": {
              "outlinewidth": 0,
              "ticks": ""
             }
            },
            "type": "scattergeo"
           }
          ],
          "scattergl": [
           {
            "marker": {
             "colorbar": {
              "outlinewidth": 0,
              "ticks": ""
             }
            },
            "type": "scattergl"
           }
          ],
          "scattermap": [
           {
            "marker": {
             "colorbar": {
              "outlinewidth": 0,
              "ticks": ""
             }
            },
            "type": "scattermap"
           }
          ],
          "scattermapbox": [
           {
            "marker": {
             "colorbar": {
              "outlinewidth": 0,
              "ticks": ""
             }
            },
            "type": "scattermapbox"
           }
          ],
          "scatterpolar": [
           {
            "marker": {
             "colorbar": {
              "outlinewidth": 0,
              "ticks": ""
             }
            },
            "type": "scatterpolar"
           }
          ],
          "scatterpolargl": [
           {
            "marker": {
             "colorbar": {
              "outlinewidth": 0,
              "ticks": ""
             }
            },
            "type": "scatterpolargl"
           }
          ],
          "scatterternary": [
           {
            "marker": {
             "colorbar": {
              "outlinewidth": 0,
              "ticks": ""
             }
            },
            "type": "scatterternary"
           }
          ],
          "surface": [
           {
            "colorbar": {
             "outlinewidth": 0,
             "ticks": ""
            },
            "colorscale": [
             [
              0,
              "#0d0887"
             ],
             [
              0.1111111111111111,
              "#46039f"
             ],
             [
              0.2222222222222222,
              "#7201a8"
             ],
             [
              0.3333333333333333,
              "#9c179e"
             ],
             [
              0.4444444444444444,
              "#bd3786"
             ],
             [
              0.5555555555555556,
              "#d8576b"
             ],
             [
              0.6666666666666666,
              "#ed7953"
             ],
             [
              0.7777777777777778,
              "#fb9f3a"
             ],
             [
              0.8888888888888888,
              "#fdca26"
             ],
             [
              1,
              "#f0f921"
             ]
            ],
            "type": "surface"
           }
          ],
          "table": [
           {
            "cells": {
             "fill": {
              "color": "#EBF0F8"
             },
             "line": {
              "color": "white"
             }
            },
            "header": {
             "fill": {
              "color": "#C8D4E3"
             },
             "line": {
              "color": "white"
             }
            },
            "type": "table"
           }
          ]
         },
         "layout": {
          "annotationdefaults": {
           "arrowcolor": "#2a3f5f",
           "arrowhead": 0,
           "arrowwidth": 1
          },
          "autotypenumbers": "strict",
          "coloraxis": {
           "colorbar": {
            "outlinewidth": 0,
            "ticks": ""
           }
          },
          "colorscale": {
           "diverging": [
            [
             0,
             "#8e0152"
            ],
            [
             0.1,
             "#c51b7d"
            ],
            [
             0.2,
             "#de77ae"
            ],
            [
             0.3,
             "#f1b6da"
            ],
            [
             0.4,
             "#fde0ef"
            ],
            [
             0.5,
             "#f7f7f7"
            ],
            [
             0.6,
             "#e6f5d0"
            ],
            [
             0.7,
             "#b8e186"
            ],
            [
             0.8,
             "#7fbc41"
            ],
            [
             0.9,
             "#4d9221"
            ],
            [
             1,
             "#276419"
            ]
           ],
           "sequential": [
            [
             0,
             "#0d0887"
            ],
            [
             0.1111111111111111,
             "#46039f"
            ],
            [
             0.2222222222222222,
             "#7201a8"
            ],
            [
             0.3333333333333333,
             "#9c179e"
            ],
            [
             0.4444444444444444,
             "#bd3786"
            ],
            [
             0.5555555555555556,
             "#d8576b"
            ],
            [
             0.6666666666666666,
             "#ed7953"
            ],
            [
             0.7777777777777778,
             "#fb9f3a"
            ],
            [
             0.8888888888888888,
             "#fdca26"
            ],
            [
             1,
             "#f0f921"
            ]
           ],
           "sequentialminus": [
            [
             0,
             "#0d0887"
            ],
            [
             0.1111111111111111,
             "#46039f"
            ],
            [
             0.2222222222222222,
             "#7201a8"
            ],
            [
             0.3333333333333333,
             "#9c179e"
            ],
            [
             0.4444444444444444,
             "#bd3786"
            ],
            [
             0.5555555555555556,
             "#d8576b"
            ],
            [
             0.6666666666666666,
             "#ed7953"
            ],
            [
             0.7777777777777778,
             "#fb9f3a"
            ],
            [
             0.8888888888888888,
             "#fdca26"
            ],
            [
             1,
             "#f0f921"
            ]
           ]
          },
          "colorway": [
           "#636efa",
           "#EF553B",
           "#00cc96",
           "#ab63fa",
           "#FFA15A",
           "#19d3f3",
           "#FF6692",
           "#B6E880",
           "#FF97FF",
           "#FECB52"
          ],
          "font": {
           "color": "#2a3f5f"
          },
          "geo": {
           "bgcolor": "white",
           "lakecolor": "white",
           "landcolor": "#E5ECF6",
           "showlakes": true,
           "showland": true,
           "subunitcolor": "white"
          },
          "hoverlabel": {
           "align": "left"
          },
          "hovermode": "closest",
          "mapbox": {
           "style": "light"
          },
          "paper_bgcolor": "white",
          "plot_bgcolor": "#E5ECF6",
          "polar": {
           "angularaxis": {
            "gridcolor": "white",
            "linecolor": "white",
            "ticks": ""
           },
           "bgcolor": "#E5ECF6",
           "radialaxis": {
            "gridcolor": "white",
            "linecolor": "white",
            "ticks": ""
           }
          },
          "scene": {
           "xaxis": {
            "backgroundcolor": "#E5ECF6",
            "gridcolor": "white",
            "gridwidth": 2,
            "linecolor": "white",
            "showbackground": true,
            "ticks": "",
            "zerolinecolor": "white"
           },
           "yaxis": {
            "backgroundcolor": "#E5ECF6",
            "gridcolor": "white",
            "gridwidth": 2,
            "linecolor": "white",
            "showbackground": true,
            "ticks": "",
            "zerolinecolor": "white"
           },
           "zaxis": {
            "backgroundcolor": "#E5ECF6",
            "gridcolor": "white",
            "gridwidth": 2,
            "linecolor": "white",
            "showbackground": true,
            "ticks": "",
            "zerolinecolor": "white"
           }
          },
          "shapedefaults": {
           "line": {
            "color": "#2a3f5f"
           }
          },
          "ternary": {
           "aaxis": {
            "gridcolor": "white",
            "linecolor": "white",
            "ticks": ""
           },
           "baxis": {
            "gridcolor": "white",
            "linecolor": "white",
            "ticks": ""
           },
           "bgcolor": "#E5ECF6",
           "caxis": {
            "gridcolor": "white",
            "linecolor": "white",
            "ticks": ""
           }
          },
          "title": {
           "x": 0.05
          },
          "xaxis": {
           "automargin": true,
           "gridcolor": "white",
           "linecolor": "white",
           "ticks": "",
           "title": {
            "standoff": 15
           },
           "zerolinecolor": "white",
           "zerolinewidth": 2
          },
          "yaxis": {
           "automargin": true,
           "gridcolor": "white",
           "linecolor": "white",
           "ticks": "",
           "title": {
            "standoff": 15
           },
           "zerolinecolor": "white",
           "zerolinewidth": 2
          }
         }
        },
        "title": {
         "font": {
          "color": "#283747",
          "family": "DejaVu Sans",
          "size": 22
         },
         "text": "<b>Evolución anual del promedio de calificaciones por sitio turístico en Guanajuato</b>",
         "x": 0.5,
         "xanchor": "center"
        },
        "transition": {
         "duration": 500
        },
        "updatemenus": [
         {
          "buttons": [
           {
            "args": [
             null,
             {
              "frame": {
               "duration": 500,
               "redraw": true
              },
              "fromcurrent": true,
              "mode": "immediate",
              "transition": {
               "duration": 500,
               "easing": "linear"
              }
             }
            ],
            "label": "&#9654;",
            "method": "animate"
           },
           {
            "args": [
             [
              null
             ],
             {
              "frame": {
               "duration": 0,
               "redraw": true
              },
              "fromcurrent": true,
              "mode": "immediate",
              "transition": {
               "duration": 0,
               "easing": "linear"
              }
             }
            ],
            "label": "&#9724;",
            "method": "animate"
           }
          ],
          "direction": "left",
          "pad": {
           "r": 10,
           "t": 70
          },
          "showactive": false,
          "type": "buttons",
          "x": 0.1,
          "xanchor": "right",
          "y": 0,
          "yanchor": "top"
         }
        ],
        "xaxis": {
         "anchor": "y",
         "categoryarray": [
          "Universidad de<br>Guanajuato",
          "Teatro<br>Juárez",
          "Museo de<br>las Momias",
          "Monumento<br>Pípila",
          "Mercado<br>Hidalgo",
          "Jardín de<br>la Unión",
          "Callejón del<br>Beso",
          "Basílica <br>Colegiata",
          "Alhóndiga",
          "Casa de<br>Diego Rivera"
         ],
         "categoryorder": "array",
         "domain": [
          0,
          1
         ],
         "tickangle": -30,
         "tickfont": {
          "color": "#34495e",
          "family": "DejaVu Sans",
          "size": 14
         },
         "title": {
          "text": "Sitio Turístico"
         }
        },
        "yaxis": {
         "anchor": "x",
         "domain": [
          0,
          1
         ],
         "gridcolor": "#b2bec3",
         "gridwidth": 0.5,
         "range": [
          0,
          5.5
         ],
         "title": {
          "font": {
           "color": "#1b2631",
           "family": "DejaVu Sans",
           "size": 16
          },
          "text": "Promedio de Calificación"
         }
        }
       }
      }
     },
     "metadata": {},
     "output_type": "display_data"
    }
   ],
   "source": [
    "fig = px.bar(\n",
    "    evolucion_calificaciones,\n",
    "    x='sitio',\n",
    "    y='promedioCalificacion',\n",
    "    color='sitio',\n",
    "    animation_frame='Año',\n",
    "    title='Evolución anual del promedio de calificaciones por sitio turístico en Guanajuato',\n",
    "    labels={'promedioCalificacion': 'Promedio de Calificación', 'sitio': 'Sitio Turístico'},\n",
    "    range_y=(0, 5.5),\n",
    "    text='promedioCalificacion',\n",
    "    color_discrete_sequence=turismo_colors\n",
    ")\n",
    "\n",
    "fig.update_traces(\n",
    "    texttemplate='%{text:.2f}',\n",
    "    textposition='outside',\n",
    "    marker_line_color='#333',\n",
    "    marker_line_width=2,\n",
    "    opacity=0.95\n",
    ")\n",
    "\n",
    "fig.update_layout(\n",
    "    xaxis_tickangle=-30,\n",
    "    plot_bgcolor='#f8fafc',\n",
    "    paper_bgcolor='#e3f2fd',\n",
    "    font=dict(family='DejaVu Sans', size=15, color='#34495e'),\n",
    "    title_font=dict(size=22, color='#283747', family='DejaVu Sans'),\n",
    "    margin=dict(l=40, r=40, t=80, b=40),\n",
    "    transition={'duration': 500},\n",
    "    showlegend=False,\n",
    "    xaxis=dict(\n",
    "        tickfont=dict(size=14, color='#34495e', family='DejaVu Sans')\n",
    "    ),\n",
    "    yaxis=dict(\n",
    "        title_font=dict(size=16, color='#1b2631', family='DejaVu Sans'),\n",
    "        gridcolor='#b2bec3',\n",
    "        gridwidth=0.5\n",
    "    ),\n",
    "    title={\n",
    "        'text': '<b>Evolución anual del promedio de calificaciones por sitio turístico en Guanajuato</b>',\n",
    "        'x':0.5,\n",
    "        'xanchor': 'center'\n",
    "    }\n",
    ")\n",
    "\n",
    "fig.show()\n"
   ]
  },
  {
   "cell_type": "code",
   "execution_count": 122,
   "id": "51180f74",
   "metadata": {},
   "outputs": [
    {
     "name": "stdout",
     "output_type": "stream",
     "text": [
      "    Nacional ó Internacional   Año                   sitio  conteo\n",
      "95             Internacional  2018  Basílica <br>Colegiata      31\n",
      "182                 Nacional  2018               Alhóndiga      30\n",
      "    Nacional ó Internacional   Año                   sitio  conteo  \\\n",
      "95             Internacional  2018  Basílica <br>Colegiata      31   \n",
      "182                 Nacional  2018               Alhóndiga      30   \n",
      "\n",
      "     total_por_año_sitio  porcentaje  \n",
      "95                    46   67.391304  \n",
      "182                   59   50.847458  \n"
     ]
    }
   ],
   "source": [
    "\n",
    "nacionalidadAño = all_sites[['Nacional ó Internacional', 'Año', 'sitio']].copy()\n",
    "nacionalidadAño = nacionalidadAño.groupby(['Nacional ó Internacional', 'Año', 'sitio']).size().reset_index(name='conteo')\n",
    "nacionalidadAño = nacionalidadAño.sort_values(by='Año', ascending=False)\n",
    "print(nacionalidadAño.head(2))\n",
    "\n",
    "nacionalidadAño['total_por_año_sitio'] = nacionalidadAño.groupby(['Año', 'sitio'])['conteo'].transform('sum')\n",
    "nacionalidadAño['porcentaje'] = (nacionalidadAño['conteo'] / nacionalidadAño['total_por_año_sitio']) * 100\n",
    "print(nacionalidadAño.head(2))"
   ]
  },
  {
   "cell_type": "code",
   "execution_count": 123,
   "id": "518a5fe0",
   "metadata": {},
   "outputs": [
    {
     "data": {
      "application/vnd.plotly.v1+json": {
       "config": {
        "plotlyServerURL": "https://plot.ly"
       },
       "data": [
        {
         "hovertemplate": "Nacional ó Internacional=Internacional<br>sitio=Basílica <br>Colegiata<br>Año=%{x}<br>Porcentaje de Visitantes (%)=%{text}<extra></extra>",
         "legendgroup": "Internacional",
         "marker": {
          "color": "#29B6F6",
          "line": {
           "color": "#333",
           "width": 2
          },
          "pattern": {
           "shape": ""
          }
         },
         "name": "Internacional",
         "opacity": 0.95,
         "orientation": "v",
         "showlegend": true,
         "text": {
          "bdata": "hixkIQvZUEBBGqRBGqRJQKLSkT0DUUlAoryG8hrKSUBXEJMriMlNQOU1lNdQXkZAIjXBeCv7QECqqqqqqqowQA==",
          "dtype": "f8"
         },
         "textposition": "outside",
         "texttemplate": "%{text:.1f}%",
         "type": "bar",
         "x": {
          "bdata": "4gcAAOEHAADgBwAA3wcAAN4HAADdBwAA3AcAANsHAAA=",
          "dtype": "i4"
         },
         "xaxis": "x",
         "y": {
          "bdata": "hixkIQvZUEBBGqRBGqRJQKLSkT0DUUlAoryG8hrKSUBXEJMriMlNQOU1lNdQXkZAIjXBeCv7QECqqqqqqqowQA==",
          "dtype": "f8"
         },
         "yaxis": "y"
        },
        {
         "hovertemplate": "Nacional ó Internacional=Nacional<br>sitio=Basílica <br>Colegiata<br>Año=%{x}<br>Porcentaje de Visitantes (%)=%{text}<extra></extra>",
         "legendgroup": "Nacional",
         "marker": {
          "color": "#AB47BC",
          "line": {
           "color": "#333",
           "width": 2
          },
          "pattern": {
           "shape": ""
          }
         },
         "name": "Nacional",
         "opacity": 0.95,
         "orientation": "v",
         "showlegend": true,
         "text": {
          "bdata": "9aY3velNQEC+5Vu+5VtIQF4tbsL8rkhAXkN5DeU1SECo72zUdzZEQBzKayivoUtAb2WfQ2qCUEBWVVVVVdVUQA==",
          "dtype": "f8"
         },
         "textposition": "outside",
         "texttemplate": "%{text:.1f}%",
         "type": "bar",
         "x": {
          "bdata": "4gcAAOEHAADgBwAA3wcAAN4HAADdBwAA3AcAANsHAAA=",
          "dtype": "i4"
         },
         "xaxis": "x",
         "y": {
          "bdata": "9aY3velNQEC+5Vu+5VtIQF4tbsL8rkhAXkN5DeU1SECo72zUdzZEQBzKayivoUtAb2WfQ2qCUEBWVVVVVdVUQA==",
          "dtype": "f8"
         },
         "yaxis": "y"
        }
       ],
       "frames": [
        {
         "data": [
          {
           "hovertemplate": "Nacional ó Internacional=Internacional<br>sitio=Basílica <br>Colegiata<br>Año=%{x}<br>Porcentaje de Visitantes (%)=%{text}<extra></extra>",
           "legendgroup": "Internacional",
           "marker": {
            "color": "#29B6F6",
            "pattern": {
             "shape": ""
            }
           },
           "name": "Internacional",
           "orientation": "v",
           "showlegend": true,
           "text": {
            "bdata": "hixkIQvZUEBBGqRBGqRJQKLSkT0DUUlAoryG8hrKSUBXEJMriMlNQOU1lNdQXkZAIjXBeCv7QECqqqqqqqowQA==",
            "dtype": "f8"
           },
           "textposition": "auto",
           "type": "bar",
           "x": {
            "bdata": "4gcAAOEHAADgBwAA3wcAAN4HAADdBwAA3AcAANsHAAA=",
            "dtype": "i4"
           },
           "xaxis": "x",
           "y": {
            "bdata": "hixkIQvZUEBBGqRBGqRJQKLSkT0DUUlAoryG8hrKSUBXEJMriMlNQOU1lNdQXkZAIjXBeCv7QECqqqqqqqowQA==",
            "dtype": "f8"
           },
           "yaxis": "y"
          },
          {
           "hovertemplate": "Nacional ó Internacional=Nacional<br>sitio=Basílica <br>Colegiata<br>Año=%{x}<br>Porcentaje de Visitantes (%)=%{text}<extra></extra>",
           "legendgroup": "Nacional",
           "marker": {
            "color": "#AB47BC",
            "pattern": {
             "shape": ""
            }
           },
           "name": "Nacional",
           "orientation": "v",
           "showlegend": true,
           "text": {
            "bdata": "9aY3velNQEC+5Vu+5VtIQF4tbsL8rkhAXkN5DeU1SECo72zUdzZEQBzKayivoUtAb2WfQ2qCUEBWVVVVVdVUQA==",
            "dtype": "f8"
           },
           "textposition": "auto",
           "type": "bar",
           "x": {
            "bdata": "4gcAAOEHAADgBwAA3wcAAN4HAADdBwAA3AcAANsHAAA=",
            "dtype": "i4"
           },
           "xaxis": "x",
           "y": {
            "bdata": "9aY3velNQEC+5Vu+5VtIQF4tbsL8rkhAXkN5DeU1SECo72zUdzZEQBzKayivoUtAb2WfQ2qCUEBWVVVVVdVUQA==",
            "dtype": "f8"
           },
           "yaxis": "y"
          }
         ],
         "name": "Basílica <br>Colegiata"
        },
        {
         "data": [
          {
           "hovertemplate": "Nacional ó Internacional=Internacional<br>sitio=Alhóndiga<br>Año=%{x}<br>Porcentaje de Visitantes (%)=%{text}<extra></extra>",
           "legendgroup": "Internacional",
           "marker": {
            "color": "#29B6F6",
            "pattern": {
             "shape": ""
            }
           },
           "name": "Internacional",
           "orientation": "v",
           "showlegend": true,
           "text": {
            "bdata": "zGMrgoaTSEAxDMMwDENBQGKwcGROwDtAJYJH+uu5PkDqTW960xtEQMprKK+hvENAuCDjgowLMkAvuuiiiy5SQAAAAAAAAFlA",
            "dtype": "f8"
           },
           "textposition": "auto",
           "type": "bar",
           "x": {
            "bdata": "4gcAAOEHAADgBwAA3wcAAN4HAADdBwAA3AcAANsHAADYBwAA",
            "dtype": "i4"
           },
           "xaxis": "x",
           "y": {
            "bdata": "zGMrgoaTSEAxDMMwDENBQGKwcGROwDtAJYJH+uu5PkDqTW960xtEQMprKK+hvENAuCDjgowLMkAvuuiiiy5SQAAAAAAAAFlA",
            "dtype": "f8"
           },
           "yaxis": "y"
          },
          {
           "hovertemplate": "Nacional ó Internacional=Nacional<br>sitio=Alhóndiga<br>Año=%{x}<br>Porcentaje de Visitantes (%)=%{text}<extra></extra>",
           "legendgroup": "Nacional",
           "marker": {
            "color": "#AB47BC",
            "pattern": {
             "shape": ""
            }
           },
           "name": "Nacional",
           "orientation": "v",
           "showlegend": true,
           "text": {
            "bdata": "NJzUfXlsSUDoeZ7neV5QQOfT42bsD1JAdx9uAYVRUUAWspCFLORNQDaU11BeQ05A0jdH3xx9VEBFF1100UU7QAAAAAAAAFlA",
            "dtype": "f8"
           },
           "textposition": "auto",
           "type": "bar",
           "x": {
            "bdata": "4gcAAOEHAADgBwAA3wcAAN4HAADdBwAA3AcAANsHAADZBwAA",
            "dtype": "i4"
           },
           "xaxis": "x",
           "y": {
            "bdata": "NJzUfXlsSUDoeZ7neV5QQOfT42bsD1JAdx9uAYVRUUAWspCFLORNQDaU11BeQ05A0jdH3xx9VEBFF1100UU7QAAAAAAAAFlA",
            "dtype": "f8"
           },
           "yaxis": "y"
          }
         ],
         "name": "Alhóndiga"
        },
        {
         "data": [
          {
           "hovertemplate": "Nacional ó Internacional=Internacional<br>sitio=Jardín de<br>la Unión<br>Año=%{x}<br>Porcentaje de Visitantes (%)=%{text}<extra></extra>",
           "legendgroup": "Internacional",
           "marker": {
            "color": "#29B6F6",
            "pattern": {
             "shape": ""
            }
           },
           "name": "Internacional",
           "orientation": "v",
           "showlegend": true,
           "text": {
            "bdata": "pZRSSiklUkDn0qEGuzNLQH4E9xHcR0ZA8zzP8zzPR0AzMzMzMzNNQKKxPjTWh0pAQqApBJpCQEAAAAAAAABJQAAAAAAAAFlAAAAAAAAAWUA=",
            "dtype": "f8"
           },
           "textposition": "auto",
           "type": "bar",
           "x": {
            "bdata": "4gcAAOEHAADgBwAA3wcAAN4HAADdBwAA3AcAANsHAADaBwAA1AcAAA==",
            "dtype": "i4"
           },
           "xaxis": "x",
           "y": {
            "bdata": "pZRSSiklUkDn0qEGuzNLQH4E9xHcR0ZA8zzP8zzPR0AzMzMzMzNNQKKxPjTWh0pAQqApBJpCQEAAAAAAAABJQAAAAAAAAFlAAAAAAAAAWUA=",
            "dtype": "f8"
           },
           "yaxis": "y"
          },
          {
           "hovertemplate": "Nacional ó Internacional=Nacional<br>sitio=Jardín de<br>la Unión<br>Año=%{x}<br>Porcentaje de Visitantes (%)=%{text}<extra></extra>",
           "legendgroup": "Nacional",
           "marker": {
            "color": "#AB47BC",
            "pattern": {
             "shape": ""
            }
           },
           "name": "Nacional",
           "orientation": "v",
           "showlegend": true,
           "text": {
            "bdata": "a6211lprO0AZLV75RMxGQIL7CO4juEtADcMwDMMwSkDNzMzMzMxEQF5OwcspeEdA3y/r/bLeUEAAAAAAAABJQA==",
            "dtype": "f8"
           },
           "textposition": "auto",
           "type": "bar",
           "x": {
            "bdata": "4gcAAOEHAADgBwAA3wcAAN4HAADdBwAA3AcAANsHAAA=",
            "dtype": "i4"
           },
           "xaxis": "x",
           "y": {
            "bdata": "a6211lprO0AZLV75RMxGQIL7CO4juEtADcMwDMMwSkDNzMzMzMxEQF5OwcspeEdA3y/r/bLeUEAAAAAAAABJQA==",
            "dtype": "f8"
           },
           "yaxis": "y"
          }
         ],
         "name": "Jardín de<br>la Unión"
        },
        {
         "data": [
          {
           "hovertemplate": "Nacional ó Internacional=Internacional<br>sitio=Mercado<br>Hidalgo<br>Año=%{x}<br>Porcentaje de Visitantes (%)=%{text}<extra></extra>",
           "legendgroup": "Internacional",
           "marker": {
            "color": "#29B6F6",
            "pattern": {
             "shape": ""
            }
           },
           "name": "Internacional",
           "orientation": "v",
           "showlegend": true,
           "text": {
            "bdata": "Po2w3NMIT0CYIp91g6lIQDTu1nkFNEpAcT4G52NwS0CWlpaWlpZEQAAAAAAAADRA4ziO4zgOQkAAAAAAACBMQKqqqqqqqlBAAAAAAAAAWUAAAAAAAABZQA==",
            "dtype": "f8"
           },
           "textposition": "auto",
           "type": "bar",
           "x": {
            "bdata": "4gcAAOEHAADgBwAA3wcAAN4HAADdBwAA3AcAANsHAADaBwAA2QcAANcHAAA=",
            "dtype": "i4"
           },
           "xaxis": "x",
           "y": {
            "bdata": "Po2w3NMIT0CYIp91g6lIQDTu1nkFNEpAcT4G52NwS0CWlpaWlpZEQAAAAAAAADRA4ziO4zgOQkAAAAAAACBMQKqqqqqqqlBAAAAAAAAAWUAAAAAAAABZQA==",
            "dtype": "f8"
           },
           "yaxis": "y"
          },
          {
           "hovertemplate": "Nacional ó Internacional=Nacional<br>sitio=Mercado<br>Hidalgo<br>Año=%{x}<br>Porcentaje de Visitantes (%)=%{text}<extra></extra>",
           "legendgroup": "Nacional",
           "marker": {
            "color": "#AB47BC",
            "pattern": {
             "shape": ""
            }
           },
           "name": "Nacional",
           "orientation": "v",
           "showlegend": true,
           "text": {
            "bdata": "wnJPIyz3QkBo3WCKfFZJQMwRKYb6y0dAkMH5GJyPRkBqaWlpaWlNQAAAAAAAAFRAHMdxHMfxT0AAAAAAAOBFQKqqqqqqqkBA",
            "dtype": "f8"
           },
           "textposition": "auto",
           "type": "bar",
           "x": {
            "bdata": "4gcAAOEHAADgBwAA3wcAAN4HAADdBwAA3AcAANsHAADaBwAA",
            "dtype": "i4"
           },
           "xaxis": "x",
           "y": {
            "bdata": "wnJPIyz3QkBo3WCKfFZJQMwRKYb6y0dAkMH5GJyPRkBqaWlpaWlNQAAAAAAAAFRAHMdxHMfxT0AAAAAAAOBFQKqqqqqqqkBA",
            "dtype": "f8"
           },
           "yaxis": "y"
          }
         ],
         "name": "Mercado<br>Hidalgo"
        },
        {
         "data": [
          {
           "hovertemplate": "Nacional ó Internacional=Internacional<br>sitio=Monumento<br>Pípila<br>Año=%{x}<br>Porcentaje de Visitantes (%)=%{text}<extra></extra>",
           "legendgroup": "Internacional",
           "marker": {
            "color": "#29B6F6",
            "pattern": {
             "shape": ""
            }
           },
           "name": "Internacional",
           "orientation": "v",
           "showlegend": true,
           "text": {
            "bdata": "90MCbz8kUkAbe5gF5ItJQFj3SCuTJ0hAXIjX+cx9S0CFU5oXfyJQQJyPwfkYnElAROgh9BB6PECqqqqqqqpAQAAAAAAAAElAAAAAAAAAWUAAAAAAAABZQA==",
            "dtype": "f8"
           },
           "textposition": "auto",
           "type": "bar",
           "x": {
            "bdata": "4gcAAOEHAADgBwAA3wcAAN4HAADdBwAA3AcAANsHAADaBwAA2QcAANQHAAA=",
            "dtype": "i4"
           },
           "xaxis": "x",
           "y": {
            "bdata": "90MCbz8kUkAbe5gF5ItJQFj3SCuTJ0hAXIjX+cx9S0CFU5oXfyJQQJyPwfkYnElAROgh9BB6PECqqqqqqqpAQAAAAAAAAElAAAAAAAAAWUAAAAAAAABZQA==",
            "dtype": "f8"
           },
           "yaxis": "y"
          },
          {
           "hovertemplate": "Nacional ó Internacional=Nacional<br>sitio=Monumento<br>Pípila<br>Año=%{x}<br>Porcentaje de Visitantes (%)=%{text}<extra></extra>",
           "legendgroup": "Nacional",
           "marker": {
            "color": "#AB47BC",
            "pattern": {
             "shape": ""
            }
           },
           "name": "Nacional",
           "orientation": "v",
           "showlegend": true,
           "text": {
            "bdata": "JPD2QwJvO0DlhGf6G3RIQKgIt9Rs2ElApXcoBjOCRkD3WMvQAbtBQGRwPgbnY0hA74X3wnvhUUCqqqqqqqpQQAAAAAAAAElA",
            "dtype": "f8"
           },
           "textposition": "auto",
           "type": "bar",
           "x": {
            "bdata": "4gcAAOEHAADgBwAA3wcAAN4HAADdBwAA3AcAANsHAADaBwAA",
            "dtype": "i4"
           },
           "xaxis": "x",
           "y": {
            "bdata": "JPD2QwJvO0DlhGf6G3RIQKgIt9Rs2ElApXcoBjOCRkD3WMvQAbtBQGRwPgbnY0hA74X3wnvhUUCqqqqqqqpQQAAAAAAAAElA",
            "dtype": "f8"
           },
           "yaxis": "y"
          }
         ],
         "name": "Monumento<br>Pípila"
        },
        {
         "data": [
          {
           "hovertemplate": "Nacional ó Internacional=Internacional<br>sitio=Museo de<br>las Momias<br>Año=%{x}<br>Porcentaje de Visitantes (%)=%{text}<extra></extra>",
           "legendgroup": "Internacional",
           "marker": {
            "color": "#29B6F6",
            "pattern": {
             "shape": ""
            }
           },
           "name": "Internacional",
           "orientation": "v",
           "showlegend": true,
           "text": {
            "bdata": "K/c0wnJPTUAmVxCTK4hJQEBwxJfJYEdAS4Jez5KgSUCkH/3oRz9LQKc0L/5EwkdAYw24Yg24PkAAAAAAAABJQAAAAAAAAFlAqqqqqqqqUEAAAAAAAABZQAAAAAAAAFlAAAAAAAAASUAAAAAAAABZQAAAAAAAAFlAAAAAAAAAWUA=",
            "dtype": "f8"
           },
           "textposition": "auto",
           "type": "bar",
           "x": {
            "bdata": "4gcAAOEHAADgBwAA3wcAAN4HAADdBwAA3AcAANsHAADaBwAA2QcAANgHAADXBwAA1gcAANUHAADUBwAA0wcAAA==",
            "dtype": "i4"
           },
           "xaxis": "x",
           "y": {
            "bdata": "K/c0wnJPTUAmVxCTK4hJQEBwxJfJYEdAS4Jez5KgSUCkH/3oRz9LQKc0L/5EwkdAYw24Yg24PkAAAAAAAABJQAAAAAAAAFlAqqqqqqqqUEAAAAAAAABZQAAAAAAAAFlAAAAAAAAASUAAAAAAAABZQAAAAAAAAFlAAAAAAAAAWUA=",
            "dtype": "f8"
           },
           "yaxis": "y"
          },
          {
           "hovertemplate": "Nacional ó Internacional=Nacional<br>sitio=Museo de<br>las Momias<br>Año=%{x}<br>Porcentaje de Visitantes (%)=%{text}<extra></extra>",
           "legendgroup": "Nacional",
           "marker": {
            "color": "#AB47BC",
            "pattern": {
             "shape": ""
            }
           },
           "name": "Nacional",
           "orientation": "v",
           "showlegend": true,
           "text": {
            "bdata": "1AjLPY2wREDaqO9s1HdIQMCPO2g2n0pAtX2hMG1fSEBc4AIXuMBGQFnL0AG7PUpAp/xRp/xRUUAAAAAAAABJQKqqqqqqqkBAAAAAAAAASUA=",
            "dtype": "f8"
           },
           "textposition": "auto",
           "type": "bar",
           "x": {
            "bdata": "4gcAAOEHAADgBwAA3wcAAN4HAADdBwAA3AcAANsHAADZBwAA1gcAAA==",
            "dtype": "i4"
           },
           "xaxis": "x",
           "y": {
            "bdata": "1AjLPY2wREDaqO9s1HdIQMCPO2g2n0pAtX2hMG1fSEBc4AIXuMBGQFnL0AG7PUpAp/xRp/xRUUAAAAAAAABJQKqqqqqqqkBAAAAAAAAASUA=",
            "dtype": "f8"
           },
           "yaxis": "y"
          }
         ],
         "name": "Museo de<br>las Momias"
        },
        {
         "data": [
          {
           "hovertemplate": "Nacional ó Internacional=Internacional<br>sitio=Teatro<br>Juárez<br>Año=%{x}<br>Porcentaje de Visitantes (%)=%{text}<extra></extra>",
           "legendgroup": "Internacional",
           "marker": {
            "color": "#29B6F6",
            "pattern": {
             "shape": ""
            }
           },
           "name": "Internacional",
           "orientation": "v",
           "showlegend": true,
           "text": {
            "bdata": "L7rooouuTkAsq3fJgwFFQAAAAAAAwEJAewntJbSXRkBVVVVVVVVKQNxjLUMH7ERA1PXp+nR9OkAAAAAAACBMQAAAAAAAAElAAAAAAAAAWUAAAAAAAABZQA==",
            "dtype": "f8"
           },
           "textposition": "auto",
           "type": "bar",
           "x": {
            "bdata": "4gcAAOEHAADgBwAA3wcAAN4HAADdBwAA3AcAANsHAADaBwAA2QcAANcHAAA=",
            "dtype": "i4"
           },
           "xaxis": "x",
           "y": {
            "bdata": "L7rooouuTkAsq3fJgwFFQAAAAAAAwEJAewntJbSXRkBVVVVVVVVKQNxjLUMH7ERA1PXp+nR9OkAAAAAAACBMQAAAAAAAAElAAAAAAAAAWUAAAAAAAABZQA==",
            "dtype": "f8"
           },
           "yaxis": "y"
          },
          {
           "hovertemplate": "Nacional ó Internacional=Nacional<br>sitio=Teatro<br>Juárez<br>Año=%{x}<br>Porcentaje de Visitantes (%)=%{text}<extra></extra>",
           "legendgroup": "Nacional",
           "marker": {
            "color": "#AB47BC",
            "pattern": {
             "shape": ""
            }
           },
           "name": "Nacional",
           "orientation": "v",
           "showlegend": true,
           "text": {
            "bdata": "0UUXXXRRQ0DUVIg2fP5MQAAAAAAAQE9AhfYS2ktoS0CrqqqqqqpHQCSc0rz4E01Ai4JFwaJgUkAAAAAAAOBFQAAAAAAAAElA",
            "dtype": "f8"
           },
           "textposition": "auto",
           "type": "bar",
           "x": {
            "bdata": "4gcAAOEHAADgBwAA3wcAAN4HAADdBwAA3AcAANsHAADaBwAA",
            "dtype": "i4"
           },
           "xaxis": "x",
           "y": {
            "bdata": "0UUXXXRRQ0DUVIg2fP5MQAAAAAAAQE9AhfYS2ktoS0CrqqqqqqpHQCSc0rz4E01Ai4JFwaJgUkAAAAAAAOBFQAAAAAAAAElA",
            "dtype": "f8"
           },
           "yaxis": "y"
          }
         ],
         "name": "Teatro<br>Juárez"
        },
        {
         "data": [
          {
           "hovertemplate": "Nacional ó Internacional=Internacional<br>sitio=Universidad de<br>Guanajuato<br>Año=%{x}<br>Porcentaje de Visitantes (%)=%{text}<extra></extra>",
           "legendgroup": "Internacional",
           "marker": {
            "color": "#29B6F6",
            "pattern": {
             "shape": ""
            }
           },
           "name": "Internacional",
           "orientation": "v",
           "showlegend": true,
           "text": {
            "bdata": "kiRJkiTJSkB2Yid2YidFQLdt27Zt20FAqqqqqqo6QkBSGZVRGZVBQPHw8PDw8DtAImXg6db8NEAAAAAAAABJQAAAAAAAADlA",
            "dtype": "f8"
           },
           "textposition": "auto",
           "type": "bar",
           "x": {
            "bdata": "4gcAAOEHAADgBwAA3wcAAN4HAADdBwAA3AcAANsHAADaBwAA",
            "dtype": "i4"
           },
           "xaxis": "x",
           "y": {
            "bdata": "kiRJkiTJSkB2Yid2YidFQLdt27Zt20FAqqqqqqo6QkBSGZVRGZVBQPHw8PDw8DtAImXg6db8NEAAAAAAAABJQAAAAAAAADlA",
            "dtype": "f8"
           },
           "yaxis": "y"
          },
          {
           "hovertemplate": "Nacional ó Internacional=Nacional<br>sitio=Universidad de<br>Guanajuato<br>Año=%{x}<br>Porcentaje de Visitantes (%)=%{text}<extra></extra>",
           "legendgroup": "Nacional",
           "marker": {
            "color": "#AB47BC",
            "pattern": {
             "shape": ""
            }
           },
           "name": "Nacional",
           "orientation": "v",
           "showlegend": true,
           "text": {
            "bdata": "btu2bds2R0CJndiJndhMQCVJkiRJElBAVVVVVVXFT0BXczVXczVQQMTDw8PDA1JAt+aHRcrAU0AAAAAAAABJQAAAAAAAwFJA",
            "dtype": "f8"
           },
           "textposition": "auto",
           "type": "bar",
           "x": {
            "bdata": "4gcAAOEHAADgBwAA3wcAAN4HAADdBwAA3AcAANsHAADaBwAA",
            "dtype": "i4"
           },
           "xaxis": "x",
           "y": {
            "bdata": "btu2bds2R0CJndiJndhMQCVJkiRJElBAVVVVVVXFT0BXczVXczVQQMTDw8PDA1JAt+aHRcrAU0AAAAAAAABJQAAAAAAAwFJA",
            "dtype": "f8"
           },
           "yaxis": "y"
          }
         ],
         "name": "Universidad de<br>Guanajuato"
        },
        {
         "data": [
          {
           "hovertemplate": "Nacional ó Internacional=Internacional<br>sitio=Callejón del<br>Beso<br>Año=%{x}<br>Porcentaje de Visitantes (%)=%{text}<extra></extra>",
           "legendgroup": "Internacional",
           "marker": {
            "color": "#29B6F6",
            "pattern": {
             "shape": ""
            }
           },
           "name": "Internacional",
           "orientation": "v",
           "showlegend": true,
           "text": {
            "bdata": "S87LIj6BUECHYjAjSHpFQPPRyUcnH0JA0+pOqzutREBVVVVVVVVHQLzHe7zHe0BABfcR3EdwOUAAAAAAAABJQAAAAAAAAFlAAAAAAAAAWUA=",
            "dtype": "f8"
           },
           "textposition": "auto",
           "type": "bar",
           "x": {
            "bdata": "4gcAAOEHAADgBwAA3wcAAN4HAADdBwAA3AcAANsHAADYBwAA1AcAAA==",
            "dtype": "i4"
           },
           "xaxis": "x",
           "y": {
            "bdata": "S87LIj6BUECHYjAjSHpFQPPRyUcnH0JA0+pOqzutREBVVVVVVVVHQLzHe7zHe0BABfcR3EdwOUAAAAAAAABJQAAAAAAAAFlAAAAAAAAAWUA=",
            "dtype": "f8"
           },
           "yaxis": "y"
          },
          {
           "hovertemplate": "Nacional ó Internacional=Nacional<br>sitio=Callejón del<br>Beso<br>Año=%{x}<br>Porcentaje de Visitantes (%)=%{text}<extra></extra>",
           "legendgroup": "Nacional",
           "marker": {
            "color": "#AB47BC",
            "pattern": {
             "shape": ""
            }
           },
           "name": "Nacional",
           "orientation": "v",
           "showlegend": true,
           "text": {
            "bdata": "a2NouoP9QEB4nc/ct4VMQA0uNrjY4E9ALBWxVMRSTUCrqqqqqqpKQCEcwiEcwlBAP4L7CO6jUkAAAAAAAABJQAAAAAAAAFlAAAAAAAAAWUA=",
            "dtype": "f8"
           },
           "textposition": "auto",
           "type": "bar",
           "x": {
            "bdata": "4gcAAOEHAADgBwAA3wcAAN4HAADdBwAA3AcAANsHAADaBwAA0gcAAA==",
            "dtype": "i4"
           },
           "xaxis": "x",
           "y": {
            "bdata": "a2NouoP9QEB4nc/ct4VMQA0uNrjY4E9ALBWxVMRSTUCrqqqqqqpKQCEcwiEcwlBAP4L7CO6jUkAAAAAAAABJQAAAAAAAAFlAAAAAAAAAWUA=",
            "dtype": "f8"
           },
           "yaxis": "y"
          }
         ],
         "name": "Callejón del<br>Beso"
        },
        {
         "data": [
          {
           "hovertemplate": "Nacional ó Internacional=Internacional<br>sitio=Casa de<br>Diego Rivera<br>Año=%{x}<br>Porcentaje de Visitantes (%)=%{text}<extra></extra>",
           "legendgroup": "Internacional",
           "marker": {
            "color": "#29B6F6",
            "pattern": {
             "shape": ""
            }
           },
           "name": "Internacional",
           "orientation": "v",
           "showlegend": true,
           "text": {
            "bdata": "KQdEhnsVUEC61RmpmFtNQLdt27Zt21FAEFTObuFXT0AAAAAAADhIQAAAAAAA4FVAAAAAAAAAWUAAAAAAAABZQA==",
            "dtype": "f8"
           },
           "textposition": "auto",
           "type": "bar",
           "x": {
            "bdata": "4AcAAN8HAADeBwAA3QcAANwHAADbBwAA2gcAANMHAAA=",
            "dtype": "i4"
           },
           "xaxis": "x",
           "y": {
            "bdata": "KQdEhnsVUEC61RmpmFtNQLdt27Zt21FAEFTObuFXT0AAAAAAADhIQAAAAAAA4FVAAAAAAAAAWUAAAAAAAABZQA==",
            "dtype": "f8"
           },
           "yaxis": "y"
          },
          {
           "hovertemplate": "Nacional ó Internacional=Nacional<br>sitio=Casa de<br>Diego Rivera<br>Año=%{x}<br>Porcentaje de Visitantes (%)=%{text}<extra></extra>",
           "legendgroup": "Nacional",
           "marker": {
            "color": "#AB47BC",
            "pattern": {
             "shape": ""
            }
           },
           "name": "Nacional",
           "orientation": "v",
           "showlegend": true,
           "text": {
            "bdata": "rvF38wjVQUBHKuZWZ6REQCRJkiRJkjxA8asxkR6oQkAAAAAAAMhJQAAAAAAAAClAAAAAAAAAWUA=",
            "dtype": "f8"
           },
           "textposition": "auto",
           "type": "bar",
           "x": {
            "bdata": "4AcAAN8HAADeBwAA3QcAANwHAADbBwAA2QcAAA==",
            "dtype": "i4"
           },
           "xaxis": "x",
           "y": {
            "bdata": "rvF38wjVQUBHKuZWZ6REQCRJkiRJkjxA8asxkR6oQkAAAAAAAMhJQAAAAAAAAClAAAAAAAAAWUA=",
            "dtype": "f8"
           },
           "yaxis": "y"
          }
         ],
         "name": "Casa de<br>Diego Rivera"
        }
       ],
       "layout": {
        "barmode": "relative",
        "font": {
         "color": "#34495e",
         "family": "DejaVu Sans",
         "size": 15
        },
        "legend": {
         "title": {
          "text": "Nacional ó Internacional"
         },
         "tracegroupgap": 0
        },
        "margin": {
         "b": 40,
         "l": 40,
         "r": 40,
         "t": 80
        },
        "paper_bgcolor": "#e3f2fd",
        "plot_bgcolor": "#f8fafc",
        "showlegend": true,
        "sliders": [
         {
          "active": 0,
          "currentvalue": {
           "prefix": "sitio="
          },
          "len": 0.9,
          "pad": {
           "b": 10,
           "t": 60
          },
          "steps": [
           {
            "args": [
             [
              "Basílica <br>Colegiata"
             ],
             {
              "frame": {
               "duration": 0,
               "redraw": true
              },
              "fromcurrent": true,
              "mode": "immediate",
              "transition": {
               "duration": 0,
               "easing": "linear"
              }
             }
            ],
            "label": "Basílica <br>Colegiata",
            "method": "animate"
           },
           {
            "args": [
             [
              "Alhóndiga"
             ],
             {
              "frame": {
               "duration": 0,
               "redraw": true
              },
              "fromcurrent": true,
              "mode": "immediate",
              "transition": {
               "duration": 0,
               "easing": "linear"
              }
             }
            ],
            "label": "Alhóndiga",
            "method": "animate"
           },
           {
            "args": [
             [
              "Jardín de<br>la Unión"
             ],
             {
              "frame": {
               "duration": 0,
               "redraw": true
              },
              "fromcurrent": true,
              "mode": "immediate",
              "transition": {
               "duration": 0,
               "easing": "linear"
              }
             }
            ],
            "label": "Jardín de<br>la Unión",
            "method": "animate"
           },
           {
            "args": [
             [
              "Mercado<br>Hidalgo"
             ],
             {
              "frame": {
               "duration": 0,
               "redraw": true
              },
              "fromcurrent": true,
              "mode": "immediate",
              "transition": {
               "duration": 0,
               "easing": "linear"
              }
             }
            ],
            "label": "Mercado<br>Hidalgo",
            "method": "animate"
           },
           {
            "args": [
             [
              "Monumento<br>Pípila"
             ],
             {
              "frame": {
               "duration": 0,
               "redraw": true
              },
              "fromcurrent": true,
              "mode": "immediate",
              "transition": {
               "duration": 0,
               "easing": "linear"
              }
             }
            ],
            "label": "Monumento<br>Pípila",
            "method": "animate"
           },
           {
            "args": [
             [
              "Museo de<br>las Momias"
             ],
             {
              "frame": {
               "duration": 0,
               "redraw": true
              },
              "fromcurrent": true,
              "mode": "immediate",
              "transition": {
               "duration": 0,
               "easing": "linear"
              }
             }
            ],
            "label": "Museo de<br>las Momias",
            "method": "animate"
           },
           {
            "args": [
             [
              "Teatro<br>Juárez"
             ],
             {
              "frame": {
               "duration": 0,
               "redraw": true
              },
              "fromcurrent": true,
              "mode": "immediate",
              "transition": {
               "duration": 0,
               "easing": "linear"
              }
             }
            ],
            "label": "Teatro<br>Juárez",
            "method": "animate"
           },
           {
            "args": [
             [
              "Universidad de<br>Guanajuato"
             ],
             {
              "frame": {
               "duration": 0,
               "redraw": true
              },
              "fromcurrent": true,
              "mode": "immediate",
              "transition": {
               "duration": 0,
               "easing": "linear"
              }
             }
            ],
            "label": "Universidad de<br>Guanajuato",
            "method": "animate"
           },
           {
            "args": [
             [
              "Callejón del<br>Beso"
             ],
             {
              "frame": {
               "duration": 0,
               "redraw": true
              },
              "fromcurrent": true,
              "mode": "immediate",
              "transition": {
               "duration": 0,
               "easing": "linear"
              }
             }
            ],
            "label": "Callejón del<br>Beso",
            "method": "animate"
           },
           {
            "args": [
             [
              "Casa de<br>Diego Rivera"
             ],
             {
              "frame": {
               "duration": 0,
               "redraw": true
              },
              "fromcurrent": true,
              "mode": "immediate",
              "transition": {
               "duration": 0,
               "easing": "linear"
              }
             }
            ],
            "label": "Casa de<br>Diego Rivera",
            "method": "animate"
           }
          ],
          "x": 0.1,
          "xanchor": "left",
          "y": 0,
          "yanchor": "top"
         }
        ],
        "template": {
         "data": {
          "bar": [
           {
            "error_x": {
             "color": "#2a3f5f"
            },
            "error_y": {
             "color": "#2a3f5f"
            },
            "marker": {
             "line": {
              "color": "#E5ECF6",
              "width": 0.5
             },
             "pattern": {
              "fillmode": "overlay",
              "size": 10,
              "solidity": 0.2
             }
            },
            "type": "bar"
           }
          ],
          "barpolar": [
           {
            "marker": {
             "line": {
              "color": "#E5ECF6",
              "width": 0.5
             },
             "pattern": {
              "fillmode": "overlay",
              "size": 10,
              "solidity": 0.2
             }
            },
            "type": "barpolar"
           }
          ],
          "carpet": [
           {
            "aaxis": {
             "endlinecolor": "#2a3f5f",
             "gridcolor": "white",
             "linecolor": "white",
             "minorgridcolor": "white",
             "startlinecolor": "#2a3f5f"
            },
            "baxis": {
             "endlinecolor": "#2a3f5f",
             "gridcolor": "white",
             "linecolor": "white",
             "minorgridcolor": "white",
             "startlinecolor": "#2a3f5f"
            },
            "type": "carpet"
           }
          ],
          "choropleth": [
           {
            "colorbar": {
             "outlinewidth": 0,
             "ticks": ""
            },
            "type": "choropleth"
           }
          ],
          "contour": [
           {
            "colorbar": {
             "outlinewidth": 0,
             "ticks": ""
            },
            "colorscale": [
             [
              0,
              "#0d0887"
             ],
             [
              0.1111111111111111,
              "#46039f"
             ],
             [
              0.2222222222222222,
              "#7201a8"
             ],
             [
              0.3333333333333333,
              "#9c179e"
             ],
             [
              0.4444444444444444,
              "#bd3786"
             ],
             [
              0.5555555555555556,
              "#d8576b"
             ],
             [
              0.6666666666666666,
              "#ed7953"
             ],
             [
              0.7777777777777778,
              "#fb9f3a"
             ],
             [
              0.8888888888888888,
              "#fdca26"
             ],
             [
              1,
              "#f0f921"
             ]
            ],
            "type": "contour"
           }
          ],
          "contourcarpet": [
           {
            "colorbar": {
             "outlinewidth": 0,
             "ticks": ""
            },
            "type": "contourcarpet"
           }
          ],
          "heatmap": [
           {
            "colorbar": {
             "outlinewidth": 0,
             "ticks": ""
            },
            "colorscale": [
             [
              0,
              "#0d0887"
             ],
             [
              0.1111111111111111,
              "#46039f"
             ],
             [
              0.2222222222222222,
              "#7201a8"
             ],
             [
              0.3333333333333333,
              "#9c179e"
             ],
             [
              0.4444444444444444,
              "#bd3786"
             ],
             [
              0.5555555555555556,
              "#d8576b"
             ],
             [
              0.6666666666666666,
              "#ed7953"
             ],
             [
              0.7777777777777778,
              "#fb9f3a"
             ],
             [
              0.8888888888888888,
              "#fdca26"
             ],
             [
              1,
              "#f0f921"
             ]
            ],
            "type": "heatmap"
           }
          ],
          "histogram": [
           {
            "marker": {
             "pattern": {
              "fillmode": "overlay",
              "size": 10,
              "solidity": 0.2
             }
            },
            "type": "histogram"
           }
          ],
          "histogram2d": [
           {
            "colorbar": {
             "outlinewidth": 0,
             "ticks": ""
            },
            "colorscale": [
             [
              0,
              "#0d0887"
             ],
             [
              0.1111111111111111,
              "#46039f"
             ],
             [
              0.2222222222222222,
              "#7201a8"
             ],
             [
              0.3333333333333333,
              "#9c179e"
             ],
             [
              0.4444444444444444,
              "#bd3786"
             ],
             [
              0.5555555555555556,
              "#d8576b"
             ],
             [
              0.6666666666666666,
              "#ed7953"
             ],
             [
              0.7777777777777778,
              "#fb9f3a"
             ],
             [
              0.8888888888888888,
              "#fdca26"
             ],
             [
              1,
              "#f0f921"
             ]
            ],
            "type": "histogram2d"
           }
          ],
          "histogram2dcontour": [
           {
            "colorbar": {
             "outlinewidth": 0,
             "ticks": ""
            },
            "colorscale": [
             [
              0,
              "#0d0887"
             ],
             [
              0.1111111111111111,
              "#46039f"
             ],
             [
              0.2222222222222222,
              "#7201a8"
             ],
             [
              0.3333333333333333,
              "#9c179e"
             ],
             [
              0.4444444444444444,
              "#bd3786"
             ],
             [
              0.5555555555555556,
              "#d8576b"
             ],
             [
              0.6666666666666666,
              "#ed7953"
             ],
             [
              0.7777777777777778,
              "#fb9f3a"
             ],
             [
              0.8888888888888888,
              "#fdca26"
             ],
             [
              1,
              "#f0f921"
             ]
            ],
            "type": "histogram2dcontour"
           }
          ],
          "mesh3d": [
           {
            "colorbar": {
             "outlinewidth": 0,
             "ticks": ""
            },
            "type": "mesh3d"
           }
          ],
          "parcoords": [
           {
            "line": {
             "colorbar": {
              "outlinewidth": 0,
              "ticks": ""
             }
            },
            "type": "parcoords"
           }
          ],
          "pie": [
           {
            "automargin": true,
            "type": "pie"
           }
          ],
          "scatter": [
           {
            "fillpattern": {
             "fillmode": "overlay",
             "size": 10,
             "solidity": 0.2
            },
            "type": "scatter"
           }
          ],
          "scatter3d": [
           {
            "line": {
             "colorbar": {
              "outlinewidth": 0,
              "ticks": ""
             }
            },
            "marker": {
             "colorbar": {
              "outlinewidth": 0,
              "ticks": ""
             }
            },
            "type": "scatter3d"
           }
          ],
          "scattercarpet": [
           {
            "marker": {
             "colorbar": {
              "outlinewidth": 0,
              "ticks": ""
             }
            },
            "type": "scattercarpet"
           }
          ],
          "scattergeo": [
           {
            "marker": {
             "colorbar": {
              "outlinewidth": 0,
              "ticks": ""
             }
            },
            "type": "scattergeo"
           }
          ],
          "scattergl": [
           {
            "marker": {
             "colorbar": {
              "outlinewidth": 0,
              "ticks": ""
             }
            },
            "type": "scattergl"
           }
          ],
          "scattermap": [
           {
            "marker": {
             "colorbar": {
              "outlinewidth": 0,
              "ticks": ""
             }
            },
            "type": "scattermap"
           }
          ],
          "scattermapbox": [
           {
            "marker": {
             "colorbar": {
              "outlinewidth": 0,
              "ticks": ""
             }
            },
            "type": "scattermapbox"
           }
          ],
          "scatterpolar": [
           {
            "marker": {
             "colorbar": {
              "outlinewidth": 0,
              "ticks": ""
             }
            },
            "type": "scatterpolar"
           }
          ],
          "scatterpolargl": [
           {
            "marker": {
             "colorbar": {
              "outlinewidth": 0,
              "ticks": ""
             }
            },
            "type": "scatterpolargl"
           }
          ],
          "scatterternary": [
           {
            "marker": {
             "colorbar": {
              "outlinewidth": 0,
              "ticks": ""
             }
            },
            "type": "scatterternary"
           }
          ],
          "surface": [
           {
            "colorbar": {
             "outlinewidth": 0,
             "ticks": ""
            },
            "colorscale": [
             [
              0,
              "#0d0887"
             ],
             [
              0.1111111111111111,
              "#46039f"
             ],
             [
              0.2222222222222222,
              "#7201a8"
             ],
             [
              0.3333333333333333,
              "#9c179e"
             ],
             [
              0.4444444444444444,
              "#bd3786"
             ],
             [
              0.5555555555555556,
              "#d8576b"
             ],
             [
              0.6666666666666666,
              "#ed7953"
             ],
             [
              0.7777777777777778,
              "#fb9f3a"
             ],
             [
              0.8888888888888888,
              "#fdca26"
             ],
             [
              1,
              "#f0f921"
             ]
            ],
            "type": "surface"
           }
          ],
          "table": [
           {
            "cells": {
             "fill": {
              "color": "#EBF0F8"
             },
             "line": {
              "color": "white"
             }
            },
            "header": {
             "fill": {
              "color": "#C8D4E3"
             },
             "line": {
              "color": "white"
             }
            },
            "type": "table"
           }
          ]
         },
         "layout": {
          "annotationdefaults": {
           "arrowcolor": "#2a3f5f",
           "arrowhead": 0,
           "arrowwidth": 1
          },
          "autotypenumbers": "strict",
          "coloraxis": {
           "colorbar": {
            "outlinewidth": 0,
            "ticks": ""
           }
          },
          "colorscale": {
           "diverging": [
            [
             0,
             "#8e0152"
            ],
            [
             0.1,
             "#c51b7d"
            ],
            [
             0.2,
             "#de77ae"
            ],
            [
             0.3,
             "#f1b6da"
            ],
            [
             0.4,
             "#fde0ef"
            ],
            [
             0.5,
             "#f7f7f7"
            ],
            [
             0.6,
             "#e6f5d0"
            ],
            [
             0.7,
             "#b8e186"
            ],
            [
             0.8,
             "#7fbc41"
            ],
            [
             0.9,
             "#4d9221"
            ],
            [
             1,
             "#276419"
            ]
           ],
           "sequential": [
            [
             0,
             "#0d0887"
            ],
            [
             0.1111111111111111,
             "#46039f"
            ],
            [
             0.2222222222222222,
             "#7201a8"
            ],
            [
             0.3333333333333333,
             "#9c179e"
            ],
            [
             0.4444444444444444,
             "#bd3786"
            ],
            [
             0.5555555555555556,
             "#d8576b"
            ],
            [
             0.6666666666666666,
             "#ed7953"
            ],
            [
             0.7777777777777778,
             "#fb9f3a"
            ],
            [
             0.8888888888888888,
             "#fdca26"
            ],
            [
             1,
             "#f0f921"
            ]
           ],
           "sequentialminus": [
            [
             0,
             "#0d0887"
            ],
            [
             0.1111111111111111,
             "#46039f"
            ],
            [
             0.2222222222222222,
             "#7201a8"
            ],
            [
             0.3333333333333333,
             "#9c179e"
            ],
            [
             0.4444444444444444,
             "#bd3786"
            ],
            [
             0.5555555555555556,
             "#d8576b"
            ],
            [
             0.6666666666666666,
             "#ed7953"
            ],
            [
             0.7777777777777778,
             "#fb9f3a"
            ],
            [
             0.8888888888888888,
             "#fdca26"
            ],
            [
             1,
             "#f0f921"
            ]
           ]
          },
          "colorway": [
           "#636efa",
           "#EF553B",
           "#00cc96",
           "#ab63fa",
           "#FFA15A",
           "#19d3f3",
           "#FF6692",
           "#B6E880",
           "#FF97FF",
           "#FECB52"
          ],
          "font": {
           "color": "#2a3f5f"
          },
          "geo": {
           "bgcolor": "white",
           "lakecolor": "white",
           "landcolor": "#E5ECF6",
           "showlakes": true,
           "showland": true,
           "subunitcolor": "white"
          },
          "hoverlabel": {
           "align": "left"
          },
          "hovermode": "closest",
          "mapbox": {
           "style": "light"
          },
          "paper_bgcolor": "white",
          "plot_bgcolor": "#E5ECF6",
          "polar": {
           "angularaxis": {
            "gridcolor": "white",
            "linecolor": "white",
            "ticks": ""
           },
           "bgcolor": "#E5ECF6",
           "radialaxis": {
            "gridcolor": "white",
            "linecolor": "white",
            "ticks": ""
           }
          },
          "scene": {
           "xaxis": {
            "backgroundcolor": "#E5ECF6",
            "gridcolor": "white",
            "gridwidth": 2,
            "linecolor": "white",
            "showbackground": true,
            "ticks": "",
            "zerolinecolor": "white"
           },
           "yaxis": {
            "backgroundcolor": "#E5ECF6",
            "gridcolor": "white",
            "gridwidth": 2,
            "linecolor": "white",
            "showbackground": true,
            "ticks": "",
            "zerolinecolor": "white"
           },
           "zaxis": {
            "backgroundcolor": "#E5ECF6",
            "gridcolor": "white",
            "gridwidth": 2,
            "linecolor": "white",
            "showbackground": true,
            "ticks": "",
            "zerolinecolor": "white"
           }
          },
          "shapedefaults": {
           "line": {
            "color": "#2a3f5f"
           }
          },
          "ternary": {
           "aaxis": {
            "gridcolor": "white",
            "linecolor": "white",
            "ticks": ""
           },
           "baxis": {
            "gridcolor": "white",
            "linecolor": "white",
            "ticks": ""
           },
           "bgcolor": "#E5ECF6",
           "caxis": {
            "gridcolor": "white",
            "linecolor": "white",
            "ticks": ""
           }
          },
          "title": {
           "x": 0.05
          },
          "xaxis": {
           "automargin": true,
           "gridcolor": "white",
           "linecolor": "white",
           "ticks": "",
           "title": {
            "standoff": 15
           },
           "zerolinecolor": "white",
           "zerolinewidth": 2
          },
          "yaxis": {
           "automargin": true,
           "gridcolor": "white",
           "linecolor": "white",
           "ticks": "",
           "title": {
            "standoff": 15
           },
           "zerolinecolor": "white",
           "zerolinewidth": 2
          }
         }
        },
        "title": {
         "font": {
          "color": "#283747",
          "family": "DejaVu Sans",
          "size": 22
         },
         "text": "<b>Nacionalidad de visitantes por año en Guanajuato capital (2010-2018)</b>",
         "x": 0.5,
         "xanchor": "center"
        },
        "transition": {
         "duration": 500
        },
        "updatemenus": [
         {
          "buttons": [
           {
            "args": [
             null,
             {
              "frame": {
               "duration": 500,
               "redraw": true
              },
              "fromcurrent": true,
              "mode": "immediate",
              "transition": {
               "duration": 500,
               "easing": "linear"
              }
             }
            ],
            "label": "&#9654;",
            "method": "animate"
           },
           {
            "args": [
             [
              null
             ],
             {
              "frame": {
               "duration": 0,
               "redraw": true
              },
              "fromcurrent": true,
              "mode": "immediate",
              "transition": {
               "duration": 0,
               "easing": "linear"
              }
             }
            ],
            "label": "&#9724;",
            "method": "animate"
           }
          ],
          "direction": "left",
          "pad": {
           "r": 10,
           "t": 70
          },
          "showactive": false,
          "type": "buttons",
          "x": 0.1,
          "xanchor": "right",
          "y": 0,
          "yanchor": "top"
         }
        ],
        "xaxis": {
         "anchor": "y",
         "domain": [
          0,
          1
         ],
         "tickangle": -30,
         "tickfont": {
          "color": "#34495e",
          "family": "DejaVu Sans",
          "size": 14
         },
         "title": {
          "text": "Año"
         }
        },
        "yaxis": {
         "anchor": "x",
         "domain": [
          0,
          1
         ],
         "gridcolor": "#b2bec3",
         "gridwidth": 0.5,
         "range": [
          0,
          100
         ],
         "title": {
          "font": {
           "color": "#1b2631",
           "family": "DejaVu Sans",
           "size": 16
          },
          "text": "Porcentaje de Visitantes (%)"
         }
        }
       }
      }
     },
     "metadata": {},
     "output_type": "display_data"
    }
   ],
   "source": [
    "fig = px.bar(\n",
    "    nacionalidadAño,\n",
    "    x='Año',\n",
    "    y='porcentaje',\n",
    "    color='Nacional ó Internacional',\n",
    "    animation_frame='sitio',\n",
    "    title='Nacionalidad de visitantes por año en Guanajuato capital de 2010 a 2018',\n",
    "    labels={'porcentaje': 'Porcentaje de Visitantes (%)', 'Año': 'Año'},\n",
    "    range_y=(0, 100),\n",
    "    text='porcentaje',\n",
    "    color_discrete_sequence=['#29B6F6', '#AB47BC']\n",
    ")\n",
    "\n",
    "fig.update_traces(\n",
    "    texttemplate='%{text:.1f}%',\n",
    "    textposition='outside',\n",
    "    marker_line_color='#333',\n",
    "    marker_line_width=2,\n",
    "    opacity=0.95\n",
    ")\n",
    "\n",
    "fig.update_layout(\n",
    "    xaxis_tickangle=-30,\n",
    "    plot_bgcolor='#f8fafc',\n",
    "    paper_bgcolor='#e3f2fd',\n",
    "    font=dict(family='DejaVu Sans', size=15, color='#34495e'),\n",
    "    title_font=dict(size=22, color='#283747', family='DejaVu Sans'),\n",
    "    margin=dict(l=40, r=40, t=80, b=40),\n",
    "    transition={'duration': 500},\n",
    "    showlegend=True,\n",
    "    xaxis=dict(\n",
    "        tickfont=dict(size=14, color='#34495e', family='DejaVu Sans')\n",
    "    ),\n",
    "    yaxis=dict(\n",
    "        title_font=dict(size=16, color='#1b2631', family='DejaVu Sans'),\n",
    "        gridcolor='#b2bec3',\n",
    "        gridwidth=0.5\n",
    "    ),\n",
    "    title={\n",
    "        'text': '<b>Nacionalidad de visitantes por año en Guanajuato capital (2010-2018)</b>',\n",
    "        'x':0.5,\n",
    "        'xanchor': 'center'\n",
    "    }\n",
    ")\n",
    "\n",
    "fig.show()\n"
   ]
  },
  {
   "cell_type": "markdown",
   "id": "cc461356",
   "metadata": {},
   "source": [
    "# Nacionalidad vs calificación por sitio\n",
    "Pregunta a responder: ¿Las personas extranjeras tienden a otorgar mejores calificaciones a los sitios turísticos?\n",
    "\n",
    "Se realizará una comparación visual mediante una gráfica de barras para analizar si la percepción de los visitantes internacionales influye en la calificación promedio de cada sitio turístico. Así, será posible observar si existen diferencias notables en las evaluaciones al considerar la perspectiva de quienes visitan desde el extranjero."
   ]
  },
  {
   "cell_type": "code",
   "execution_count": 124,
   "id": "14113050",
   "metadata": {},
   "outputs": [
    {
     "data": {
      "text/html": [
       "<div>\n",
       "<style scoped>\n",
       "    .dataframe tbody tr th:only-of-type {\n",
       "        vertical-align: middle;\n",
       "    }\n",
       "\n",
       "    .dataframe tbody tr th {\n",
       "        vertical-align: top;\n",
       "    }\n",
       "\n",
       "    .dataframe thead th {\n",
       "        text-align: right;\n",
       "    }\n",
       "</style>\n",
       "<table border=\"1\" class=\"dataframe\">\n",
       "  <thead>\n",
       "    <tr style=\"text-align: right;\">\n",
       "      <th></th>\n",
       "      <th>sitio</th>\n",
       "      <th>Nacional ó Internacional</th>\n",
       "      <th>Calificacion</th>\n",
       "      <th>Desviacion</th>\n",
       "    </tr>\n",
       "  </thead>\n",
       "  <tbody>\n",
       "    <tr>\n",
       "      <th>0</th>\n",
       "      <td>Alhóndiga</td>\n",
       "      <td>Internacional</td>\n",
       "      <td>4.496667</td>\n",
       "      <td>0.681815</td>\n",
       "    </tr>\n",
       "    <tr>\n",
       "      <th>1</th>\n",
       "      <td>Alhóndiga</td>\n",
       "      <td>Nacional</td>\n",
       "      <td>4.434921</td>\n",
       "      <td>0.774013</td>\n",
       "    </tr>\n",
       "    <tr>\n",
       "      <th>2</th>\n",
       "      <td>Basílica &lt;br&gt;Colegiata</td>\n",
       "      <td>Internacional</td>\n",
       "      <td>4.496479</td>\n",
       "      <td>0.659255</td>\n",
       "    </tr>\n",
       "    <tr>\n",
       "      <th>3</th>\n",
       "      <td>Basílica &lt;br&gt;Colegiata</td>\n",
       "      <td>Nacional</td>\n",
       "      <td>4.503623</td>\n",
       "      <td>0.679562</td>\n",
       "    </tr>\n",
       "    <tr>\n",
       "      <th>4</th>\n",
       "      <td>Callejón del&lt;br&gt;Beso</td>\n",
       "      <td>Internacional</td>\n",
       "      <td>3.853791</td>\n",
       "      <td>0.991060</td>\n",
       "    </tr>\n",
       "    <tr>\n",
       "      <th>5</th>\n",
       "      <td>Callejón del&lt;br&gt;Beso</td>\n",
       "      <td>Nacional</td>\n",
       "      <td>4.093052</td>\n",
       "      <td>0.945746</td>\n",
       "    </tr>\n",
       "    <tr>\n",
       "      <th>6</th>\n",
       "      <td>Casa de&lt;br&gt;Diego Rivera</td>\n",
       "      <td>Internacional</td>\n",
       "      <td>4.182243</td>\n",
       "      <td>0.818099</td>\n",
       "    </tr>\n",
       "    <tr>\n",
       "      <th>7</th>\n",
       "      <td>Casa de&lt;br&gt;Diego Rivera</td>\n",
       "      <td>Nacional</td>\n",
       "      <td>4.340741</td>\n",
       "      <td>0.772799</td>\n",
       "    </tr>\n",
       "    <tr>\n",
       "      <th>8</th>\n",
       "      <td>Jardín de&lt;br&gt;la Unión</td>\n",
       "      <td>Internacional</td>\n",
       "      <td>4.583630</td>\n",
       "      <td>0.615558</td>\n",
       "    </tr>\n",
       "    <tr>\n",
       "      <th>9</th>\n",
       "      <td>Jardín de&lt;br&gt;la Unión</td>\n",
       "      <td>Nacional</td>\n",
       "      <td>4.599650</td>\n",
       "      <td>0.599650</td>\n",
       "    </tr>\n",
       "    <tr>\n",
       "      <th>10</th>\n",
       "      <td>Mercado&lt;br&gt;Hidalgo</td>\n",
       "      <td>Internacional</td>\n",
       "      <td>4.026578</td>\n",
       "      <td>0.894031</td>\n",
       "    </tr>\n",
       "    <tr>\n",
       "      <th>11</th>\n",
       "      <td>Mercado&lt;br&gt;Hidalgo</td>\n",
       "      <td>Nacional</td>\n",
       "      <td>3.869565</td>\n",
       "      <td>0.999854</td>\n",
       "    </tr>\n",
       "    <tr>\n",
       "      <th>12</th>\n",
       "      <td>Monumento&lt;br&gt;Pípila</td>\n",
       "      <td>Internacional</td>\n",
       "      <td>4.426347</td>\n",
       "      <td>0.737990</td>\n",
       "    </tr>\n",
       "    <tr>\n",
       "      <th>13</th>\n",
       "      <td>Monumento&lt;br&gt;Pípila</td>\n",
       "      <td>Nacional</td>\n",
       "      <td>4.326115</td>\n",
       "      <td>0.795807</td>\n",
       "    </tr>\n",
       "    <tr>\n",
       "      <th>14</th>\n",
       "      <td>Museo de&lt;br&gt;las Momias</td>\n",
       "      <td>Internacional</td>\n",
       "      <td>3.705446</td>\n",
       "      <td>1.155717</td>\n",
       "    </tr>\n",
       "    <tr>\n",
       "      <th>15</th>\n",
       "      <td>Museo de&lt;br&gt;las Momias</td>\n",
       "      <td>Nacional</td>\n",
       "      <td>3.646081</td>\n",
       "      <td>1.117652</td>\n",
       "    </tr>\n",
       "    <tr>\n",
       "      <th>16</th>\n",
       "      <td>Teatro&lt;br&gt;Juárez</td>\n",
       "      <td>Internacional</td>\n",
       "      <td>4.608491</td>\n",
       "      <td>0.573260</td>\n",
       "    </tr>\n",
       "    <tr>\n",
       "      <th>17</th>\n",
       "      <td>Teatro&lt;br&gt;Juárez</td>\n",
       "      <td>Nacional</td>\n",
       "      <td>4.771331</td>\n",
       "      <td>0.462912</td>\n",
       "    </tr>\n",
       "    <tr>\n",
       "      <th>18</th>\n",
       "      <td>Universidad de&lt;br&gt;Guanajuato</td>\n",
       "      <td>Internacional</td>\n",
       "      <td>4.422018</td>\n",
       "      <td>0.725862</td>\n",
       "    </tr>\n",
       "    <tr>\n",
       "      <th>19</th>\n",
       "      <td>Universidad de&lt;br&gt;Guanajuato</td>\n",
       "      <td>Nacional</td>\n",
       "      <td>4.706806</td>\n",
       "      <td>0.509942</td>\n",
       "    </tr>\n",
       "  </tbody>\n",
       "</table>\n",
       "</div>"
      ],
      "text/plain": [
       "                           sitio Nacional ó Internacional  Calificacion  \\\n",
       "0                      Alhóndiga            Internacional      4.496667   \n",
       "1                      Alhóndiga                 Nacional      4.434921   \n",
       "2         Basílica <br>Colegiata            Internacional      4.496479   \n",
       "3         Basílica <br>Colegiata                 Nacional      4.503623   \n",
       "4           Callejón del<br>Beso            Internacional      3.853791   \n",
       "5           Callejón del<br>Beso                 Nacional      4.093052   \n",
       "6        Casa de<br>Diego Rivera            Internacional      4.182243   \n",
       "7        Casa de<br>Diego Rivera                 Nacional      4.340741   \n",
       "8          Jardín de<br>la Unión            Internacional      4.583630   \n",
       "9          Jardín de<br>la Unión                 Nacional      4.599650   \n",
       "10            Mercado<br>Hidalgo            Internacional      4.026578   \n",
       "11            Mercado<br>Hidalgo                 Nacional      3.869565   \n",
       "12           Monumento<br>Pípila            Internacional      4.426347   \n",
       "13           Monumento<br>Pípila                 Nacional      4.326115   \n",
       "14        Museo de<br>las Momias            Internacional      3.705446   \n",
       "15        Museo de<br>las Momias                 Nacional      3.646081   \n",
       "16              Teatro<br>Juárez            Internacional      4.608491   \n",
       "17              Teatro<br>Juárez                 Nacional      4.771331   \n",
       "18  Universidad de<br>Guanajuato            Internacional      4.422018   \n",
       "19  Universidad de<br>Guanajuato                 Nacional      4.706806   \n",
       "\n",
       "    Desviacion  \n",
       "0     0.681815  \n",
       "1     0.774013  \n",
       "2     0.659255  \n",
       "3     0.679562  \n",
       "4     0.991060  \n",
       "5     0.945746  \n",
       "6     0.818099  \n",
       "7     0.772799  \n",
       "8     0.615558  \n",
       "9     0.599650  \n",
       "10    0.894031  \n",
       "11    0.999854  \n",
       "12    0.737990  \n",
       "13    0.795807  \n",
       "14    1.155717  \n",
       "15    1.117652  \n",
       "16    0.573260  \n",
       "17    0.462912  \n",
       "18    0.725862  \n",
       "19    0.509942  "
      ]
     },
     "execution_count": 124,
     "metadata": {},
     "output_type": "execute_result"
    }
   ],
   "source": [
    "nacionalidad_calificacion_sitio = all_sites.groupby(['sitio', 'Nacional ó Internacional'])['Escala'].agg(\n",
    "    Calificacion='mean',\n",
    "    Desviacion='std',\n",
    ").reset_index()\n",
    "\n",
    "\n",
    "nacionalidad_calificacion_sitio.head(25)"
   ]
  },
  {
   "cell_type": "code",
   "execution_count": 125,
   "id": "fd1d0995",
   "metadata": {},
   "outputs": [
    {
     "data": {
      "application/vnd.plotly.v1+json": {
       "config": {
        "plotlyServerURL": "https://plot.ly"
       },
       "data": [
        {
         "alignmentgroup": "True",
         "customdata": [
          [
           4.496666666666667,
           0.6818150738079902,
           "Alhóndiga",
           "Internacional"
          ],
          [
           4.496478873239437,
           0.6592545283280102,
           "Basílica <br>Colegiata",
           "Internacional"
          ],
          [
           3.8537906137184117,
           0.9910604396997079,
           "Callejón del<br>Beso",
           "Internacional"
          ],
          [
           4.182242990654205,
           0.8180989082753047,
           "Casa de<br>Diego Rivera",
           "Internacional"
          ],
          [
           4.5836298932384345,
           0.6155579400607425,
           "Jardín de<br>la Unión",
           "Internacional"
          ],
          [
           4.026578073089701,
           0.894030900687596,
           "Mercado<br>Hidalgo",
           "Internacional"
          ],
          [
           4.426347305389221,
           0.7379896531491482,
           "Monumento<br>Pípila",
           "Internacional"
          ],
          [
           3.7054455445544554,
           1.155717450239485,
           "Museo de<br>las Momias",
           "Internacional"
          ],
          [
           4.6084905660377355,
           0.5732604150444098,
           "Teatro<br>Juárez",
           "Internacional"
          ],
          [
           4.422018348623853,
           0.7258620174481869,
           "Universidad de<br>Guanajuato",
           "Internacional"
          ]
         ],
         "error_y": {
          "array": {
           "bdata": "yJp92G3R5T8mFN3znBjlP/nTG2LEtu8/kPH9wt0t6j8cVKuQprLjP/0hArHmm+w/s/shepyd5z8cH8OU0X3yP8ig1jkmWOI/RidL+0I65z8=",
           "dtype": "f8"
          }
         },
         "hovertemplate": "<b>%{customdata[2]}</b><br>Tipo: %{customdata[3]}<br>Calificación: %{customdata[0]:.2f}<br>Desviación: ±%{customdata[1]:.2f}<extra></extra>",
         "legendgroup": "Internacional",
         "marker": {
          "color": "#EC407A",
          "line": {
           "color": "#333",
           "width": 2
          },
          "pattern": {
           "shape": ""
          }
         },
         "name": "Internacional",
         "offsetgroup": "Internacional",
         "opacity": 0.95,
         "orientation": "v",
         "showlegend": true,
         "text": {
          "bdata": "/WLJL5b8EUCN3y71ZPwRQDVrXCyQ1A5A4yMT6J26EEBMtSETo1USQAfYSkg3GxBAqIlVY5S0EUArwzeiwKQNQPY5pCYYbxJAApv2kyWwEUA=",
          "dtype": "f8"
         },
         "textfont": {
          "size": 14
         },
         "textposition": "outside",
         "texttemplate": "<b>%{text:.2f}</b>",
         "type": "bar",
         "x": [
          "Alhóndiga",
          "Basílica <br>Colegiata",
          "Callejón del<br>Beso",
          "Casa de<br>Diego Rivera",
          "Jardín de<br>la Unión",
          "Mercado<br>Hidalgo",
          "Monumento<br>Pípila",
          "Museo de<br>las Momias",
          "Teatro<br>Juárez",
          "Universidad de<br>Guanajuato"
         ],
         "xaxis": "x",
         "y": {
          "bdata": "/WLJL5b8EUCN3y71ZPwRQDVrXCyQ1A5A4yMT6J26EEBMtSETo1USQAfYSkg3GxBAqIlVY5S0EUArwzeiwKQNQPY5pCYYbxJAApv2kyWwEUA=",
          "dtype": "f8"
         },
         "yaxis": "y"
        },
        {
         "alignmentgroup": "True",
         "customdata": [
          [
           4.434920634920635,
           0.7740132915959278,
           "Alhóndiga",
           "Nacional"
          ],
          [
           4.503623188405797,
           0.679562364016442,
           "Basílica <br>Colegiata",
           "Nacional"
          ],
          [
           4.093052109181142,
           0.9457463396155265,
           "Callejón del<br>Beso",
           "Nacional"
          ],
          [
           4.340740740740741,
           0.7727993142585005,
           "Casa de<br>Diego Rivera",
           "Nacional"
          ],
          [
           4.59965034965035,
           0.599649532889085,
           "Jardín de<br>la Unión",
           "Nacional"
          ],
          [
           3.869565217391304,
           0.9998540891507518,
           "Mercado<br>Hidalgo",
           "Nacional"
          ],
          [
           4.326114649681529,
           0.7958074529336899,
           "Monumento<br>Pípila",
           "Nacional"
          ],
          [
           3.646080760095012,
           1.1176521523002567,
           "Museo de<br>las Momias",
           "Nacional"
          ],
          [
           4.771331058020478,
           0.4629123004474451,
           "Teatro<br>Juárez",
           "Nacional"
          ],
          [
           4.706806282722513,
           0.5099421595772451,
           "Universidad de<br>Guanajuato",
           "Nacional"
          ]
         ],
         "error_y": {
          "array": {
           "bdata": "v1zChbfE6D/LYCGS+b7lP4+73tONQ+4/S5GjoMW66D/eP5o3VDDjP0GUtQDO/u8/m2wIMUF36T8V8CY55+HxPzOg1elaoN0/VoxHOHJR4D8=",
           "dtype": "f8"
          }
         },
         "hovertemplate": "<b>%{customdata[2]}</b><br>Tipo: %{customdata[3]}<br>Calificación: %{customdata[0]:.2f}<br>Desviación: ±%{customdata[1]:.2f}<extra></extra>",
         "legendgroup": "Nacional",
         "marker": {
          "color": "#29B6F6",
          "line": {
           "color": "#333",
           "width": 2
          },
          "pattern": {
           "shape": ""
          }
         },
         "name": "Nacional",
         "offsetgroup": "Nacional",
         "opacity": 0.95,
         "orientation": "v",
         "showlegend": true,
         "text": {
          "bdata": "1lu91Vu9EUAw1w7MtQMSQP0GVw1JXxBAz5UHJOtcEUAEIsO9CmYSQG9605ve9A5AwIOs//BNEUCTdrljLCsNQB9ZEs/XFRNAI5qzBsXTEkA=",
          "dtype": "f8"
         },
         "textfont": {
          "size": 14
         },
         "textposition": "outside",
         "texttemplate": "<b>%{text:.2f}</b>",
         "type": "bar",
         "x": [
          "Alhóndiga",
          "Basílica <br>Colegiata",
          "Callejón del<br>Beso",
          "Casa de<br>Diego Rivera",
          "Jardín de<br>la Unión",
          "Mercado<br>Hidalgo",
          "Monumento<br>Pípila",
          "Museo de<br>las Momias",
          "Teatro<br>Juárez",
          "Universidad de<br>Guanajuato"
         ],
         "xaxis": "x",
         "y": {
          "bdata": "1lu91Vu9EUAw1w7MtQMSQP0GVw1JXxBAz5UHJOtcEUAEIsO9CmYSQG9605ve9A5AwIOs//BNEUCTdrljLCsNQB9ZEs/XFRNAI5qzBsXTEkA=",
          "dtype": "f8"
         },
         "yaxis": "y"
        }
       ],
       "layout": {
        "bargap": 0.25,
        "bargroupgap": 0.08,
        "barmode": "group",
        "font": {
         "color": "#34495e",
         "family": "DejaVu Sans",
         "size": 15
        },
        "hoverlabel": {
         "bgcolor": "white",
         "font": {
          "family": "DejaVu Sans",
          "size": 13
         }
        },
        "legend": {
         "font": {
          "size": 14
         },
         "orientation": "h",
         "title": {
          "text": "Tipo de visitante"
         },
         "tracegroupgap": 0,
         "x": 1,
         "xanchor": "right",
         "y": 1.02,
         "yanchor": "bottom"
        },
        "margin": {
         "b": 80,
         "l": 40,
         "r": 40,
         "t": 80
        },
        "paper_bgcolor": "#e3f2fd",
        "plot_bgcolor": "#f8fafc",
        "template": {
         "data": {
          "bar": [
           {
            "error_x": {
             "color": "#2a3f5f"
            },
            "error_y": {
             "color": "#2a3f5f"
            },
            "marker": {
             "line": {
              "color": "#E5ECF6",
              "width": 0.5
             },
             "pattern": {
              "fillmode": "overlay",
              "size": 10,
              "solidity": 0.2
             }
            },
            "type": "bar"
           }
          ],
          "barpolar": [
           {
            "marker": {
             "line": {
              "color": "#E5ECF6",
              "width": 0.5
             },
             "pattern": {
              "fillmode": "overlay",
              "size": 10,
              "solidity": 0.2
             }
            },
            "type": "barpolar"
           }
          ],
          "carpet": [
           {
            "aaxis": {
             "endlinecolor": "#2a3f5f",
             "gridcolor": "white",
             "linecolor": "white",
             "minorgridcolor": "white",
             "startlinecolor": "#2a3f5f"
            },
            "baxis": {
             "endlinecolor": "#2a3f5f",
             "gridcolor": "white",
             "linecolor": "white",
             "minorgridcolor": "white",
             "startlinecolor": "#2a3f5f"
            },
            "type": "carpet"
           }
          ],
          "choropleth": [
           {
            "colorbar": {
             "outlinewidth": 0,
             "ticks": ""
            },
            "type": "choropleth"
           }
          ],
          "contour": [
           {
            "colorbar": {
             "outlinewidth": 0,
             "ticks": ""
            },
            "colorscale": [
             [
              0,
              "#0d0887"
             ],
             [
              0.1111111111111111,
              "#46039f"
             ],
             [
              0.2222222222222222,
              "#7201a8"
             ],
             [
              0.3333333333333333,
              "#9c179e"
             ],
             [
              0.4444444444444444,
              "#bd3786"
             ],
             [
              0.5555555555555556,
              "#d8576b"
             ],
             [
              0.6666666666666666,
              "#ed7953"
             ],
             [
              0.7777777777777778,
              "#fb9f3a"
             ],
             [
              0.8888888888888888,
              "#fdca26"
             ],
             [
              1,
              "#f0f921"
             ]
            ],
            "type": "contour"
           }
          ],
          "contourcarpet": [
           {
            "colorbar": {
             "outlinewidth": 0,
             "ticks": ""
            },
            "type": "contourcarpet"
           }
          ],
          "heatmap": [
           {
            "colorbar": {
             "outlinewidth": 0,
             "ticks": ""
            },
            "colorscale": [
             [
              0,
              "#0d0887"
             ],
             [
              0.1111111111111111,
              "#46039f"
             ],
             [
              0.2222222222222222,
              "#7201a8"
             ],
             [
              0.3333333333333333,
              "#9c179e"
             ],
             [
              0.4444444444444444,
              "#bd3786"
             ],
             [
              0.5555555555555556,
              "#d8576b"
             ],
             [
              0.6666666666666666,
              "#ed7953"
             ],
             [
              0.7777777777777778,
              "#fb9f3a"
             ],
             [
              0.8888888888888888,
              "#fdca26"
             ],
             [
              1,
              "#f0f921"
             ]
            ],
            "type": "heatmap"
           }
          ],
          "histogram": [
           {
            "marker": {
             "pattern": {
              "fillmode": "overlay",
              "size": 10,
              "solidity": 0.2
             }
            },
            "type": "histogram"
           }
          ],
          "histogram2d": [
           {
            "colorbar": {
             "outlinewidth": 0,
             "ticks": ""
            },
            "colorscale": [
             [
              0,
              "#0d0887"
             ],
             [
              0.1111111111111111,
              "#46039f"
             ],
             [
              0.2222222222222222,
              "#7201a8"
             ],
             [
              0.3333333333333333,
              "#9c179e"
             ],
             [
              0.4444444444444444,
              "#bd3786"
             ],
             [
              0.5555555555555556,
              "#d8576b"
             ],
             [
              0.6666666666666666,
              "#ed7953"
             ],
             [
              0.7777777777777778,
              "#fb9f3a"
             ],
             [
              0.8888888888888888,
              "#fdca26"
             ],
             [
              1,
              "#f0f921"
             ]
            ],
            "type": "histogram2d"
           }
          ],
          "histogram2dcontour": [
           {
            "colorbar": {
             "outlinewidth": 0,
             "ticks": ""
            },
            "colorscale": [
             [
              0,
              "#0d0887"
             ],
             [
              0.1111111111111111,
              "#46039f"
             ],
             [
              0.2222222222222222,
              "#7201a8"
             ],
             [
              0.3333333333333333,
              "#9c179e"
             ],
             [
              0.4444444444444444,
              "#bd3786"
             ],
             [
              0.5555555555555556,
              "#d8576b"
             ],
             [
              0.6666666666666666,
              "#ed7953"
             ],
             [
              0.7777777777777778,
              "#fb9f3a"
             ],
             [
              0.8888888888888888,
              "#fdca26"
             ],
             [
              1,
              "#f0f921"
             ]
            ],
            "type": "histogram2dcontour"
           }
          ],
          "mesh3d": [
           {
            "colorbar": {
             "outlinewidth": 0,
             "ticks": ""
            },
            "type": "mesh3d"
           }
          ],
          "parcoords": [
           {
            "line": {
             "colorbar": {
              "outlinewidth": 0,
              "ticks": ""
             }
            },
            "type": "parcoords"
           }
          ],
          "pie": [
           {
            "automargin": true,
            "type": "pie"
           }
          ],
          "scatter": [
           {
            "fillpattern": {
             "fillmode": "overlay",
             "size": 10,
             "solidity": 0.2
            },
            "type": "scatter"
           }
          ],
          "scatter3d": [
           {
            "line": {
             "colorbar": {
              "outlinewidth": 0,
              "ticks": ""
             }
            },
            "marker": {
             "colorbar": {
              "outlinewidth": 0,
              "ticks": ""
             }
            },
            "type": "scatter3d"
           }
          ],
          "scattercarpet": [
           {
            "marker": {
             "colorbar": {
              "outlinewidth": 0,
              "ticks": ""
             }
            },
            "type": "scattercarpet"
           }
          ],
          "scattergeo": [
           {
            "marker": {
             "colorbar": {
              "outlinewidth": 0,
              "ticks": ""
             }
            },
            "type": "scattergeo"
           }
          ],
          "scattergl": [
           {
            "marker": {
             "colorbar": {
              "outlinewidth": 0,
              "ticks": ""
             }
            },
            "type": "scattergl"
           }
          ],
          "scattermap": [
           {
            "marker": {
             "colorbar": {
              "outlinewidth": 0,
              "ticks": ""
             }
            },
            "type": "scattermap"
           }
          ],
          "scattermapbox": [
           {
            "marker": {
             "colorbar": {
              "outlinewidth": 0,
              "ticks": ""
             }
            },
            "type": "scattermapbox"
           }
          ],
          "scatterpolar": [
           {
            "marker": {
             "colorbar": {
              "outlinewidth": 0,
              "ticks": ""
             }
            },
            "type": "scatterpolar"
           }
          ],
          "scatterpolargl": [
           {
            "marker": {
             "colorbar": {
              "outlinewidth": 0,
              "ticks": ""
             }
            },
            "type": "scatterpolargl"
           }
          ],
          "scatterternary": [
           {
            "marker": {
             "colorbar": {
              "outlinewidth": 0,
              "ticks": ""
             }
            },
            "type": "scatterternary"
           }
          ],
          "surface": [
           {
            "colorbar": {
             "outlinewidth": 0,
             "ticks": ""
            },
            "colorscale": [
             [
              0,
              "#0d0887"
             ],
             [
              0.1111111111111111,
              "#46039f"
             ],
             [
              0.2222222222222222,
              "#7201a8"
             ],
             [
              0.3333333333333333,
              "#9c179e"
             ],
             [
              0.4444444444444444,
              "#bd3786"
             ],
             [
              0.5555555555555556,
              "#d8576b"
             ],
             [
              0.6666666666666666,
              "#ed7953"
             ],
             [
              0.7777777777777778,
              "#fb9f3a"
             ],
             [
              0.8888888888888888,
              "#fdca26"
             ],
             [
              1,
              "#f0f921"
             ]
            ],
            "type": "surface"
           }
          ],
          "table": [
           {
            "cells": {
             "fill": {
              "color": "#EBF0F8"
             },
             "line": {
              "color": "white"
             }
            },
            "header": {
             "fill": {
              "color": "#C8D4E3"
             },
             "line": {
              "color": "white"
             }
            },
            "type": "table"
           }
          ]
         },
         "layout": {
          "annotationdefaults": {
           "arrowcolor": "#2a3f5f",
           "arrowhead": 0,
           "arrowwidth": 1
          },
          "autotypenumbers": "strict",
          "coloraxis": {
           "colorbar": {
            "outlinewidth": 0,
            "ticks": ""
           }
          },
          "colorscale": {
           "diverging": [
            [
             0,
             "#8e0152"
            ],
            [
             0.1,
             "#c51b7d"
            ],
            [
             0.2,
             "#de77ae"
            ],
            [
             0.3,
             "#f1b6da"
            ],
            [
             0.4,
             "#fde0ef"
            ],
            [
             0.5,
             "#f7f7f7"
            ],
            [
             0.6,
             "#e6f5d0"
            ],
            [
             0.7,
             "#b8e186"
            ],
            [
             0.8,
             "#7fbc41"
            ],
            [
             0.9,
             "#4d9221"
            ],
            [
             1,
             "#276419"
            ]
           ],
           "sequential": [
            [
             0,
             "#0d0887"
            ],
            [
             0.1111111111111111,
             "#46039f"
            ],
            [
             0.2222222222222222,
             "#7201a8"
            ],
            [
             0.3333333333333333,
             "#9c179e"
            ],
            [
             0.4444444444444444,
             "#bd3786"
            ],
            [
             0.5555555555555556,
             "#d8576b"
            ],
            [
             0.6666666666666666,
             "#ed7953"
            ],
            [
             0.7777777777777778,
             "#fb9f3a"
            ],
            [
             0.8888888888888888,
             "#fdca26"
            ],
            [
             1,
             "#f0f921"
            ]
           ],
           "sequentialminus": [
            [
             0,
             "#0d0887"
            ],
            [
             0.1111111111111111,
             "#46039f"
            ],
            [
             0.2222222222222222,
             "#7201a8"
            ],
            [
             0.3333333333333333,
             "#9c179e"
            ],
            [
             0.4444444444444444,
             "#bd3786"
            ],
            [
             0.5555555555555556,
             "#d8576b"
            ],
            [
             0.6666666666666666,
             "#ed7953"
            ],
            [
             0.7777777777777778,
             "#fb9f3a"
            ],
            [
             0.8888888888888888,
             "#fdca26"
            ],
            [
             1,
             "#f0f921"
            ]
           ]
          },
          "colorway": [
           "#636efa",
           "#EF553B",
           "#00cc96",
           "#ab63fa",
           "#FFA15A",
           "#19d3f3",
           "#FF6692",
           "#B6E880",
           "#FF97FF",
           "#FECB52"
          ],
          "font": {
           "color": "#2a3f5f"
          },
          "geo": {
           "bgcolor": "white",
           "lakecolor": "white",
           "landcolor": "#E5ECF6",
           "showlakes": true,
           "showland": true,
           "subunitcolor": "white"
          },
          "hoverlabel": {
           "align": "left"
          },
          "hovermode": "closest",
          "mapbox": {
           "style": "light"
          },
          "paper_bgcolor": "white",
          "plot_bgcolor": "#E5ECF6",
          "polar": {
           "angularaxis": {
            "gridcolor": "white",
            "linecolor": "white",
            "ticks": ""
           },
           "bgcolor": "#E5ECF6",
           "radialaxis": {
            "gridcolor": "white",
            "linecolor": "white",
            "ticks": ""
           }
          },
          "scene": {
           "xaxis": {
            "backgroundcolor": "#E5ECF6",
            "gridcolor": "white",
            "gridwidth": 2,
            "linecolor": "white",
            "showbackground": true,
            "ticks": "",
            "zerolinecolor": "white"
           },
           "yaxis": {
            "backgroundcolor": "#E5ECF6",
            "gridcolor": "white",
            "gridwidth": 2,
            "linecolor": "white",
            "showbackground": true,
            "ticks": "",
            "zerolinecolor": "white"
           },
           "zaxis": {
            "backgroundcolor": "#E5ECF6",
            "gridcolor": "white",
            "gridwidth": 2,
            "linecolor": "white",
            "showbackground": true,
            "ticks": "",
            "zerolinecolor": "white"
           }
          },
          "shapedefaults": {
           "line": {
            "color": "#2a3f5f"
           }
          },
          "ternary": {
           "aaxis": {
            "gridcolor": "white",
            "linecolor": "white",
            "ticks": ""
           },
           "baxis": {
            "gridcolor": "white",
            "linecolor": "white",
            "ticks": ""
           },
           "bgcolor": "#E5ECF6",
           "caxis": {
            "gridcolor": "white",
            "linecolor": "white",
            "ticks": ""
           }
          },
          "title": {
           "x": 0.05
          },
          "xaxis": {
           "automargin": true,
           "gridcolor": "white",
           "linecolor": "white",
           "ticks": "",
           "title": {
            "standoff": 15
           },
           "zerolinecolor": "white",
           "zerolinewidth": 2
          },
          "yaxis": {
           "automargin": true,
           "gridcolor": "white",
           "linecolor": "white",
           "ticks": "",
           "title": {
            "standoff": 15
           },
           "zerolinecolor": "white",
           "zerolinewidth": 2
          }
         }
        },
        "title": {
         "text": "<b>Calificación Promedio de Sitios Turísticos</b><br><sup>Nacionales vs Internacionales</sup>"
        },
        "xaxis": {
         "anchor": "y",
         "domain": [
          0,
          1
         ],
         "tickangle": -30,
         "title": {
          "text": "Sitio Turístico"
         }
        },
        "yaxis": {
         "anchor": "x",
         "domain": [
          0,
          1
         ],
         "gridcolor": "#b2bec3",
         "gridwidth": 0.5,
         "range": [
          0,
          5.5
         ],
         "title": {
          "text": "Calificación promedio (1-5)"
         }
        }
       }
      }
     },
     "metadata": {},
     "output_type": "display_data"
    }
   ],
   "source": [
    "fig = px.bar(\n",
    "    nacionalidad_calificacion_sitio,\n",
    "    x='sitio',\n",
    "    y='Calificacion',\n",
    "    color='Nacional ó Internacional',\n",
    "    barmode='group',\n",
    "    error_y='Desviacion',\n",
    "    text='Calificacion',\n",
    "    title='<b>Calificación Promedio de Sitios Turísticos</b><br><sup>Nacionales vs Internacionales</sup>',\n",
    "    labels={'Calificacion': 'Calificación promedio', 'sitio': 'Sitio Turístico'},\n",
    "    hover_data={\n",
    "        'Calificacion': ':.2f',\n",
    "        'Desviacion': ':.2f',\n",
    "        'sitio': True,\n",
    "        'Nacional ó Internacional': True\n",
    "    },\n",
    "    color_discrete_map={\n",
    "        'Nacional': turismo_colors[2],        # Azul vibrante\n",
    "        'Internacional': turismo_colors[5]    # Rosa mexicano\n",
    "    },\n",
    "    custom_data=['Calificacion', 'Desviacion', 'sitio', 'Nacional ó Internacional']\n",
    ")\n",
    "\n",
    "fig.update_traces(\n",
    "    texttemplate='<b>%{text:.2f}</b>',\n",
    "    textposition='outside',\n",
    "    textfont_size=14,\n",
    "    marker_line_color='#333',\n",
    "    marker_line_width=2,\n",
    "    opacity=0.95,\n",
    "    hovertemplate=(\n",
    "        \"<b>%{customdata[2]}</b><br>\"\n",
    "        \"Tipo: %{customdata[3]}<br>\"\n",
    "        \"Calificación: %{customdata[0]:.2f}<br>\"\n",
    "        \"Desviación: ±%{customdata[1]:.2f}<extra></extra>\"\n",
    "    )\n",
    ")\n",
    "\n",
    "fig.update_layout(\n",
    "    xaxis_tickangle=-30,\n",
    "    yaxis=dict(\n",
    "        range=[0, 5.5],\n",
    "        title='Calificación promedio (1-5)',\n",
    "        gridcolor='#b2bec3',\n",
    "        gridwidth=0.5\n",
    "    ),\n",
    "    bargap=0.25,\n",
    "    bargroupgap=0.08,\n",
    "    plot_bgcolor='#f8fafc',\n",
    "    paper_bgcolor='#e3f2fd',\n",
    "    font=dict(family=\"DejaVu Sans\", size=15, color='#34495e'),\n",
    "    legend=dict(\n",
    "        title_text='Tipo de visitante',\n",
    "        orientation=\"h\",\n",
    "        yanchor=\"bottom\",\n",
    "        y=1.02,\n",
    "        xanchor=\"right\",\n",
    "        x=1,\n",
    "        font=dict(size=14)\n",
    "    ),\n",
    "    margin=dict(l=40, r=40, t=80, b=80),\n",
    "    hoverlabel=dict(\n",
    "        bgcolor=\"white\",\n",
    "        font_size=13,\n",
    "        font_family=\"DejaVu Sans\"\n",
    "    )\n",
    ")\n",
    "\n",
    "fig.show()"
   ]
  }
 ],
 "metadata": {
  "kernelspec": {
   "display_name": "semestre_IV",
   "language": "python",
   "name": "python3"
  },
  "language_info": {
   "codemirror_mode": {
    "name": "ipython",
    "version": 3
   },
   "file_extension": ".py",
   "mimetype": "text/x-python",
   "name": "python",
   "nbconvert_exporter": "python",
   "pygments_lexer": "ipython3",
   "version": "3.11.11"
  }
 },
 "nbformat": 4,
 "nbformat_minor": 5
}
